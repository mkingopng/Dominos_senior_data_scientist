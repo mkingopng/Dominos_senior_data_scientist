{
 "cells": [
  {
   "cell_type": "code",
   "id": "initial_id",
   "metadata": {
    "collapsed": true,
    "ExecuteTime": {
     "end_time": "2024-08-04T12:21:57.497662Z",
     "start_time": "2024-08-04T12:21:57.495397Z"
    }
   },
   "source": [
    "import statsmodels.api as sm\n",
    "from statsmodels.tools.tools import add_constant\n",
    "import pandas as pd\n",
    "import matplotlib.pyplot as plt\n",
    "import numpy as np\n",
    "import numdifftools as nd"
   ],
   "outputs": [],
   "execution_count": 38
  },
  {
   "metadata": {
    "ExecuteTime": {
     "end_time": "2024-08-04T12:21:57.667957Z",
     "start_time": "2024-08-04T12:21:57.664960Z"
    }
   },
   "cell_type": "code",
   "source": "df = pd.read_csv('./../data/price_elasticity_data.csv')",
   "id": "52ff7b590d316f23",
   "outputs": [],
   "execution_count": 39
  },
  {
   "metadata": {
    "ExecuteTime": {
     "end_time": "2024-08-04T12:21:57.686134Z",
     "start_time": "2024-08-04T12:21:57.683202Z"
    }
   },
   "cell_type": "code",
   "source": "df.isnull().sum()",
   "id": "3fd5451711ed38bc",
   "outputs": [
    {
     "data": {
      "text/plain": [
       "Product              0\n",
       "Menu_Price           0\n",
       "Pizza_Count          0\n",
       "Profit_Percentage    0\n",
       "dtype: int64"
      ]
     },
     "execution_count": 40,
     "metadata": {},
     "output_type": "execute_result"
    }
   ],
   "execution_count": 40
  },
  {
   "metadata": {},
   "cell_type": "markdown",
   "source": "rename columns",
   "id": "97ddb8be77c08d69"
  },
  {
   "metadata": {
    "ExecuteTime": {
     "end_time": "2024-08-04T12:21:57.695132Z",
     "start_time": "2024-08-04T12:21:57.693134Z"
    }
   },
   "cell_type": "code",
   "source": [
    "names = {'Menu_Price': 'unit_price', 'Pizza_Count': 'quantity', 'Profit_Percentage': 'profit_percentage'}\n",
    "df.rename(columns=names, inplace=True)"
   ],
   "id": "b08af406e478e6a5",
   "outputs": [],
   "execution_count": 41
  },
  {
   "metadata": {},
   "cell_type": "markdown",
   "source": "# calculate additional features",
   "id": "cf7be6bf7cefb0f8"
  },
  {
   "metadata": {
    "ExecuteTime": {
     "end_time": "2024-08-04T12:21:57.740382Z",
     "start_time": "2024-08-04T12:21:57.737205Z"
    }
   },
   "cell_type": "code",
   "source": [
    "df['gross_margin'] = df['profit_percentage'] / 100\n",
    "df['gross_profit'] = df['unit_price'] * (1 - df['gross_margin'])\n",
    "df['cost'] = df['unit_price'] - df['gross_profit']"
   ],
   "id": "d4016c63cb251f9",
   "outputs": [],
   "execution_count": 42
  },
  {
   "metadata": {},
   "cell_type": "markdown",
   "source": "# Subset the dataframe for 'Individuale' product and create a copy",
   "id": "a8b76427d63510ab"
  },
  {
   "metadata": {
    "ExecuteTime": {
     "end_time": "2024-08-04T12:21:57.749683Z",
     "start_time": "2024-08-04T12:21:57.747310Z"
    }
   },
   "cell_type": "code",
   "source": "individuale_df = df[df['Product'] == 'Individuale'].copy()",
   "id": "5b75cf40a4e4fae3",
   "outputs": [],
   "execution_count": 43
  },
  {
   "metadata": {
    "ExecuteTime": {
     "end_time": "2024-08-04T12:21:57.763230Z",
     "start_time": "2024-08-04T12:21:57.760160Z"
    }
   },
   "cell_type": "code",
   "source": "individuale_df.isnull().sum()",
   "id": "773e4b46595fed6f",
   "outputs": [
    {
     "data": {
      "text/plain": [
       "Product              0\n",
       "unit_price           0\n",
       "quantity             0\n",
       "profit_percentage    0\n",
       "gross_margin         0\n",
       "gross_profit         0\n",
       "cost                 0\n",
       "dtype: int64"
      ]
     },
     "execution_count": 44,
     "metadata": {},
     "output_type": "execute_result"
    }
   ],
   "execution_count": 44
  },
  {
   "metadata": {
    "ExecuteTime": {
     "end_time": "2024-08-04T12:21:57.792290Z",
     "start_time": "2024-08-04T12:21:57.789837Z"
    }
   },
   "cell_type": "code",
   "source": "individuale_df['unit_price'].max()",
   "id": "9b6b423d155b04db",
   "outputs": [
    {
     "data": {
      "text/plain": [
       "np.float64(18.61)"
      ]
     },
     "execution_count": 45,
     "metadata": {},
     "output_type": "execute_result"
    }
   ],
   "execution_count": 45
  },
  {
   "metadata": {
    "ExecuteTime": {
     "end_time": "2024-08-04T12:21:57.800482Z",
     "start_time": "2024-08-04T12:21:57.798010Z"
    }
   },
   "cell_type": "code",
   "source": [
    "def identify_outliers(df, column):\n",
    "    \"\"\"\n",
    "     Identify outliers in a specified column of a DataFrame using the \n",
    "     Interquartile Range (IQR) method.\n",
    "     \n",
    "     The function calculates the first quartile (Q1) and the third quartile \n",
    "     (Q3) of the specified column. The interquartile range (IQR) is then \n",
    "     computed as the difference between Q3 and Q1.\n",
    "    \n",
    "     Outliers are defined as data points that fall below Q1 - 1.5 * IQR or \n",
    "     above Q3 + 1.5 * IQR. The function returns the rows containing these  \n",
    "     outliers along with the calculated lower and upper bounds.\n",
    "\n",
    "    :param df: \n",
    "    :param column: \n",
    "    :return: tuple: A tuple containing:\n",
    "        - pandas.DataFrame: A DataFrame containing the rows identified as outliers.\n",
    "        - float: The lower bound for identifying outliers.\n",
    "        - float: The upper bound for identifying outliers.\n",
    "    \"\"\"\n",
    "    Q1 = df[column].quantile(0.25)\n",
    "    Q3 = df[column].quantile(0.75)\n",
    "    IQR = Q3 - Q1\n",
    "    lower_bound = Q1 - 1.5 * IQR\n",
    "    upper_bound = Q3 + 1.5 * IQR\n",
    "    return df[(df[column] < lower_bound) | (df[column] > upper_bound)], lower_bound, upper_bound"
   ],
   "id": "bed043ad916d30e8",
   "outputs": [],
   "execution_count": 46
  },
  {
   "metadata": {
    "ExecuteTime": {
     "end_time": "2024-08-04T12:21:57.808760Z",
     "start_time": "2024-08-04T12:21:57.804615Z"
    }
   },
   "cell_type": "code",
   "source": "individuale_outliers, indiv_lower, indiv_upper = identify_outliers(df[df['Product'] == 'Individuale'], 'unit_price')",
   "id": "bdbda5fa1b887ee3",
   "outputs": [],
   "execution_count": 47
  },
  {
   "metadata": {},
   "cell_type": "markdown",
   "source": "remove high end outliers",
   "id": "848c35366eadf0d8"
  },
  {
   "metadata": {
    "ExecuteTime": {
     "end_time": "2024-08-04T12:21:57.818830Z",
     "start_time": "2024-08-04T12:21:57.812951Z"
    }
   },
   "cell_type": "code",
   "source": "individuale_df = individuale_df.drop(individuale_outliers[individuale_outliers['unit_price'] > indiv_upper].index)",
   "id": "dd7eca7718862d61",
   "outputs": [],
   "execution_count": 48
  },
  {
   "metadata": {},
   "cell_type": "markdown",
   "source": "remove low side outliers",
   "id": "9d581374b7080d47"
  },
  {
   "metadata": {
    "ExecuteTime": {
     "end_time": "2024-08-04T12:21:57.833324Z",
     "start_time": "2024-08-04T12:21:57.830429Z"
    }
   },
   "cell_type": "code",
   "source": "individuale_df = individuale_df.drop(individuale_outliers[individuale_outliers['unit_price'] < indiv_lower].index)",
   "id": "ca0334d4aaea56ff",
   "outputs": [],
   "execution_count": 49
  },
  {
   "metadata": {},
   "cell_type": "markdown",
   "source": "### Display the statistics",
   "id": "db16819fc65e0cf3"
  },
  {
   "metadata": {
    "ExecuteTime": {
     "end_time": "2024-08-04T12:21:57.849396Z",
     "start_time": "2024-08-04T12:21:57.840668Z"
    }
   },
   "cell_type": "code",
   "source": [
    "print(f\"Individuale Price Statistics without High Side Outliers:\\n{individuale_df}\")\n",
    "print(f\"\\nCommunita Price Statistics without High Side Outliers:\\n{individuale_df}\")"
   ],
   "id": "81eb03bc1f5a0265",
   "outputs": [
    {
     "name": "stdout",
     "output_type": "stream",
     "text": [
      "Individuale Price Statistics without High Side Outliers:\n",
      "        Product  unit_price  quantity  profit_percentage  gross_margin  \\\n",
      "1   Individuale      5.2500  6.763684          26.845586      0.268456   \n",
      "2   Individuale      5.7500  6.690481          30.214454      0.302145   \n",
      "3   Individuale      6.2275  6.138780          33.417930      0.334179   \n",
      "4   Individuale      6.5500  5.977077          35.425975      0.354260   \n",
      "5   Individuale      6.7400  5.506564          36.226450      0.362264   \n",
      "..          ...         ...       ...                ...           ...   \n",
      "65  Individuale     11.2500  4.900655          51.523720      0.515237   \n",
      "66  Individuale     11.4900  4.761656          51.448669      0.514487   \n",
      "67  Individuale     11.5000  4.740432          51.313529      0.513135   \n",
      "68  Individuale     11.9900  4.804746          52.057702      0.520577   \n",
      "69  Individuale     12.9900  4.666198          52.529116      0.525291   \n",
      "\n",
      "    gross_profit      cost  \n",
      "1       3.840607  1.409393  \n",
      "2       4.012669  1.737331  \n",
      "3       4.146398  2.081102  \n",
      "4       4.229599  2.320401  \n",
      "5       4.298337  2.441663  \n",
      "..           ...       ...  \n",
      "65      5.453582  5.796418  \n",
      "66      5.578548  5.911452  \n",
      "67      5.598944  5.901056  \n",
      "68      5.748282  6.241718  \n",
      "69      6.166468  6.823532  \n",
      "\n",
      "[69 rows x 7 columns]\n",
      "\n",
      "Communita Price Statistics without High Side Outliers:\n",
      "        Product  unit_price  quantity  profit_percentage  gross_margin  \\\n",
      "1   Individuale      5.2500  6.763684          26.845586      0.268456   \n",
      "2   Individuale      5.7500  6.690481          30.214454      0.302145   \n",
      "3   Individuale      6.2275  6.138780          33.417930      0.334179   \n",
      "4   Individuale      6.5500  5.977077          35.425975      0.354260   \n",
      "5   Individuale      6.7400  5.506564          36.226450      0.362264   \n",
      "..          ...         ...       ...                ...           ...   \n",
      "65  Individuale     11.2500  4.900655          51.523720      0.515237   \n",
      "66  Individuale     11.4900  4.761656          51.448669      0.514487   \n",
      "67  Individuale     11.5000  4.740432          51.313529      0.513135   \n",
      "68  Individuale     11.9900  4.804746          52.057702      0.520577   \n",
      "69  Individuale     12.9900  4.666198          52.529116      0.525291   \n",
      "\n",
      "    gross_profit      cost  \n",
      "1       3.840607  1.409393  \n",
      "2       4.012669  1.737331  \n",
      "3       4.146398  2.081102  \n",
      "4       4.229599  2.320401  \n",
      "5       4.298337  2.441663  \n",
      "..           ...       ...  \n",
      "65      5.453582  5.796418  \n",
      "66      5.578548  5.911452  \n",
      "67      5.598944  5.901056  \n",
      "68      5.748282  6.241718  \n",
      "69      6.166468  6.823532  \n",
      "\n",
      "[69 rows x 7 columns]\n"
     ]
    }
   ],
   "execution_count": 50
  },
  {
   "metadata": {},
   "cell_type": "markdown",
   "source": "# Fit linear regression model",
   "id": "ca371066106711eb"
  },
  {
   "metadata": {
    "ExecuteTime": {
     "end_time": "2024-08-04T12:21:57.866627Z",
     "start_time": "2024-08-04T12:21:57.850685Z"
    }
   },
   "cell_type": "code",
   "source": [
    "# todo: change to multiple regression\n",
    "# extract the x and y values\n",
    "x_value = individuale_df['unit_price']\n",
    "y_value = individuale_df['quantity']\n",
    "\n",
    "# ensure x and y are of the same length\n",
    "assert len(x_value) == len(y_value), \"x and y must have the same length\"\n",
    "\n",
    "# add a constant to the independent variable (price)\n",
    "X = add_constant(x_value)\n",
    "\n",
    "# fit the regression model\n",
    "model = sm.OLS(y_value, X)\n",
    "individuale_result = model.fit()\n",
    "\n",
    "# print the summary of the regression model\n",
    "print(individuale_result.summary())"
   ],
   "id": "876a4e889afee39c",
   "outputs": [
    {
     "name": "stdout",
     "output_type": "stream",
     "text": [
      "                            OLS Regression Results                            \n",
      "==============================================================================\n",
      "Dep. Variable:               quantity   R-squared:                       0.613\n",
      "Model:                            OLS   Adj. R-squared:                  0.607\n",
      "Method:                 Least Squares   F-statistic:                     106.0\n",
      "Date:                Sun, 04 Aug 2024   Prob (F-statistic):           1.95e-15\n",
      "Time:                        22:21:57   Log-Likelihood:                 5.7431\n",
      "No. Observations:                  69   AIC:                            -7.486\n",
      "Df Residuals:                      67   BIC:                            -3.018\n",
      "Df Model:                           1                                         \n",
      "Covariance Type:            nonrobust                                         \n",
      "==============================================================================\n",
      "                 coef    std err          t      P>|t|      [0.025      0.975]\n",
      "------------------------------------------------------------------------------\n",
      "const          6.8196      0.166     41.050      0.000       6.488       7.151\n",
      "unit_price    -0.1856      0.018    -10.295      0.000      -0.222      -0.150\n",
      "==============================================================================\n",
      "Omnibus:                       48.307   Durbin-Watson:                   0.179\n",
      "Prob(Omnibus):                  0.000   Jarque-Bera (JB):              174.110\n",
      "Skew:                           2.151   Prob(JB):                     1.56e-38\n",
      "Kurtosis:                       9.485   Cond. No.                         56.9\n",
      "==============================================================================\n",
      "\n",
      "Notes:\n",
      "[1] Standard Errors assume that the covariance matrix of the errors is correctly specified.\n"
     ]
    }
   ],
   "execution_count": 51
  },
  {
   "metadata": {},
   "cell_type": "markdown",
   "source": "# Analysis",
   "id": "68df835344cee9b4"
  },
  {
   "metadata": {},
   "cell_type": "markdown",
   "source": "# Get prediction values",
   "id": "ffc565c780e59270"
  },
  {
   "metadata": {
    "ExecuteTime": {
     "end_time": "2024-08-04T12:21:57.875822Z",
     "start_time": "2024-08-04T12:21:57.867697Z"
    }
   },
   "cell_type": "code",
   "source": "predictions = individuale_result.predict(X)",
   "id": "1f3e927611bac6bb",
   "outputs": [],
   "execution_count": 52
  },
  {
   "metadata": {},
   "cell_type": "markdown",
   "source": "Add predictions to the dataframe",
   "id": "37b66dafdeebcf32"
  },
  {
   "metadata": {
    "ExecuteTime": {
     "end_time": "2024-08-04T12:21:57.891370Z",
     "start_time": "2024-08-04T12:21:57.889040Z"
    }
   },
   "cell_type": "code",
   "source": "individuale_df['predictions'] = predictions",
   "id": "26a4c6d7a779cffc",
   "outputs": [],
   "execution_count": 53
  },
  {
   "metadata": {},
   "cell_type": "markdown",
   "source": "Create a scatter plot with the regression line",
   "id": "f80b3db16b2a164"
  },
  {
   "metadata": {
    "ExecuteTime": {
     "end_time": "2024-08-04T12:21:58.068826Z",
     "start_time": "2024-08-04T12:21:57.896415Z"
    }
   },
   "cell_type": "code",
   "source": [
    "plt.figure(figsize=(10, 6))\n",
    "plt.scatter(\n",
    "    individuale_df['unit_price'], \n",
    "    individuale_df['quantity'], \n",
    "    alpha=0.5, \n",
    "    label='Data points'\n",
    ")\n",
    "plt.plot(\n",
    "    individuale_df['unit_price'], \n",
    "    predictions, \n",
    "    color='red', \n",
    "    linewidth=2, \n",
    "    label='Regression line'\n",
    ")\n",
    "plt.title('Individuale Scatter Plot of Price vs Quantity w/ Regression Line')\n",
    "plt.xlabel('Unit Price')\n",
    "plt.ylabel('Quantity')\n",
    "plt.legend()\n",
    "plt.grid(True)\n",
    "plt.savefig('./../plots/individuale_scatter_plot_of_unit_price_vs_quantity_with_regression_line')\n",
    "plt.show()"
   ],
   "id": "523654af9407eb1",
   "outputs": [
    {
     "data": {
      "text/plain": [
       "<Figure size 1000x600 with 1 Axes>"
      ],
      "image/png": "[encoded data removed]"
     },
     "metadata": {},
     "output_type": "display_data"
    }
   ],
   "execution_count": 54
  },
  {
   "metadata": {},
   "cell_type": "markdown",
   "source": [
    "The regression line represents the relationship between unit rice and quantity demanded as modelled by simple linear regression. We can use it to derive our Price elasticity of demand (PED)\n",
    "\n",
    "The regression line can be expressed as:\n",
    "$$\\text{Quantity} = \\alpha + \\beta \\times \\text{Price}$$\n",
    "\n",
    "where:\n",
    "- $\\alpha$ is the intercept of the line.\n",
    "- $\\beta$ is the slope of the regression line\n",
    "\n",
    "From our regression summary we know that:\n",
    "- $\\alpha = 6.6425$\n",
    "- $\\beta = -0.1639$"
   ],
   "id": "7f269e2a26ed115b"
  },
  {
   "metadata": {
    "ExecuteTime": {
     "end_time": "2024-08-04T12:21:58.071563Z",
     "start_time": "2024-08-04T12:21:58.069617Z"
    }
   },
   "cell_type": "code",
   "source": "mean_cost = np.mean(individuale_df['cost'])",
   "id": "5aeeedca69080124",
   "outputs": [],
   "execution_count": 55
  },
  {
   "metadata": {},
   "cell_type": "markdown",
   "source": "# Access alpha and beta directly from the fitted model",
   "id": "eb1d8e98aeeecfce"
  },
  {
   "metadata": {
    "ExecuteTime": {
     "end_time": "2024-08-04T12:21:58.076132Z",
     "start_time": "2024-08-04T12:21:58.072099Z"
    }
   },
   "cell_type": "code",
   "source": [
    "alpha = individuale_result.params['const']\n",
    "alpha"
   ],
   "id": "c589d7b946838c89",
   "outputs": [
    {
     "data": {
      "text/plain": [
       "np.float64(6.819586893617103)"
      ]
     },
     "execution_count": 56,
     "metadata": {},
     "output_type": "execute_result"
    }
   ],
   "execution_count": 56
  },
  {
   "metadata": {
    "ExecuteTime": {
     "end_time": "2024-08-04T12:21:58.080135Z",
     "start_time": "2024-08-04T12:21:58.076945Z"
    }
   },
   "cell_type": "code",
   "source": [
    "beta = individuale_result.params['unit_price']\n",
    "beta"
   ],
   "id": "f6b1d56c22ed03c6",
   "outputs": [
    {
     "data": {
      "text/plain": [
       "np.float64(-0.18564098374415267)"
      ]
     },
     "execution_count": 57,
     "metadata": {},
     "output_type": "execute_result"
    }
   ],
   "execution_count": 57
  },
  {
   "metadata": {
    "ExecuteTime": {
     "end_time": "2024-08-04T12:21:58.083516Z",
     "start_time": "2024-08-04T12:21:58.080693Z"
    }
   },
   "cell_type": "code",
   "source": [
    "# Calculate mean price and mean quantity\n",
    "individuale_mean_price = np.mean(individuale_df['unit_price'])\n",
    "individuale_mean_quantity = np.mean(individuale_df['quantity'])"
   ],
   "id": "8f209b8c6021763a",
   "outputs": [],
   "execution_count": 58
  },
  {
   "metadata": {},
   "cell_type": "markdown",
   "source": [
    "price elasticity of demand. In general terms we can express this algebraically as:\n",
    "\n",
    "$$\\text{PED} = \\dfrac{\\Delta{Q}/Q}{\\Delta{P}/P}$$\n",
    "\n",
    "Where:\n",
    "- $\\Delta{Q}$ is the change in quantity demanded.\n",
    "- $Q$ is the initial quantity demanded.\n",
    "- $\\Delta{P}$ is the change in price.\n",
    "- $P$ is the initial price."
   ],
   "id": "ea298d9812367534"
  },
  {
   "metadata": {},
   "cell_type": "markdown",
   "source": "# Calculate PED",
   "id": "126949d6beadb729"
  },
  {
   "metadata": {
    "ExecuteTime": {
     "end_time": "2024-08-04T12:21:58.087212Z",
     "start_time": "2024-08-04T12:21:58.084038Z"
    }
   },
   "cell_type": "code",
   "source": [
    "ped = beta * (individuale_mean_price / individuale_mean_quantity)\n",
    "print(f'Price Elasticity of Demand: {ped}')"
   ],
   "id": "1b32c4f8c737dbde",
   "outputs": [
    {
     "name": "stdout",
     "output_type": "stream",
     "text": [
      "Price Elasticity of Demand: -0.3287256858579022\n"
     ]
    }
   ],
   "execution_count": 59
  },
  {
   "metadata": {},
   "cell_type": "markdown",
   "source": "individuale is more elastic than Communita",
   "id": "1047e0bea24e9839"
  },
  {
   "metadata": {},
   "cell_type": "markdown",
   "source": [
    "# plot profit curve\n",
    "we want to know at what price point we maximise gross profit"
   ],
   "id": "23cdf099b6cad263"
  },
  {
   "metadata": {
    "ExecuteTime": {
     "end_time": "2024-08-04T12:21:58.090686Z",
     "start_time": "2024-08-04T12:21:58.087711Z"
    }
   },
   "cell_type": "code",
   "source": [
    "# Calculate the gross profit based on the predictions\n",
    "individuale_df['gross_profit_predictions'] = (individuale_df['unit_price'] - individuale_df['cost']) * individuale_df['predictions']"
   ],
   "id": "520a618ecaac0e44",
   "outputs": [],
   "execution_count": 60
  },
  {
   "metadata": {},
   "cell_type": "markdown",
   "source": "# Find the price that maximizes gross profit",
   "id": "d38cc19bb42e99cd"
  },
  {
   "metadata": {
    "ExecuteTime": {
     "end_time": "2024-08-04T12:21:58.095198Z",
     "start_time": "2024-08-04T12:21:58.091216Z"
    }
   },
   "cell_type": "code",
   "source": [
    "optimal_price = individuale_df.loc[individuale_df['gross_profit_predictions'].idxmax(), 'unit_price']\n",
    "max_gross_profit = individuale_df['gross_profit_predictions'].max()\n",
    "optimal_quantity = individuale_df.loc[individuale_df['gross_profit_predictions'].idxmax(), 'predictions']"
   ],
   "id": "26b632aac616a9cb",
   "outputs": [],
   "execution_count": 61
  },
  {
   "metadata": {
    "ExecuteTime": {
     "end_time": "2024-08-04T12:21:58.101476Z",
     "start_time": "2024-08-04T12:21:58.095724Z"
    }
   },
   "cell_type": "code",
   "source": [
    "def gross_profit_function(price):\n",
    "    \"\"\"\n",
    "    Define the gross profit function based on the regression model\n",
    "    :param price: \n",
    "    :return: \n",
    "    \"\"\"\n",
    "    return (price - mean_cost) * (individuale_result.params['const'] + individuale_result.params['unit_price'] * price)"
   ],
   "id": "c16be5a49e5448a0",
   "outputs": [],
   "execution_count": 62
  },
  {
   "metadata": {},
   "cell_type": "markdown",
   "source": "Calculate the first derivative (slope) at the optimal price",
   "id": "326a72c74aa2d4e2"
  },
  {
   "metadata": {
    "ExecuteTime": {
     "end_time": "2024-08-04T12:21:58.117909Z",
     "start_time": "2024-08-04T12:21:58.102508Z"
    }
   },
   "cell_type": "code",
   "source": [
    "derivative_function = nd.Derivative(gross_profit_function)\n",
    "slope_at_optimal_price = derivative_function(optimal_price)"
   ],
   "id": "c49956d108d4888f",
   "outputs": [],
   "execution_count": 63
  },
  {
   "metadata": {},
   "cell_type": "markdown",
   "source": "first derivative given point and slope",
   "id": "d7a23357d024e009"
  },
  {
   "metadata": {
    "ExecuteTime": {
     "end_time": "2024-08-04T12:21:58.131357Z",
     "start_time": "2024-08-04T12:21:58.118381Z"
    }
   },
   "cell_type": "code",
   "source": [
    "# Given point and slope\n",
    "x1, y1 = 12.99, 27.1825\n",
    "slope = 2.7763893238787327\n",
    "intercept = y1 - slope * x1  # Calculate y-intercept\n",
    "x_vals = np.linspace(individuale_df['unit_price'].min(), individuale_df['unit_price'].max(), 100)  # Generate x values for the line\n",
    "y_vals = slope * x_vals + intercept  # Calculate y values using the line equation"
   ],
   "id": "410dcf8354304514",
   "outputs": [],
   "execution_count": 64
  },
  {
   "metadata": {},
   "cell_type": "markdown",
   "source": "# Plot the gross profit (without outliers) curve",
   "id": "b1305c2d2c672edc"
  },
  {
   "metadata": {
    "ExecuteTime": {
     "end_time": "2024-08-04T12:21:58.296347Z",
     "start_time": "2024-08-04T12:21:58.131812Z"
    }
   },
   "cell_type": "code",
   "source": [
    "plt.figure(figsize=(10, 6))\n",
    "plt.plot(\n",
    "    individuale_df['unit_price'], \n",
    "    individuale_df['gross_profit_predictions'], \n",
    "    label='Gross Profit Curve'\n",
    ")\n",
    "plt.scatter(\n",
    "    optimal_price, \n",
    "    max_gross_profit, \n",
    "    color='red', \n",
    "    label=f'Optimal Price: {optimal_price:.2f}'\n",
    ")\n",
    "plt.plot(\n",
    "    x_vals, \n",
    "    y_vals, \n",
    "    color='red', \n",
    "    linestyle='--', \n",
    "    label=f'Tangent Line at Optimal Price'\n",
    ")  # fix_me\n",
    "plt.title('Gross Profit Curve (Original Data)')\n",
    "plt.xlabel('Unit Price')\n",
    "plt.ylabel('Gross Profit')\n",
    "plt.legend()\n",
    "plt.grid(True)\n",
    "plt.savefig('./../plots/individuale_gp_curve.png')\n",
    "plt.show()"
   ],
   "id": "f3ba81ba73ee5feb",
   "outputs": [
    {
     "data": {
      "text/plain": [
       "<Figure size 1000x600 with 1 Axes>"
      ],
      "image/png": "[encoded data removed]"
     },
     "metadata": {},
     "output_type": "display_data"
    }
   ],
   "execution_count": 65
  },
  {
   "metadata": {},
   "cell_type": "markdown",
   "source": "Print the optimal price and slope at that point",
   "id": "a37f24aa04aac3eb"
  },
  {
   "metadata": {
    "ExecuteTime": {
     "end_time": "2024-08-04T12:21:58.298900Z",
     "start_time": "2024-08-04T12:21:58.296856Z"
    }
   },
   "cell_type": "code",
   "source": [
    "print(f'Optimal Price (Original): {optimal_price}')\n",
    "print(f'Optimal Quantity (Original): {round(optimal_quantity, 4)}')\n",
    "print(f'Maximum Gross Profit: {round(max_gross_profit, 4)}')\n",
    "print(f'Slope of the Gross Profit Function at Optimal Price: {slope_at_optimal_price}')"
   ],
   "id": "71710731772face2",
   "outputs": [
    {
     "name": "stdout",
     "output_type": "stream",
     "text": [
      "Optimal Price (Original): 12.99\n",
      "Optimal Quantity (Original): 4.4081\n",
      "Maximum Gross Profit: 27.1825\n",
      "Slope of the Gross Profit Function at Optimal Price: 2.7763893238787327\n"
     ]
    }
   ],
   "execution_count": 66
  },
  {
   "metadata": {},
   "cell_type": "markdown",
   "source": "# Observations",
   "id": "95e4a3e7de121415"
  },
  {
   "metadata": {},
   "cell_type": "markdown",
   "source": [
    "# Extend the predictions\n",
    "Create a new range of unit prices extending beyond the observed data"
   ],
   "id": "77372bf27216d19d"
  },
  {
   "metadata": {
    "ExecuteTime": {
     "end_time": "2024-08-04T12:21:58.309746Z",
     "start_time": "2024-08-04T12:21:58.299458Z"
    }
   },
   "cell_type": "code",
   "source": [
    "new_unit_prices = np.linspace(individuale_df['unit_price'].min(), 40, 100)\n",
    "new_X = sm.add_constant(new_unit_prices)"
   ],
   "id": "c36fc00b88caad37",
   "outputs": [],
   "execution_count": 67
  },
  {
   "metadata": {},
   "cell_type": "markdown",
   "source": "Predict the quantities for the new range of unit prices",
   "id": "6417c1751339c940"
  },
  {
   "metadata": {
    "ExecuteTime": {
     "end_time": "2024-08-04T12:21:58.317244Z",
     "start_time": "2024-08-04T12:21:58.310189Z"
    }
   },
   "cell_type": "code",
   "source": "new_predictions = individuale_result.predict(new_X)",
   "id": "219269972e71eac",
   "outputs": [],
   "execution_count": 68
  },
  {
   "metadata": {},
   "cell_type": "markdown",
   "source": "Calculate the gross profit for the new unit prices. Assuming cost remains constant, using the mean cost from the original data",
   "id": "2891fe133ce105bc"
  },
  {
   "metadata": {
    "ExecuteTime": {
     "end_time": "2024-08-04T12:21:58.320636Z",
     "start_time": "2024-08-04T12:21:58.317775Z"
    }
   },
   "cell_type": "code",
   "source": "new_gross_profits = (new_unit_prices - mean_cost) * new_predictions",
   "id": "d45936d462560b21",
   "outputs": [],
   "execution_count": 69
  },
  {
   "metadata": {},
   "cell_type": "markdown",
   "source": "Find the price that maximizes gross profit",
   "id": "76b20d1ae50fcbaf"
  },
  {
   "metadata": {
    "ExecuteTime": {
     "end_time": "2024-08-04T12:21:58.325743Z",
     "start_time": "2024-08-04T12:21:58.321076Z"
    }
   },
   "cell_type": "code",
   "source": [
    "max_index = np.argmax(new_gross_profits)\n",
    "optimal_price = new_unit_prices[np.argmax(new_gross_profits)]\n",
    "max_gross_profit = new_gross_profits.max()\n",
    "optimal_quantity_extended = new_predictions[max_index]"
   ],
   "id": "ddcf5a1fffa27a31",
   "outputs": [],
   "execution_count": 70
  },
  {
   "metadata": {
    "ExecuteTime": {
     "end_time": "2024-08-04T12:21:58.330626Z",
     "start_time": "2024-08-04T12:21:58.326178Z"
    }
   },
   "cell_type": "code",
   "source": [
    "def extended_gross_profit_function(price):\n",
    "    \"\"\"\n",
    "    Define the gross profit function based on the regression model\n",
    "    :param price: \n",
    "    :return: \n",
    "    \"\"\"\n",
    "    return (price - mean_cost) * (individuale_result.params['const'] + individuale_result.params['unit_price'] * price)"
   ],
   "id": "3eb105715e767cc2",
   "outputs": [],
   "execution_count": 71
  },
  {
   "metadata": {},
   "cell_type": "markdown",
   "source": "Calculate the slope of first derivative at the optimal price",
   "id": "8c7b7fcf9d6e700"
  },
  {
   "metadata": {
    "ExecuteTime": {
     "end_time": "2024-08-04T12:21:58.339038Z",
     "start_time": "2024-08-04T12:21:58.331081Z"
    }
   },
   "cell_type": "code",
   "source": [
    "derivative_function = nd.Derivative(extended_gross_profit_function)\n",
    "slope_at_optimal_price_extended = derivative_function(optimal_price)"
   ],
   "id": "86a52e49722896a5",
   "outputs": [],
   "execution_count": 72
  },
  {
   "metadata": {},
   "cell_type": "markdown",
   "source": "# Plot the extended gross profit curve",
   "id": "c5d92b719a4e7341"
  },
  {
   "metadata": {
    "ExecuteTime": {
     "end_time": "2024-08-04T12:21:58.495357Z",
     "start_time": "2024-08-04T12:21:58.339557Z"
    }
   },
   "cell_type": "code",
   "source": [
    "plt.figure(figsize=(10, 6))\n",
    "plt.plot(new_unit_prices, new_gross_profits, label='Gross Profit Curve')\n",
    "plt.scatter(\n",
    "    optimal_price, \n",
    "    max_gross_profit, \n",
    "    color='red', \n",
    "    label=f'Optimal Price: {optimal_price:.2f}'\n",
    ")\n",
    "plt.axhline(\n",
    "    y=max_gross_profit, \n",
    "    color='red', \n",
    "    linestyle='--', \n",
    "    label=f'First derivative slope: {slope_at_optimal_price_extended:.4f}'\n",
    ")\n",
    "plt.title('Individuale GP Curve (Extended)')\n",
    "plt.xlabel('Unit Price')\n",
    "plt.ylabel('Gross Profit')\n",
    "plt.legend()\n",
    "plt.grid(True)\n",
    "plt.savefig('./../plots/individuale_ext_gp_curve')\n",
    "plt.show()"
   ],
   "id": "b28d1e72a7c3e0d1",
   "outputs": [
    {
     "data": {
      "text/plain": [
       "<Figure size 1000x600 with 1 Axes>"
      ],
      "image/png": "[encoded data removed]"
     },
     "metadata": {},
     "output_type": "display_data"
    }
   ],
   "execution_count": 73
  },
  {
   "metadata": {},
   "cell_type": "markdown",
   "source": "# Print the optimal price and maximum gross profit",
   "id": "c4b2a5ef7ef1970b"
  },
  {
   "metadata": {
    "ExecuteTime": {
     "end_time": "2024-08-04T12:21:58.497992Z",
     "start_time": "2024-08-04T12:21:58.495907Z"
    }
   },
   "cell_type": "code",
   "source": [
    "print(f'Optimal Price: {round(optimal_price, 2)}')\n",
    "print(f'Optimal Quantity (Extended): {round(optimal_quantity_extended, 0)}')\n",
    "print(f'Maximum Gross Profit: {round(max_gross_profit, 2)}')\n",
    "print(f'Slope of the Gross Profit Function at Optimal Price (Extended): {slope_at_optimal_price_extended}')  # Print the optimal price and slope at that point"
   ],
   "id": "6a6d75fc9c599926",
   "outputs": [
    {
     "name": "stdout",
     "output_type": "stream",
     "text": [
      "Optimal Price: 20.34\n",
      "Optimal Quantity (Extended): 3.0\n",
      "Maximum Gross Profit: 49.12\n",
      "Slope of the Gross Profit Function at Optimal Price (Extended): 0.046191753051629356\n"
     ]
    }
   ],
   "execution_count": 74
  },
  {
   "metadata": {},
   "cell_type": "markdown",
   "source": [
    "# Analysis\n",
    "So, on the face of it, the optimal price point is 22.23 which is confirmed by the slope of the first derivative, which is very close to 0. \n",
    "\n",
    "However, because we're making predictions outside the dataset, it can only be considered a hypothesis at this point. We have no data to substantiate it. We should set up an experiment to gather more data about sales quantities at higher price points.\n",
    "\n",
    "- Hypothesis ($H_1$): The optimal unit price that maximises gross profit is 22.23.\n",
    "- Null Hypothesis ($H_0$): The optimal unit price that maximises gross profit is different from 22.23."
   ],
   "id": "d97368ae26b5bcee"
  }
 ],
 "metadata": {
  "kernelspec": {
   "display_name": "Python 3",
   "language": "python",
   "name": "python3"
  },
  "language_info": {
   "codemirror_mode": {
    "name": "ipython",
    "version": 2
   },
   "file_extension": ".py",
   "mimetype": "text/x-python",
   "name": "python",
   "nbconvert_exporter": "python",
   "pygments_lexer": "ipython2",
   "version": "2.7.6"
  }
 },
 "nbformat": 4,
 "nbformat_minor": 5
}
