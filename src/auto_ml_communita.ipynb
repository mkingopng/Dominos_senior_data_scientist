{
 "cells": [
  {
   "metadata": {},
   "cell_type": "markdown",
   "source": [
    "# AutoML approach\n",
    "its interesting to cross check some of our findings from simple linear regression with more complex models. It can be challenging to iterate through the many possible models, but the advent of low code auto ML libraries like pycaret and H2O make it easier."
   ],
   "id": "6b28df129db47431"
  },
  {
   "cell_type": "code",
   "id": "initial_id",
   "metadata": {
    "collapsed": true,
    "ExecuteTime": {
     "end_time": "2024-08-05T11:07:56.958562Z",
     "start_time": "2024-08-05T11:07:56.956478Z"
    }
   },
   "source": [
    "import h2o\n",
    "from h2o.automl import H2OAutoML\n",
    "import pandas as pd\n",
    "import matplotlib.pyplot as plt\n",
    "import numpy as np"
   ],
   "outputs": [],
   "execution_count": 15
  },
  {
   "metadata": {},
   "cell_type": "markdown",
   "source": "# Step 2: Initialize H2O",
   "id": "6f6ba6cc90becca2"
  },
  {
   "metadata": {
    "ExecuteTime": {
     "end_time": "2024-08-05T11:08:00.674941Z",
     "start_time": "2024-08-05T11:07:57.035073Z"
    }
   },
   "cell_type": "code",
   "source": "h2o.init()",
   "id": "c2bf853a4121776",
   "outputs": [
    {
     "name": "stdout",
     "output_type": "stream",
     "text": [
      "Checking whether there is an H2O instance running at http://localhost:54321..... not found.\n",
      "Attempting to start a local H2O server...\n",
      "  Java Version: openjdk version \"1.8.0_422\"; OpenJDK Runtime Environment (build 1.8.0_422-8u422-b05-1~22.04-b05); OpenJDK 64-Bit Server VM (build 25.422-b05, mixed mode)\n",
      "  Starting server from /home/noone/.cache/pypoetry/virtualenvs/dominos-senior-data-scientist-mPMyyBsO-py3.11/lib/python3.11/site-packages/h2o/backend/bin/h2o.jar\n",
      "  Ice root: /tmp/tmpojbml9rb\n",
      "  JVM stdout: /tmp/tmpojbml9rb/h2o_noone_started_from_python.out\n",
      "  JVM stderr: /tmp/tmpojbml9rb/h2o_noone_started_from_python.err\n",
      "  Server is running at http://127.0.0.1:54321\n",
      "Connecting to H2O server at http://127.0.0.1:54321 ... successful.\n"
     ]
    },
    {
     "data": {
      "text/plain": [
       "--------------------------  -----------------------------\n",
       "H2O_cluster_uptime:         01 secs\n",
       "H2O_cluster_timezone:       Australia/Brisbane\n",
       "H2O_data_parsing_timezone:  UTC\n",
       "H2O_cluster_version:        3.46.0.4\n",
       "H2O_cluster_version_age:    27 days\n",
       "H2O_cluster_name:           H2O_from_python_noone_fgjamv\n",
       "H2O_cluster_total_nodes:    1\n",
       "H2O_cluster_free_memory:    26.64 Gb\n",
       "H2O_cluster_total_cores:    32\n",
       "H2O_cluster_allowed_cores:  32\n",
       "H2O_cluster_status:         locked, healthy\n",
       "H2O_connection_url:         http://127.0.0.1:54321\n",
       "H2O_connection_proxy:       {\"http\": null, \"https\": null}\n",
       "H2O_internal_security:      False\n",
       "Python_version:             3.11.9 final\n",
       "--------------------------  -----------------------------"
      ],
      "text/html": [
       "\n",
       "<style>\n",
       "\n",
       "#h2o-table-2.h2o-container {\n",
       "  overflow-x: auto;\n",
       "}\n",
       "#h2o-table-2 .h2o-table {\n",
       "  /* width: 100%; */\n",
       "  margin-top: 1em;\n",
       "  margin-bottom: 1em;\n",
       "}\n",
       "#h2o-table-2 .h2o-table caption {\n",
       "  white-space: nowrap;\n",
       "  caption-side: top;\n",
       "  text-align: left;\n",
       "  /* margin-left: 1em; */\n",
       "  margin: 0;\n",
       "  font-size: larger;\n",
       "}\n",
       "#h2o-table-2 .h2o-table thead {\n",
       "  white-space: nowrap; \n",
       "  position: sticky;\n",
       "  top: 0;\n",
       "  box-shadow: 0 -1px inset;\n",
       "}\n",
       "#h2o-table-2 .h2o-table tbody {\n",
       "  overflow: auto;\n",
       "}\n",
       "#h2o-table-2 .h2o-table th,\n",
       "#h2o-table-2 .h2o-table td {\n",
       "  text-align: right;\n",
       "  /* border: 1px solid; */\n",
       "}\n",
       "#h2o-table-2 .h2o-table tr:nth-child(even) {\n",
       "  /* background: #F5F5F5 */\n",
       "}\n",
       "\n",
       "</style>      \n",
       "<div id=\"h2o-table-2\" class=\"h2o-container\">\n",
       "  <table class=\"h2o-table\">\n",
       "    <caption></caption>\n",
       "    <thead></thead>\n",
       "    <tbody><tr><td>H2O_cluster_uptime:</td>\n",
       "<td>01 secs</td></tr>\n",
       "<tr><td>H2O_cluster_timezone:</td>\n",
       "<td>Australia/Brisbane</td></tr>\n",
       "<tr><td>H2O_data_parsing_timezone:</td>\n",
       "<td>UTC</td></tr>\n",
       "<tr><td>H2O_cluster_version:</td>\n",
       "<td>3.46.0.4</td></tr>\n",
       "<tr><td>H2O_cluster_version_age:</td>\n",
       "<td>27 days</td></tr>\n",
       "<tr><td>H2O_cluster_name:</td>\n",
       "<td>H2O_from_python_noone_fgjamv</td></tr>\n",
       "<tr><td>H2O_cluster_total_nodes:</td>\n",
       "<td>1</td></tr>\n",
       "<tr><td>H2O_cluster_free_memory:</td>\n",
       "<td>26.64 Gb</td></tr>\n",
       "<tr><td>H2O_cluster_total_cores:</td>\n",
       "<td>32</td></tr>\n",
       "<tr><td>H2O_cluster_allowed_cores:</td>\n",
       "<td>32</td></tr>\n",
       "<tr><td>H2O_cluster_status:</td>\n",
       "<td>locked, healthy</td></tr>\n",
       "<tr><td>H2O_connection_url:</td>\n",
       "<td>http://127.0.0.1:54321</td></tr>\n",
       "<tr><td>H2O_connection_proxy:</td>\n",
       "<td>{\"http\": null, \"https\": null}</td></tr>\n",
       "<tr><td>H2O_internal_security:</td>\n",
       "<td>False</td></tr>\n",
       "<tr><td>Python_version:</td>\n",
       "<td>3.11.9 final</td></tr></tbody>\n",
       "  </table>\n",
       "</div>\n"
      ]
     },
     "metadata": {},
     "output_type": "display_data"
    }
   ],
   "execution_count": 16
  },
  {
   "metadata": {},
   "cell_type": "markdown",
   "source": "# Step 3: Load Data",
   "id": "6bae6628e48c5d75"
  },
  {
   "metadata": {
    "ExecuteTime": {
     "end_time": "2024-08-05T11:08:00.680746Z",
     "start_time": "2024-08-05T11:08:00.676079Z"
    }
   },
   "cell_type": "code",
   "source": [
    "data_path = './../data/price_elasticity_data.csv'\n",
    "df = pd.read_csv(data_path)"
   ],
   "id": "388880fd238f5b84",
   "outputs": [],
   "execution_count": 17
  },
  {
   "metadata": {},
   "cell_type": "markdown",
   "source": "# Step 4: Preprocess Data",
   "id": "5c483f9fa40b1ded"
  },
  {
   "metadata": {
    "ExecuteTime": {
     "end_time": "2024-08-05T11:08:00.688649Z",
     "start_time": "2024-08-05T11:08:00.681772Z"
    }
   },
   "cell_type": "code",
   "source": [
    "# rename columns for convenience\n",
    "df.rename(columns={'Menu_Price': 'unit_price', 'Pizza_Count': 'quantity', 'Profit_Percentage': 'profit_percentage'}, inplace=True)\n",
    "df['gross_margin'] = df['profit_percentage'] / 100\n",
    "df['gross_profit'] = df['unit_price'] * (1 - df['gross_margin'])\n",
    "df['cost'] = df['unit_price'] - df['gross_profit']\n",
    "\n",
    "# subset the dataframe for 'Individuale' product and create a copy\n",
    "communita_df = df[df['Product'] == 'Communita'].copy()"
   ],
   "id": "76b9a2a321327ca6",
   "outputs": [],
   "execution_count": 18
  },
  {
   "metadata": {},
   "cell_type": "markdown",
   "source": "# Remove outliers",
   "id": "8ca5bee8da470798"
  },
  {
   "metadata": {
    "ExecuteTime": {
     "end_time": "2024-08-05T11:08:00.693485Z",
     "start_time": "2024-08-05T11:08:00.690253Z"
    }
   },
   "cell_type": "code",
   "source": "# todo",
   "id": "d5db61c5ed94f36b",
   "outputs": [],
   "execution_count": 19
  },
  {
   "metadata": {},
   "cell_type": "markdown",
   "source": [
    "# Feature Engineering\n",
    "\n",
    "### create interaction features"
   ],
   "id": "c6477d1cbe7750de"
  },
  {
   "metadata": {
    "ExecuteTime": {
     "end_time": "2024-08-05T11:08:00.700952Z",
     "start_time": "2024-08-05T11:08:00.694049Z"
    }
   },
   "cell_type": "code",
   "source": [
    "communita_df['unit_price_squared'] = communita_df['unit_price'] ** 2\n",
    "communita_df['unit_price_cost_interaction'] = communita_df['unit_price'] * communita_df['cost']"
   ],
   "id": "8c6f30aacb5c6838",
   "outputs": [],
   "execution_count": 20
  },
  {
   "metadata": {},
   "cell_type": "markdown",
   "source": "### normalize features",
   "id": "3c5a31b8c11e58b1"
  },
  {
   "metadata": {
    "ExecuteTime": {
     "end_time": "2024-08-05T11:08:00.712722Z",
     "start_time": "2024-08-05T11:08:00.702365Z"
    }
   },
   "cell_type": "code",
   "source": [
    "communita_df['unit_price_scaled'] = (communita_df['unit_price'] - communita_df['unit_price'].mean()) / communita_df['unit_price'].std()\n",
    "communita_df['cost_scaled'] = (communita_df['cost'] - communita_df['cost'].mean()) / communita_df['cost'].std()"
   ],
   "id": "d8e57dd7dd659f8",
   "outputs": [],
   "execution_count": 21
  },
  {
   "metadata": {
    "ExecuteTime": {
     "end_time": "2024-08-05T11:08:01.208266Z",
     "start_time": "2024-08-05T11:08:00.713675Z"
    }
   },
   "cell_type": "code",
   "source": [
    "# convert to H2O frame\n",
    "h2o_df = h2o.H2OFrame(communita_df)"
   ],
   "id": "6450c37811a843dd",
   "outputs": [
    {
     "name": "stdout",
     "output_type": "stream",
     "text": [
      "Parse progress: |████████████████████████████████████████████████████████████████| (done) 100%\n"
     ]
    }
   ],
   "execution_count": 22
  },
  {
   "metadata": {
    "ExecuteTime": {
     "end_time": "2024-08-05T11:08:01.212013Z",
     "start_time": "2024-08-05T11:08:01.209279Z"
    }
   },
   "cell_type": "code",
   "source": [
    "# add scaled features to H2O frame\n",
    "h2o_df['unit_price_scaled'] = h2o_df['unit_price_scaled']\n",
    "h2o_df['cost_scaled'] = h2o_df['cost_scaled']"
   ],
   "id": "c2dea1c4d774a902",
   "outputs": [],
   "execution_count": 23
  },
  {
   "metadata": {},
   "cell_type": "markdown",
   "source": "# step 5: Run H2O AutoML",
   "id": "72f25e73013ff8b5"
  },
  {
   "metadata": {
    "jupyter": {
     "is_executing": true
    },
    "ExecuteTime": {
     "start_time": "2024-08-05T11:08:01.212953Z"
    }
   },
   "cell_type": "code",
   "source": [
    "%%time\n",
    "x = ['unit_price', 'cost', 'gross_margin', 'unit_price_squared', 'unit_price_cost_interaction', 'unit_price_scaled', 'cost_scaled']\n",
    "y = 'quantity'\n",
    "\n",
    "aml = H2OAutoML(\n",
    "    max_runtime_secs=1200, \n",
    "    seed=42, \n",
    "    project_name=\"price_elasticity\", \n",
    "    nfolds=0  # our dataset is too small for cross validation\n",
    ")\n",
    "\n",
    "aml.train(\n",
    "    x=x, \n",
    "    y=y, \n",
    "    training_frame=h2o_df\n",
    ")\n",
    "\n",
    "# view the leaderboard\n",
    "lb = aml.leaderboard\n",
    "print(lb)"
   ],
   "id": "a584588d4deab2c",
   "outputs": [
    {
     "name": "stdout",
     "output_type": "stream",
     "text": [
      "AutoML progress: |\n",
      "21:08:02.19: _min_rows param, The dataset size is too small to split for min_rows=100.0: must have at least 200.0 (weighted) rows, but have only 60.0.\n",
      "\n",
      "██████████████████████████████████████████████████████████"
     ]
    }
   ],
   "execution_count": null
  },
  {
   "metadata": {},
   "cell_type": "markdown",
   "source": "# Step 6: Calculate Predictions",
   "id": "a4bcabdbc09209f8"
  },
  {
   "metadata": {
    "jupyter": {
     "is_executing": true
    }
   },
   "cell_type": "code",
   "source": [
    "best_model = aml.leader\n",
    "preds = best_model.predict(h2o_df)\n",
    "communita_df['predicted_quantity'] = h2o.as_list(preds)['predict']  # add preds to df"
   ],
   "id": "626b2100fa631073",
   "outputs": [],
   "execution_count": null
  },
  {
   "metadata": {},
   "cell_type": "markdown",
   "source": "# Step 7: Find Optimal Price to Maximize Gross Profit",
   "id": "d7fedea3aa0bb22f"
  },
  {
   "metadata": {
    "jupyter": {
     "is_executing": true
    }
   },
   "cell_type": "code",
   "source": [
    "communita_df['gross_profit_predictions'] = (communita_df['unit_price'] - communita_df['cost']) * communita_df['predicted_quantity']\n",
    "\n",
    "# find price that maximises GP\n",
    "optimal_price = communita_df.loc[communita_df['gross_profit_predictions'].idxmax(), 'unit_price']\n",
    "max_gross_profit = communita_df['gross_profit_predictions'].max()\n",
    "optimal_quantity = communita_df.loc[communita_df['gross_profit_predictions'].idxmax(), 'predicted_quantity']"
   ],
   "id": "58c7202a126b1663",
   "outputs": [],
   "execution_count": null
  },
  {
   "metadata": {
    "jupyter": {
     "is_executing": true
    }
   },
   "cell_type": "code",
   "source": [
    "print(f'Optimal Price: {optimal_price}')\n",
    "print(f'Maximum Gross Profit: {max_gross_profit}')\n",
    "print(f'Optimal Quantity: {optimal_quantity}')"
   ],
   "id": "7a1f13f1eef52431",
   "outputs": [],
   "execution_count": null
  },
  {
   "metadata": {},
   "cell_type": "markdown",
   "source": "# Plot the relationship between unit price and quantity",
   "id": "47475643af3ed856"
  },
  {
   "metadata": {
    "jupyter": {
     "is_executing": true
    }
   },
   "cell_type": "code",
   "source": [
    "plt.figure(figsize=(10, 6))\n",
    "plt.scatter(\n",
    "    communita_df['unit_price'], \n",
    "    communita_df['quantity'], \n",
    "    alpha=0.5, \n",
    "    label='Actual Quantity'\n",
    ")\n",
    "plt.scatter(\n",
    "    communita_df['unit_price'], \n",
    "    communita_df['predicted_quantity'], \n",
    "    color='red', \n",
    "    alpha=0.5, \n",
    "    label='Predicted Quantity'\n",
    ")\n",
    "plt.title('Unit Price vs Quantity')\n",
    "plt.xlabel('Unit Price')\n",
    "plt.ylabel('Quantity')\n",
    "plt.legend()\n",
    "plt.grid(True)\n",
    "plt.show()"
   ],
   "id": "79455297867cc89a",
   "outputs": [],
   "execution_count": null
  },
  {
   "metadata": {},
   "cell_type": "markdown",
   "source": "# Plot the gross profit curve",
   "id": "546fd61bf61cae57"
  },
  {
   "metadata": {
    "jupyter": {
     "is_executing": true
    }
   },
   "cell_type": "code",
   "source": [
    "plt.figure(figsize=(10, 6))\n",
    "plt.plot(\n",
    "    communita_df['unit_price'], \n",
    "    communita_df['gross_profit_predictions'], \n",
    "    label='Gross Profit Curve'\n",
    ")\n",
    "plt.scatter(\n",
    "    optimal_price, \n",
    "    max_gross_profit, \n",
    "    color='red', \n",
    "    label=f'Optimal Price: {optimal_price:.2f}'\n",
    ")\n",
    "plt.title('Gross Profit Curve')\n",
    "plt.xlabel('Unit Price')\n",
    "plt.ylabel('Gross Profit')\n",
    "plt.legend()\n",
    "plt.grid(True)\n",
    "plt.show()"
   ],
   "id": "8eb1eb6c90b6982",
   "outputs": [],
   "execution_count": null
  },
  {
   "metadata": {},
   "cell_type": "markdown",
   "source": "# Step 8: Extend Sample Space",
   "id": "c821f91d974cec11"
  },
  {
   "metadata": {
    "jupyter": {
     "is_executing": true
    }
   },
   "cell_type": "code",
   "source": [
    "# extend the range of unit prices beyond the original dataset\n",
    "new_unit_prices = np.linspace(\n",
    "    communita_df['unit_price'].min(),\n",
    "\t2 * communita_df['unit_price'].max(), \n",
    "    100\n",
    ")\n",
    "\n",
    "# create new H2O frame with extended unit prices\n",
    "new_h2o_df = h2o_df.cbind(\n",
    "\th2o.H2OFrame(pd.DataFrame(new_unit_prices, columns=['unit_price']))\n",
    ")\n",
    "\n",
    "# add interaction features\n",
    "new_h2o_df['unit_price_squared'] = new_h2o_df['unit_price'] ** 2\n",
    "new_h2o_df['unit_price_cost_interaction'] = new_h2o_df['unit_price'] * new_h2o_df['cost']\n",
    "\n",
    "# add scaled features\n",
    "new_h2o_df['unit_price_scaled'] = (new_h2o_df['unit_price'] - new_h2o_df[\n",
    "\t'unit_price'].mean()) / new_h2o_df['unit_price'].std()\n",
    "new_h2o_df['cost_scaled'] = (new_h2o_df['cost'] - new_h2o_df['cost'].mean()) / new_h2o_df['cost'].std()\n",
    "\n",
    "# predict with the best model\n",
    "new_preds = best_model.predict(new_h2o_df)\n",
    "\n",
    "# convert predictions to pandas dataframe\n",
    "new_predicted_quantities = h2o.as_list(new_preds)['predict']\n",
    "\n",
    "# calculate new gross profit predictions\n",
    "new_gross_profits = (new_unit_prices - communita_df['cost'].mean()) * new_predicted_quantities\n",
    "\n",
    "# find the optimal price in the extended range\n",
    "optimal_price_extended = new_unit_prices[np.argmax(new_gross_profits)]\n",
    "max_gross_profit_extended = max(new_gross_profits)\n",
    "optimal_quantity_extended = new_predicted_quantities[np.argmax(new_gross_profits)]\n",
    "\n",
    "print(f'Extended Optimal Price: {optimal_price_extended}')\n",
    "print(f'Extended Maximum Gross Profit: {max_gross_profit_extended}')\n",
    "print(f'Extended Optimal Quantity: {optimal_quantity_extended}')"
   ],
   "id": "35c3d81c2f633985",
   "outputs": [],
   "execution_count": null
  },
  {
   "metadata": {},
   "cell_type": "markdown",
   "source": "# Plot the relationship between unit price and quantity with regression line",
   "id": "29d270dda682c97f"
  },
  {
   "metadata": {
    "jupyter": {
     "is_executing": true
    }
   },
   "cell_type": "code",
   "source": [
    "plt.figure(figsize=(10, 6))\n",
    "plt.scatter(\n",
    "    communita_df['unit_price'], \n",
    "    communita_df['quantity'], \n",
    "    alpha=0.5, \n",
    "    label='Actual Quantity'\n",
    ")\n",
    "plt.scatter(\n",
    "    communita_df['unit_price'], \n",
    "    communita_df['predicted_quantity'], \n",
    "    color='red', \n",
    "    alpha=0.5, \n",
    "    label='Predicted Quantity'\n",
    ")\n",
    "plt.plot(\n",
    "    new_unit_prices, \n",
    "    new_predicted_quantities, \n",
    "    color='blue', \n",
    "    linewidth=2, \n",
    "    label='Regression Line'\n",
    ")\n",
    "plt.title('Unit Price vs Quantity with Regression Line')\n",
    "plt.xlabel('Unit Price')\n",
    "plt.ylabel('Quantity')\n",
    "plt.legend()\n",
    "plt.grid(True)\n",
    "plt.show()"
   ],
   "id": "aa0e9633252a4003",
   "outputs": [],
   "execution_count": null
  },
  {
   "metadata": {},
   "cell_type": "markdown",
   "source": "# Plot the gross profit curve",
   "id": "566257e2b0e3edc7"
  },
  {
   "metadata": {
    "jupyter": {
     "is_executing": true
    }
   },
   "cell_type": "code",
   "source": [
    "plt.figure(figsize=(10, 6))\n",
    "plt.plot(\n",
    "    communita_df['unit_price'], \n",
    "    communita_df['gross_profit_predictions'], \n",
    "    label='Gross Profit Curve'\n",
    ")\n",
    "plt.plot(\n",
    "    new_unit_prices, \n",
    "    new_gross_profits, \n",
    "    label='Extended Gross Profit Curve'\n",
    ")\n",
    "plt.scatter(\n",
    "    optimal_price, \n",
    "    max_gross_profit, \n",
    "    color='red', \n",
    "    label=f'Optimal Price: {optimal_price:.2f}'\n",
    ")\n",
    "plt.scatter(\n",
    "    optimal_price_extended, \n",
    "    max_gross_profit_extended, \n",
    "    color='green', \n",
    "    label=f'Extended Optimal Price: {optimal_price_extended:.2f}'\n",
    ")\n",
    "plt.axhline(\n",
    "    y=max_gross_profit_extended, \n",
    "    color='red', linestyle='--', \n",
    "    label=f'Max Gross Profit: {max_gross_profit_extended:.2f}'\n",
    ")\n",
    "plt.title('Gross Profit Curve')\n",
    "plt.xlabel('Unit Price')\n",
    "plt.ylabel('Gross Profit')\n",
    "plt.legend()\n",
    "plt.grid(True)\n",
    "plt.show()"
   ],
   "id": "4ec812ec1e4494b9",
   "outputs": [],
   "execution_count": null
  },
  {
   "metadata": {},
   "cell_type": "markdown",
   "source": "# Shutdown H2O",
   "id": "8c2bd06138a4181"
  },
  {
   "metadata": {
    "jupyter": {
     "is_executing": true
    }
   },
   "cell_type": "code",
   "source": "h2o.cluster().shutdown()",
   "id": "afd5c9056042d1bc",
   "outputs": [],
   "execution_count": null
  }
 ],
 "metadata": {
  "kernelspec": {
   "display_name": "Python 3",
   "language": "python",
   "name": "python3"
  },
  "language_info": {
   "codemirror_mode": {
    "name": "ipython",
    "version": 2
   },
   "file_extension": ".py",
   "mimetype": "text/x-python",
   "name": "python",
   "nbconvert_exporter": "python",
   "pygments_lexer": "ipython2",
   "version": "2.7.6"
  }
 },
 "nbformat": 4,
 "nbformat_minor": 5
}
