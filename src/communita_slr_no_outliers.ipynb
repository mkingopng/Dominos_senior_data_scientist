{
 "cells": [
  {
   "cell_type": "code",
   "id": "initial_id",
   "metadata": {
    "collapsed": true,
    "ExecuteTime": {
     "end_time": "2024-08-04T12:22:47.912194Z",
     "start_time": "2024-08-04T12:22:47.910176Z"
    }
   },
   "source": [
    "import statsmodels.api as sm\n",
    "from statsmodels.tools.tools import add_constant\n",
    "import pandas as pd\n",
    "import matplotlib.pyplot as plt\n",
    "import numpy as np\n",
    "import numdifftools as nd"
   ],
   "outputs": [],
   "execution_count": 116
  },
  {
   "metadata": {
    "ExecuteTime": {
     "end_time": "2024-08-04T12:22:48.102527Z",
     "start_time": "2024-08-04T12:22:48.099664Z"
    }
   },
   "cell_type": "code",
   "source": "df = pd.read_csv('./../data/price_elasticity_data.csv')",
   "id": "900e7200d97fdc50",
   "outputs": [],
   "execution_count": 117
  },
  {
   "metadata": {
    "ExecuteTime": {
     "end_time": "2024-08-04T12:22:48.120749Z",
     "start_time": "2024-08-04T12:22:48.117931Z"
    }
   },
   "cell_type": "code",
   "source": "df.isnull().sum()",
   "id": "75145f9184aa02c0",
   "outputs": [
    {
     "data": {
      "text/plain": [
       "Product              0\n",
       "Menu_Price           0\n",
       "Pizza_Count          0\n",
       "Profit_Percentage    0\n",
       "dtype: int64"
      ]
     },
     "execution_count": 118,
     "metadata": {},
     "output_type": "execute_result"
    }
   ],
   "execution_count": 118
  },
  {
   "metadata": {},
   "cell_type": "markdown",
   "source": "rename columns",
   "id": "7e4ce0266571c1f1"
  },
  {
   "metadata": {
    "ExecuteTime": {
     "end_time": "2024-08-04T12:22:48.129656Z",
     "start_time": "2024-08-04T12:22:48.126730Z"
    }
   },
   "cell_type": "code",
   "source": [
    "names = {'Menu_Price': 'unit_price', 'Pizza_Count': 'quantity', 'Profit_Percentage': 'profit_percentage'}\n",
    "df.rename(columns=names, inplace=True)"
   ],
   "id": "49bdb50ab445fcde",
   "outputs": [],
   "execution_count": 119
  },
  {
   "metadata": {},
   "cell_type": "markdown",
   "source": "# calculate additional features",
   "id": "efd97edaeb92d41f"
  },
  {
   "metadata": {
    "ExecuteTime": {
     "end_time": "2024-08-04T12:22:48.149807Z",
     "start_time": "2024-08-04T12:22:48.146867Z"
    }
   },
   "cell_type": "code",
   "source": [
    "df['gross_margin'] = df['profit_percentage'] / 100\n",
    "df['gross_profit'] = df['unit_price'] * (1 - df['gross_margin'])\n",
    "df['cost'] = df['unit_price'] - df['gross_profit']"
   ],
   "id": "3f17d9404acd4323",
   "outputs": [],
   "execution_count": 120
  },
  {
   "metadata": {},
   "cell_type": "markdown",
   "source": "# Subset the dataframe for 'Communita' product and create a copy",
   "id": "f131e5ffa842285e"
  },
  {
   "metadata": {
    "ExecuteTime": {
     "end_time": "2024-08-04T12:22:48.163453Z",
     "start_time": "2024-08-04T12:22:48.154329Z"
    }
   },
   "cell_type": "code",
   "source": "communita_df = df[df['Product'] == 'Communita'].copy()",
   "id": "c4d100e81478b220",
   "outputs": [],
   "execution_count": 121
  },
  {
   "metadata": {
    "ExecuteTime": {
     "end_time": "2024-08-04T12:22:48.168143Z",
     "start_time": "2024-08-04T12:22:48.164154Z"
    }
   },
   "cell_type": "code",
   "source": "communita_df.isnull().sum()",
   "id": "f5b673f025dfe795",
   "outputs": [
    {
     "data": {
      "text/plain": [
       "Product              0\n",
       "unit_price           0\n",
       "quantity             0\n",
       "profit_percentage    0\n",
       "gross_margin         0\n",
       "gross_profit         0\n",
       "cost                 0\n",
       "dtype: int64"
      ]
     },
     "execution_count": 122,
     "metadata": {},
     "output_type": "execute_result"
    }
   ],
   "execution_count": 122
  },
  {
   "metadata": {
    "ExecuteTime": {
     "end_time": "2024-08-04T12:22:48.172011Z",
     "start_time": "2024-08-04T12:22:48.168797Z"
    }
   },
   "cell_type": "code",
   "source": "communita_df['unit_price'].max()",
   "id": "c766cf74524e8b11",
   "outputs": [
    {
     "data": {
      "text/plain": [
       "np.float64(25.64)"
      ]
     },
     "execution_count": 123,
     "metadata": {},
     "output_type": "execute_result"
    }
   ],
   "execution_count": 123
  },
  {
   "metadata": {
    "ExecuteTime": {
     "end_time": "2024-08-04T12:22:48.202510Z",
     "start_time": "2024-08-04T12:22:48.200298Z"
    }
   },
   "cell_type": "code",
   "source": [
    "def identify_outliers(df, column):\n",
    "    \"\"\"\n",
    "     Identify outliers in a specified column of a DataFrame using the \n",
    "     Interquartile Range (IQR) method.\n",
    "     \n",
    "     The function calculates the first quartile (Q1) and the third quartile \n",
    "     (Q3) of the specified column. The interquartile range (IQR) is then \n",
    "     computed as the difference between Q3 and Q1.\n",
    "    \n",
    "     Outliers are defined as data points that fall below Q1 - 1.5 * IQR or \n",
    "     above Q3 + 1.5 * IQR. The function returns the rows containing these  \n",
    "     outliers along with the calculated lower and upper bounds.\n",
    "\n",
    "    :param df: \n",
    "    :param column: \n",
    "    :return: tuple: A tuple containing:\n",
    "        - pandas.DataFrame: A DataFrame containing the rows identified as outliers.\n",
    "        - float: The lower bound for identifying outliers.\n",
    "        - float: The upper bound for identifying outliers.\n",
    "    \"\"\"\n",
    "    Q1 = df[column].quantile(0.25)\n",
    "    Q3 = df[column].quantile(0.75)\n",
    "    IQR = Q3 - Q1\n",
    "    lower_bound = Q1 - 1.5 * IQR\n",
    "    upper_bound = Q3 + 1.5 * IQR\n",
    "    return df[(df[column] < lower_bound) | (df[column] > upper_bound)], lower_bound, upper_bound"
   ],
   "id": "16ad3fef2fd40f0e",
   "outputs": [],
   "execution_count": 124
  },
  {
   "metadata": {
    "ExecuteTime": {
     "end_time": "2024-08-04T12:22:48.211583Z",
     "start_time": "2024-08-04T12:22:48.208583Z"
    }
   },
   "cell_type": "code",
   "source": "communita_outliers, comm_lower, comm_upper = identify_outliers(df[df['Product'] == 'Communita'], 'unit_price')",
   "id": "c432becbae8b37f2",
   "outputs": [],
   "execution_count": 125
  },
  {
   "metadata": {},
   "cell_type": "markdown",
   "source": "remove high side outliers",
   "id": "42772a3e8bf1540c"
  },
  {
   "metadata": {
    "ExecuteTime": {
     "end_time": "2024-08-04T12:22:48.219001Z",
     "start_time": "2024-08-04T12:22:48.217024Z"
    }
   },
   "cell_type": "code",
   "source": "data_no_outliers = communita_df.drop(communita_outliers[communita_outliers['unit_price'] > comm_upper].index)",
   "id": "32778e66ac730deb",
   "outputs": [],
   "execution_count": 126
  },
  {
   "metadata": {},
   "cell_type": "markdown",
   "source": "remove low side outliers",
   "id": "fd7e0d6db58d48d1"
  },
  {
   "metadata": {
    "ExecuteTime": {
     "end_time": "2024-08-04T12:22:48.229717Z",
     "start_time": "2024-08-04T12:22:48.227763Z"
    }
   },
   "cell_type": "code",
   "source": "communita_df = data_no_outliers.drop(communita_outliers[communita_outliers['unit_price'] < comm_lower].index)",
   "id": "8cd8278abb034e63",
   "outputs": [],
   "execution_count": 127
  },
  {
   "metadata": {},
   "cell_type": "markdown",
   "source": "### Display the statistics",
   "id": "8edc41d08f25df64"
  },
  {
   "metadata": {
    "ExecuteTime": {
     "end_time": "2024-08-04T12:22:48.259749Z",
     "start_time": "2024-08-04T12:22:48.253969Z"
    }
   },
   "cell_type": "code",
   "source": [
    "print(f\"Individuale Price Statistics without High Side Outliers:\\n{communita_df}\")\n",
    "print(f\"\\nCommunita Price Statistics without High Side Outliers:\\n{communita_df}\")"
   ],
   "id": "6b1354d4a86f543",
   "outputs": [
    {
     "name": "stdout",
     "output_type": "stream",
     "text": [
      "Individuale Price Statistics without High Side Outliers:\n",
      "       Product  unit_price  quantity  profit_percentage  gross_margin  \\\n",
      "72   Communita        7.75  3.477570          26.713227      0.267132   \n",
      "73   Communita        8.88  3.254277          31.495838      0.314958   \n",
      "74   Communita        9.35  3.355994          31.560711      0.315607   \n",
      "75   Communita        9.67  3.359889          32.743797      0.327438   \n",
      "76   Communita        9.93  3.326368          33.301388      0.333014   \n",
      "..         ...         ...       ...                ...           ...   \n",
      "150  Communita       16.00  3.164765          49.260706      0.492607   \n",
      "151  Communita       16.32  3.254308          49.061000      0.490610   \n",
      "152  Communita       16.49  3.139681          49.011439      0.490114   \n",
      "153  Communita       16.50  3.149412          48.987274      0.489873   \n",
      "154  Communita       16.99  3.140224          49.472921      0.494729   \n",
      "\n",
      "     gross_profit      cost  \n",
      "72       5.679725  2.070275  \n",
      "73       6.083170  2.796830  \n",
      "74       6.399073  2.950927  \n",
      "75       6.503675  3.166325  \n",
      "76       6.623172  3.306828  \n",
      "..            ...       ...  \n",
      "150      8.118287  7.881713  \n",
      "151      8.313245  8.006755  \n",
      "152      8.408014  8.081986  \n",
      "153      8.417100  8.082900  \n",
      "154      8.584551  8.405449  \n",
      "\n",
      "[83 rows x 7 columns]\n",
      "\n",
      "Communita Price Statistics without High Side Outliers:\n",
      "       Product  unit_price  quantity  profit_percentage  gross_margin  \\\n",
      "72   Communita        7.75  3.477570          26.713227      0.267132   \n",
      "73   Communita        8.88  3.254277          31.495838      0.314958   \n",
      "74   Communita        9.35  3.355994          31.560711      0.315607   \n",
      "75   Communita        9.67  3.359889          32.743797      0.327438   \n",
      "76   Communita        9.93  3.326368          33.301388      0.333014   \n",
      "..         ...         ...       ...                ...           ...   \n",
      "150  Communita       16.00  3.164765          49.260706      0.492607   \n",
      "151  Communita       16.32  3.254308          49.061000      0.490610   \n",
      "152  Communita       16.49  3.139681          49.011439      0.490114   \n",
      "153  Communita       16.50  3.149412          48.987274      0.489873   \n",
      "154  Communita       16.99  3.140224          49.472921      0.494729   \n",
      "\n",
      "     gross_profit      cost  \n",
      "72       5.679725  2.070275  \n",
      "73       6.083170  2.796830  \n",
      "74       6.399073  2.950927  \n",
      "75       6.503675  3.166325  \n",
      "76       6.623172  3.306828  \n",
      "..            ...       ...  \n",
      "150      8.118287  7.881713  \n",
      "151      8.313245  8.006755  \n",
      "152      8.408014  8.081986  \n",
      "153      8.417100  8.082900  \n",
      "154      8.584551  8.405449  \n",
      "\n",
      "[83 rows x 7 columns]\n"
     ]
    }
   ],
   "execution_count": 128
  },
  {
   "metadata": {},
   "cell_type": "markdown",
   "source": "# Fit linear regression model",
   "id": "e3514f02a71c10d3"
  },
  {
   "metadata": {
    "ExecuteTime": {
     "end_time": "2024-08-04T12:22:48.278402Z",
     "start_time": "2024-08-04T12:22:48.262473Z"
    }
   },
   "cell_type": "code",
   "source": [
    "# extract x and y values\n",
    "x_value = communita_df['unit_price']\n",
    "y_value = communita_df['quantity']\n",
    "\n",
    "# ensure x and y are of the same length\n",
    "assert len(x_value) == len(y_value), \"x and y must have the same length\"\n",
    "\n",
    "# add a constant to the independent variable (unit_price)\n",
    "X = add_constant(x_value)\n",
    "\n",
    "# fit the regression model\n",
    "model = sm.OLS(y_value, X)\n",
    "communita_result = model.fit()\n",
    "\n",
    "# print the summary of the regression model\n",
    "print(communita_result.summary())"
   ],
   "id": "30f9f13f48385da3",
   "outputs": [
    {
     "name": "stdout",
     "output_type": "stream",
     "text": [
      "                            OLS Regression Results                            \n",
      "==============================================================================\n",
      "Dep. Variable:               quantity   R-squared:                       0.694\n",
      "Model:                            OLS   Adj. R-squared:                  0.690\n",
      "Method:                 Least Squares   F-statistic:                     183.9\n",
      "Date:                Sun, 04 Aug 2024   Prob (F-statistic):           1.53e-22\n",
      "Time:                        22:22:48   Log-Likelihood:                 130.66\n",
      "No. Observations:                  83   AIC:                            -257.3\n",
      "Df Residuals:                      81   BIC:                            -252.5\n",
      "Df Model:                           1                                         \n",
      "Covariance Type:            nonrobust                                         \n",
      "==============================================================================\n",
      "                 coef    std err          t      P>|t|      [0.025      0.975]\n",
      "------------------------------------------------------------------------------\n",
      "const          3.8237      0.038    101.431      0.000       3.749       3.899\n",
      "unit_price    -0.0395      0.003    -13.559      0.000      -0.045      -0.034\n",
      "==============================================================================\n",
      "Omnibus:                       32.444   Durbin-Watson:                   0.591\n",
      "Prob(Omnibus):                  0.000   Jarque-Bera (JB):               73.096\n",
      "Skew:                          -1.376   Prob(JB):                     1.34e-16\n",
      "Kurtosis:                       6.683   Cond. No.                         88.1\n",
      "==============================================================================\n",
      "\n",
      "Notes:\n",
      "[1] Standard Errors assume that the covariance matrix of the errors is correctly specified.\n"
     ]
    }
   ],
   "execution_count": 129
  },
  {
   "metadata": {},
   "cell_type": "markdown",
   "source": [
    "# Analysis\n",
    "Here’s a detailed analysis of the OLS regression results, having removed outliers:"
   ],
   "id": "f8fe119e62216a1d"
  },
  {
   "metadata": {},
   "cell_type": "markdown",
   "source": "# Get the predicted values",
   "id": "efeffd41330cd3f1"
  },
  {
   "metadata": {
    "ExecuteTime": {
     "end_time": "2024-08-04T12:22:48.289516Z",
     "start_time": "2024-08-04T12:22:48.279188Z"
    }
   },
   "cell_type": "code",
   "source": "predictions = communita_result.predict(X)",
   "id": "1129e6234e4dd48",
   "outputs": [],
   "execution_count": 130
  },
  {
   "metadata": {},
   "cell_type": "markdown",
   "source": "Add predictions to the dataframe",
   "id": "3b4ad48d6a5a2e8c"
  },
  {
   "metadata": {
    "ExecuteTime": {
     "end_time": "2024-08-04T12:22:48.298353Z",
     "start_time": "2024-08-04T12:22:48.290070Z"
    }
   },
   "cell_type": "code",
   "source": "communita_df['predictions'] = predictions",
   "id": "6000c264848d77d9",
   "outputs": [],
   "execution_count": 131
  },
  {
   "metadata": {},
   "cell_type": "markdown",
   "source": "Create a scatter plot with the regression line",
   "id": "838954b6665acc8a"
  },
  {
   "metadata": {
    "ExecuteTime": {
     "end_time": "2024-08-04T12:22:48.460554Z",
     "start_time": "2024-08-04T12:22:48.311205Z"
    }
   },
   "cell_type": "code",
   "source": [
    "plt.figure(figsize=(10, 6))\n",
    "plt.scatter(\n",
    "    communita_df['unit_price'], \n",
    "    communita_df['quantity'], \n",
    "    alpha=0.5, \n",
    "    label='Data points'\n",
    ")\n",
    "plt.plot(\n",
    "    communita_df['unit_price'], \n",
    "    predictions, \n",
    "    color='red', \n",
    "    linewidth=2, \n",
    "    label='Regression line'\n",
    ")\n",
    "plt.title('Communita Scatter Plot of Price vs Quantity w/ Regression Line')\n",
    "plt.xlabel('Unit Price')\n",
    "plt.ylabel('Quantity')\n",
    "plt.legend()\n",
    "plt.grid(True)\n",
    "plt.savefig('./../plots/communita_slr_no_outliers_scatter_plot_with_regression_line')\n",
    "plt.show()"
   ],
   "id": "e46f8e7c03db7a93",
   "outputs": [
    {
     "data": {
      "text/plain": [
       "<Figure size 1000x600 with 1 Axes>"
      ],
      "image/png": "[encoded data removed]"
     },
     "metadata": {},
     "output_type": "display_data"
    }
   ],
   "execution_count": 132
  },
  {
   "metadata": {},
   "cell_type": "markdown",
   "source": [
    "The regression line represents the relationship between unit price and quantity demanded as modelled by simple linear regression. We can use it to derive our Price elasticity of demand (PED)\n",
    "\n",
    "The regression line can be expressed as:\n",
    "$$\\text{Quantity} = \\alpha + \\beta \\times \\text{Price}$$\n",
    "\n",
    "where:\n",
    "- $\\alpha$ is the intercept of the line.\n",
    "- $\\beta$ is the slope of the regression line\n",
    "\n",
    "From our regression summary we know that:\n",
    "- $\\alpha = $\n",
    "- $\\beta = $"
   ],
   "id": "be08d43bdbaf3a19"
  },
  {
   "metadata": {
    "ExecuteTime": {
     "end_time": "2024-08-04T12:22:48.463027Z",
     "start_time": "2024-08-04T12:22:48.461302Z"
    }
   },
   "cell_type": "code",
   "source": "mean_cost = np.mean(communita_df['cost'])",
   "id": "90587dfa86ff85c2",
   "outputs": [],
   "execution_count": 133
  },
  {
   "metadata": {},
   "cell_type": "markdown",
   "source": "# Access alpha and beta directly from the fitted model",
   "id": "63dcb86ddd58fc64"
  },
  {
   "metadata": {
    "ExecuteTime": {
     "end_time": "2024-08-04T12:22:48.472719Z",
     "start_time": "2024-08-04T12:22:48.463490Z"
    }
   },
   "cell_type": "code",
   "source": [
    "alpha = communita_result.params['const']\n",
    "alpha"
   ],
   "id": "6cc93534e2b8ee8e",
   "outputs": [
    {
     "data": {
      "text/plain": [
       "np.float64(3.823729311509548)"
      ]
     },
     "execution_count": 134,
     "metadata": {},
     "output_type": "execute_result"
    }
   ],
   "execution_count": 134
  },
  {
   "metadata": {
    "ExecuteTime": {
     "end_time": "2024-08-04T12:22:48.477942Z",
     "start_time": "2024-08-04T12:22:48.473493Z"
    }
   },
   "cell_type": "code",
   "source": [
    "beta = communita_result.params['unit_price']\n",
    "beta"
   ],
   "id": "6a5b4dfc28a8d3d",
   "outputs": [
    {
     "data": {
      "text/plain": [
       "np.float64(-0.039492766265993046)"
      ]
     },
     "execution_count": 135,
     "metadata": {},
     "output_type": "execute_result"
    }
   ],
   "execution_count": 135
  },
  {
   "metadata": {},
   "cell_type": "markdown",
   "source": "# Calculate mean price and mean quantity",
   "id": "2e26e65a78a472b4"
  },
  {
   "metadata": {
    "ExecuteTime": {
     "end_time": "2024-08-04T12:22:48.481295Z",
     "start_time": "2024-08-04T12:22:48.478410Z"
    }
   },
   "cell_type": "code",
   "source": [
    "communita_mean_price = np.mean(communita_df['unit_price'])\n",
    "communita_mean_quantity = np.mean(communita_df['quantity'])"
   ],
   "id": "dc2dfc71100aaf4e",
   "outputs": [],
   "execution_count": 136
  },
  {
   "metadata": {},
   "cell_type": "markdown",
   "source": "# Calculate PED",
   "id": "b2fde0f3de70044d"
  },
  {
   "metadata": {
    "ExecuteTime": {
     "end_time": "2024-08-04T12:22:48.484796Z",
     "start_time": "2024-08-04T12:22:48.481755Z"
    }
   },
   "cell_type": "code",
   "source": [
    "ped = beta * (communita_mean_price / communita_mean_quantity)\n",
    "print(f'Price Elasticity of Demand: {ped}')"
   ],
   "id": "a746ae09ef0faee5",
   "outputs": [
    {
     "name": "stdout",
     "output_type": "stream",
     "text": [
      "Price Elasticity of Demand: -0.1523560773619287\n"
     ]
    }
   ],
   "execution_count": 137
  },
  {
   "metadata": {},
   "cell_type": "markdown",
   "source": "Communita is less elastic and individuale",
   "id": "4492de64e471d1c1"
  },
  {
   "metadata": {},
   "cell_type": "markdown",
   "source": [
    "# plot profit curve\n",
    "we want to know at what price point we maximise gross profit"
   ],
   "id": "4b22c0c59aa1a55a"
  },
  {
   "metadata": {
    "ExecuteTime": {
     "end_time": "2024-08-04T12:22:48.488510Z",
     "start_time": "2024-08-04T12:22:48.485331Z"
    }
   },
   "cell_type": "code",
   "source": [
    "# Calculate the gross profit based on the predictions\n",
    "communita_df['gross_profit_predictions'] = (communita_df['unit_price'] - communita_df['cost']) * communita_df['predictions']"
   ],
   "id": "f658cb1939c8b49d",
   "outputs": [],
   "execution_count": 138
  },
  {
   "metadata": {},
   "cell_type": "markdown",
   "source": "# Find the price that maximizes gross profit",
   "id": "788b0c7fb580f4f"
  },
  {
   "metadata": {
    "ExecuteTime": {
     "end_time": "2024-08-04T12:22:48.492274Z",
     "start_time": "2024-08-04T12:22:48.488965Z"
    }
   },
   "cell_type": "code",
   "source": [
    "optimal_price = communita_df.loc[communita_df['gross_profit_predictions'].idxmax(), 'unit_price']\n",
    "max_gross_profit = communita_df['gross_profit_predictions'].max()\n",
    "optimal_quantity = communita_df.loc[communita_df['gross_profit_predictions'].idxmax(), 'predictions']"
   ],
   "id": "23363976d9ba635",
   "outputs": [],
   "execution_count": 139
  },
  {
   "metadata": {
    "ExecuteTime": {
     "end_time": "2024-08-04T12:22:48.495856Z",
     "start_time": "2024-08-04T12:22:48.492715Z"
    }
   },
   "cell_type": "code",
   "source": [
    "def gross_profit_function(price):\n",
    "    \"\"\"\n",
    "    Define the gross profit function based on the regression model\n",
    "    :param price: \n",
    "    :return: \n",
    "    \"\"\"\n",
    "    return (price - mean_cost) * (alpha + beta * price)"
   ],
   "id": "8691c19cd0a98701",
   "outputs": [],
   "execution_count": 140
  },
  {
   "metadata": {},
   "cell_type": "markdown",
   "source": "Calculate the first derivative (slope) at the optimal price",
   "id": "1170ee18394e1cd3"
  },
  {
   "metadata": {
    "ExecuteTime": {
     "end_time": "2024-08-04T12:22:48.500743Z",
     "start_time": "2024-08-04T12:22:48.496843Z"
    }
   },
   "cell_type": "code",
   "source": [
    "derivative_function = nd.Derivative(gross_profit_function)\n",
    "slope_at_optimal_price = derivative_function(optimal_price)"
   ],
   "id": "fdbf85c6ae4b78cb",
   "outputs": [],
   "execution_count": 141
  },
  {
   "metadata": {},
   "cell_type": "markdown",
   "source": "first derivative line, given point and slope",
   "id": "d356c7648f5458f4"
  },
  {
   "metadata": {
    "ExecuteTime": {
     "end_time": "2024-08-04T12:22:48.505840Z",
     "start_time": "2024-08-04T12:22:48.501218Z"
    }
   },
   "cell_type": "code",
   "source": [
    "# fix_me\n",
    "x1, y1 = max_gross_profit, max_gross_profit\n",
    "slope = slope_at_optimal_price\n",
    "intercept = y1 - slope * x1  # calculate y-intercept\n",
    "x_vals = np.linspace(communita_df['unit_price'].min(), communita_df['unit_price'].max(), 100)  # generate x values for the line\n",
    "y_vals = slope * x_vals + intercept  # calculate y values using the line equation"
   ],
   "id": "4a19e8a39fb5bf46",
   "outputs": [],
   "execution_count": 142
  },
  {
   "metadata": {},
   "cell_type": "markdown",
   "source": "# Plot the original gross profit curve",
   "id": "a88e440b317327d8"
  },
  {
   "metadata": {
    "ExecuteTime": {
     "end_time": "2024-08-04T12:22:48.593529Z",
     "start_time": "2024-08-04T12:22:48.506291Z"
    }
   },
   "cell_type": "code",
   "source": [
    "plt.figure(figsize=(10, 6))\n",
    "plt.plot(\n",
    "    communita_df['unit_price'], \n",
    "    communita_df['gross_profit_predictions'], \n",
    "    label='Gross Profit Curve'\n",
    ")\n",
    "plt.scatter(\n",
    "    optimal_price, \n",
    "    max_gross_profit, \n",
    "    color='red', \n",
    "    label=f'Optimal Price: {optimal_price:.2f}'\n",
    ")\n",
    "plt.plot(\n",
    "    x_vals, \n",
    "    y_vals, \n",
    "    color='red', \n",
    "    linestyle='--', \n",
    "    label=f'Tangent Line at Optimal Price'\n",
    ")  # fix_me\n",
    "plt.title('Gross Profit Curve (Original Data)')\n",
    "plt.xlabel('Unit Price')\n",
    "plt.ylabel('Gross Profit')\n",
    "plt.legend()\n",
    "plt.grid(True)\n",
    "plt.show()"
   ],
   "id": "39b37a08fccd1a54",
   "outputs": [
    {
     "data": {
      "text/plain": [
       "<Figure size 1000x600 with 1 Axes>"
      ],
      "image/png": "[encoded data removed]"
     },
     "metadata": {},
     "output_type": "display_data"
    }
   ],
   "execution_count": 143
  },
  {
   "metadata": {},
   "cell_type": "markdown",
   "source": "",
   "id": "2a0ceb2c3f83ca76"
  },
  {
   "metadata": {},
   "cell_type": "markdown",
   "source": "Print the optimal price and slope at that point",
   "id": "7aee72157b3e6eda"
  },
  {
   "metadata": {
    "ExecuteTime": {
     "end_time": "2024-08-04T12:22:48.596178Z",
     "start_time": "2024-08-04T12:22:48.594105Z"
    }
   },
   "cell_type": "code",
   "source": [
    "print(f'Optimal Price (Original): {round(optimal_price, 2)}')\n",
    "print(f'Optimal Quantity (Original): {round(optimal_quantity, 0)}')\n",
    "print(f'Maximum Gross Profit: {round(max_gross_profit, 2)}')\n",
    "print(f'Slope of the Gross Profit Function at Optimal Price: {slope_at_optimal_price}')"
   ],
   "id": "32832e991f080983",
   "outputs": [
    {
     "name": "stdout",
     "output_type": "stream",
     "text": [
      "Optimal Price (Original): 16.99\n",
      "Optimal Quantity (Original): 3.0\n",
      "Maximum Gross Profit: 27.06\n",
      "Slope of the Gross Profit Function at Optimal Price: 2.7032873208187955\n"
     ]
    }
   ],
   "execution_count": 144
  },
  {
   "metadata": {},
   "cell_type": "markdown",
   "source": "# Analysis\n",
   "id": "6dea7e1a2a5fb688"
  },
  {
   "metadata": {},
   "cell_type": "markdown",
   "source": [
    "# Extend the predictions\n",
    "Create a new range of unit prices extending beyond the observed data"
   ],
   "id": "86717eeb8510bd30"
  },
  {
   "metadata": {
    "ExecuteTime": {
     "end_time": "2024-08-04T12:22:48.605279Z",
     "start_time": "2024-08-04T12:22:48.596746Z"
    }
   },
   "cell_type": "code",
   "source": [
    "new_unit_prices = np.linspace(communita_df['unit_price'].min(), 100, 100)\n",
    "new_X = sm.add_constant(new_unit_prices)"
   ],
   "id": "6e9ecb10ce2063d0",
   "outputs": [],
   "execution_count": 145
  },
  {
   "metadata": {},
   "cell_type": "markdown",
   "source": "Predict the quantities for the new range of unit prices",
   "id": "9e3221edea6bbbd5"
  },
  {
   "metadata": {
    "ExecuteTime": {
     "end_time": "2024-08-04T12:22:48.614124Z",
     "start_time": "2024-08-04T12:22:48.605879Z"
    }
   },
   "cell_type": "code",
   "source": "new_predictions = communita_result.predict(new_X)",
   "id": "23ad57f4fda2ff83",
   "outputs": [],
   "execution_count": 146
  },
  {
   "metadata": {},
   "cell_type": "markdown",
   "source": "Calculate the gross profit for the new unit prices. Assuming cost remains constant, using the mean cost from the original data",
   "id": "38f88be4fca2fd6c"
  },
  {
   "metadata": {
    "ExecuteTime": {
     "end_time": "2024-08-04T12:22:48.628862Z",
     "start_time": "2024-08-04T12:22:48.614632Z"
    }
   },
   "cell_type": "code",
   "source": "new_gross_profits = (new_unit_prices - mean_cost) * new_predictions",
   "id": "36fd3be9e59bef76",
   "outputs": [],
   "execution_count": 147
  },
  {
   "metadata": {},
   "cell_type": "markdown",
   "source": "Find the price that maximizes gross profit",
   "id": "1e69226f54c317fa"
  },
  {
   "metadata": {
    "ExecuteTime": {
     "end_time": "2024-08-04T12:22:48.639537Z",
     "start_time": "2024-08-04T12:22:48.629378Z"
    }
   },
   "cell_type": "code",
   "source": [
    "max_index = np.argmax(new_gross_profits)\n",
    "optimal_price_extended = new_unit_prices[np.argmax(new_gross_profits)]\n",
    "max_gross_profit_extended = new_gross_profits.max()\n",
    "optimal_quantity_extended = new_predictions[max_index]"
   ],
   "id": "8bd5a4fefe1ebb3b",
   "outputs": [],
   "execution_count": 148
  },
  {
   "metadata": {
    "ExecuteTime": {
     "end_time": "2024-08-04T12:22:48.644360Z",
     "start_time": "2024-08-04T12:22:48.640103Z"
    }
   },
   "cell_type": "code",
   "source": [
    "def extended_gross_profit_function(price):\n",
    "    \"\"\"\n",
    "    Define the gross profit function based on the regression model\n",
    "    :param price: \n",
    "    :return: \n",
    "    \"\"\"\n",
    "    return (price - mean_cost) * (alpha + beta * price)"
   ],
   "id": "377438859ce252d",
   "outputs": [],
   "execution_count": 149
  },
  {
   "metadata": {},
   "cell_type": "markdown",
   "source": "Calculate the first derivative (slope) at the optimal price",
   "id": "fe3434ea6db9d834"
  },
  {
   "metadata": {
    "ExecuteTime": {
     "end_time": "2024-08-04T12:22:48.649314Z",
     "start_time": "2024-08-04T12:22:48.644833Z"
    }
   },
   "cell_type": "code",
   "source": [
    "derivative_function = nd.Derivative(extended_gross_profit_function)\n",
    "slope_at_optimal_price_extended = derivative_function(optimal_price_extended)"
   ],
   "id": "a720fa85f238a904",
   "outputs": [],
   "execution_count": 150
  },
  {
   "metadata": {},
   "cell_type": "markdown",
   "source": "# Plot the extended gross profit curve",
   "id": "6f6634513bb31a58"
  },
  {
   "metadata": {
    "ExecuteTime": {
     "end_time": "2024-08-04T12:22:48.791653Z",
     "start_time": "2024-08-04T12:22:48.649844Z"
    }
   },
   "cell_type": "code",
   "source": [
    "plt.figure(figsize=(10, 6))\n",
    "plt.plot(\n",
    "    new_unit_prices, \n",
    "    new_gross_profits, \n",
    "    label='Gross Profit Curve'\n",
    ")\n",
    "plt.scatter(\n",
    "    optimal_price_extended, \n",
    "    max_gross_profit_extended, \n",
    "    color='red', \n",
    "    label=f'Optimal Price: {optimal_price_extended:.2f}'\n",
    ")\n",
    "plt.axhline(\n",
    "    y=max_gross_profit_extended, \n",
    "    color='red', \n",
    "    linestyle='--', \n",
    "    label=f'Second derivative slope: {slope_at_optimal_price_extended:.4f}'\n",
    ")\n",
    "plt.title('Communita GP Curve (Extended)')\n",
    "plt.xlabel('Unit Price')\n",
    "plt.ylabel('Gross Profit')\n",
    "plt.legend()\n",
    "plt.grid(True)\n",
    "plt.savefig('./../plots/communita_ext_gp_curve')\n",
    "plt.show()"
   ],
   "id": "bb0a2f50e4c31109",
   "outputs": [
    {
     "data": {
      "text/plain": [
       "<Figure size 1000x600 with 1 Axes>"
      ],
      "image/png": "[encoded data removed]"
     },
     "metadata": {},
     "output_type": "display_data"
    }
   ],
   "execution_count": 151
  },
  {
   "metadata": {},
   "cell_type": "markdown",
   "source": [
    "# Analysis\n",
    "the optimal price is significantly reduced by excluding outliers. This seems more realistic\n"
   ],
   "id": "838cc88c25f7a841"
  },
  {
   "metadata": {},
   "cell_type": "markdown",
   "source": "# Print the optimal price and maximum gross profit",
   "id": "cb893d1918a1729a"
  },
  {
   "metadata": {
    "ExecuteTime": {
     "end_time": "2024-08-04T12:22:48.794856Z",
     "start_time": "2024-08-04T12:22:48.792831Z"
    }
   },
   "cell_type": "code",
   "source": [
    "print(f'Optimal Price (Extended): {round(optimal_price_extended, 2)}')\n",
    "print(f'Optimal Quantity (Extended): {round(optimal_quantity_extended, 2)}')\n",
    "print(f'Maximum Gross Profit (Extended): {max_gross_profit_extended}')\n",
    "print(f'Slope of the Gross Profit Function at Optimal Price (Extended): {slope_at_optimal_price_extended}')"
   ],
   "id": "1c6f78eefa3dce8b",
   "outputs": [
    {
     "name": "stdout",
     "output_type": "stream",
     "text": [
      "Optimal Price (Extended): 51.55\n",
      "Optimal Quantity (Extended): 1.79\n",
      "Maximum Gross Profit (Extended): 82.13665673089957\n",
      "Slope of the Gross Profit Function at Optimal Price (Extended): -0.02609365833877807\n"
     ]
    }
   ],
   "execution_count": 152
  },
  {
   "metadata": {},
   "cell_type": "markdown",
   "source": [
    "# Analysis\n",
    "So, on the face of it, the optimal price point is 58.78 which is confirmed by the slope of the first derivative, which is very close to 0. \n",
    "\n",
    "However, because we're making predictions outside the dataset, it can only be considered a hypothesis at this point. We have no data to substantiate it. We should set up an experiment to gather more data about sales quantities at higher price points.\n",
    "\n",
    "- Hypothesis ($H_1$): The optimal unit price that maximises gross profit is 58.78\n",
    "- Null Hypothesis ($H_0$): The optimal unit price that maximises gross profit is different from 58.78"
   ],
   "id": "1c702410ac03d46f"
  },
  {
   "metadata": {
    "ExecuteTime": {
     "end_time": "2024-08-04T12:22:48.798194Z",
     "start_time": "2024-08-04T12:22:48.795359Z"
    }
   },
   "cell_type": "code",
   "source": [
    "# todo: use plotly for the graphs we we can see price and quantity at different points using hover text, \n",
    "# todo: update analysis"
   ],
   "id": "e2de27222db1e1d5",
   "outputs": [],
   "execution_count": 153
  }
 ],
 "metadata": {
  "kernelspec": {
   "display_name": "Python 3",
   "language": "python",
   "name": "python3"
  },
  "language_info": {
   "codemirror_mode": {
    "name": "ipython",
    "version": 2
   },
   "file_extension": ".py",
   "mimetype": "text/x-python",
   "name": "python",
   "nbconvert_exporter": "python",
   "pygments_lexer": "ipython2",
   "version": "2.7.6"
  }
 },
 "nbformat": 4,
 "nbformat_minor": 5
}
