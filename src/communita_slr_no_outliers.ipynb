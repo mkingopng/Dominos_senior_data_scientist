{
 "cells": [
  {
   "cell_type": "code",
   "id": "initial_id",
   "metadata": {
    "collapsed": true,
    "ExecuteTime": {
     "end_time": "2024-08-07T00:33:16.799699Z",
     "start_time": "2024-08-07T00:33:16.797555Z"
    }
   },
   "source": [
    "import statsmodels.api as sm\n",
    "from statsmodels.tools.tools import add_constant\n",
    "import pandas as pd\n",
    "import matplotlib.pyplot as plt\n",
    "import numpy as np\n",
    "import numdifftools as nd"
   ],
   "outputs": [],
   "execution_count": 216
  },
  {
   "metadata": {
    "ExecuteTime": {
     "end_time": "2024-08-07T00:33:17.081131Z",
     "start_time": "2024-08-07T00:33:17.077024Z"
    }
   },
   "cell_type": "code",
   "source": "df = pd.read_csv('./../data/price_elasticity_data.csv')",
   "id": "900e7200d97fdc50",
   "outputs": [],
   "execution_count": 217
  },
  {
   "metadata": {
    "ExecuteTime": {
     "end_time": "2024-08-07T00:33:17.107248Z",
     "start_time": "2024-08-07T00:33:17.103252Z"
    }
   },
   "cell_type": "code",
   "source": "df.isnull().sum()",
   "id": "75145f9184aa02c0",
   "outputs": [
    {
     "data": {
      "text/plain": [
       "Product              0\n",
       "Menu_Price           0\n",
       "Pizza_Count          0\n",
       "Profit_Percentage    0\n",
       "dtype: int64"
      ]
     },
     "execution_count": 218,
     "metadata": {},
     "output_type": "execute_result"
    }
   ],
   "execution_count": 218
  },
  {
   "metadata": {},
   "cell_type": "markdown",
   "source": "rename columns",
   "id": "7e4ce0266571c1f1"
  },
  {
   "metadata": {
    "ExecuteTime": {
     "end_time": "2024-08-07T00:33:17.141986Z",
     "start_time": "2024-08-07T00:33:17.139166Z"
    }
   },
   "cell_type": "code",
   "source": [
    "names = {'Menu_Price': 'unit_price', 'Pizza_Count': 'quantity', 'Profit_Percentage': 'profit_percentage'}\n",
    "df.rename(columns=names, inplace=True)"
   ],
   "id": "49bdb50ab445fcde",
   "outputs": [],
   "execution_count": 219
  },
  {
   "metadata": {},
   "cell_type": "markdown",
   "source": "# calculate additional features",
   "id": "efd97edaeb92d41f"
  },
  {
   "metadata": {
    "ExecuteTime": {
     "end_time": "2024-08-07T00:33:17.152915Z",
     "start_time": "2024-08-07T00:33:17.149959Z"
    }
   },
   "cell_type": "code",
   "source": [
    "df['gross_margin'] = df['profit_percentage'] / 100\n",
    "df['gross_profit'] = df['unit_price'] * (1 - df['gross_margin'])\n",
    "df['cost'] = df['unit_price'] - df['gross_profit']\n",
    "df['invoiced_sales'] = df['unit_price'] * df['quantity']\n",
    "df['invoiced_gp'] = df['gross_profit'] * df['quantity']"
   ],
   "id": "3f17d9404acd4323",
   "outputs": [],
   "execution_count": 220
  },
  {
   "metadata": {},
   "cell_type": "markdown",
   "source": "# Subset the dataframe for 'Communita' product and create a copy",
   "id": "f131e5ffa842285e"
  },
  {
   "metadata": {
    "ExecuteTime": {
     "end_time": "2024-08-07T00:33:17.166848Z",
     "start_time": "2024-08-07T00:33:17.156453Z"
    }
   },
   "cell_type": "code",
   "source": [
    "communita_df = df[df['Product'] == 'Communita'].copy()\n",
    "communita_df"
   ],
   "id": "c4d100e81478b220",
   "outputs": [
    {
     "data": {
      "text/plain": [
       "       Product  unit_price  quantity  profit_percentage  gross_margin  \\\n",
       "71   Communita        7.25  3.402471          24.943828      0.249438   \n",
       "72   Communita        7.75  3.477570          26.713227      0.267132   \n",
       "73   Communita        8.88  3.254277          31.495838      0.314958   \n",
       "74   Communita        9.35  3.355994          31.560711      0.315607   \n",
       "75   Communita        9.67  3.359889          32.743797      0.327438   \n",
       "..         ...         ...       ...                ...           ...   \n",
       "151  Communita       16.32  3.254308          49.061000      0.490610   \n",
       "152  Communita       16.49  3.139681          49.011439      0.490114   \n",
       "153  Communita       16.50  3.149412          48.987274      0.489873   \n",
       "154  Communita       16.99  3.140224          49.472921      0.494729   \n",
       "155  Communita       25.64  2.987975          50.765838      0.507658   \n",
       "\n",
       "     gross_profit       cost  invoiced_sales  invoiced_gp  \n",
       "71       5.441572   1.808428       24.667917    18.514794  \n",
       "72       5.679725   2.070275       26.951164    19.751639  \n",
       "73       6.083170   2.796830       28.897983    19.796321  \n",
       "74       6.399073   2.950927       31.378539    21.475249  \n",
       "75       6.503675   3.166325       32.490124    21.851624  \n",
       "..            ...        ...             ...          ...  \n",
       "151      8.313245   8.006755       53.110300    27.053856  \n",
       "152      8.408014   8.081986       51.773335    26.398479  \n",
       "153      8.417100   8.082900       51.965300    26.508916  \n",
       "154      8.584551   8.405449       53.352414    26.957416  \n",
       "155     12.623639  13.016361       76.611686    37.719122  \n",
       "\n",
       "[85 rows x 9 columns]"
      ],
      "text/html": [
       "<div>\n",
       "<style scoped>\n",
       "    .dataframe tbody tr th:only-of-type {\n",
       "        vertical-align: middle;\n",
       "    }\n",
       "\n",
       "    .dataframe tbody tr th {\n",
       "        vertical-align: top;\n",
       "    }\n",
       "\n",
       "    .dataframe thead th {\n",
       "        text-align: right;\n",
       "    }\n",
       "</style>\n",
       "<table border=\"1\" class=\"dataframe\">\n",
       "  <thead>\n",
       "    <tr style=\"text-align: right;\">\n",
       "      <th></th>\n",
       "      <th>Product</th>\n",
       "      <th>unit_price</th>\n",
       "      <th>quantity</th>\n",
       "      <th>profit_percentage</th>\n",
       "      <th>gross_margin</th>\n",
       "      <th>gross_profit</th>\n",
       "      <th>cost</th>\n",
       "      <th>invoiced_sales</th>\n",
       "      <th>invoiced_gp</th>\n",
       "    </tr>\n",
       "  </thead>\n",
       "  <tbody>\n",
       "    <tr>\n",
       "      <th>71</th>\n",
       "      <td>Communita</td>\n",
       "      <td>7.25</td>\n",
       "      <td>3.402471</td>\n",
       "      <td>24.943828</td>\n",
       "      <td>0.249438</td>\n",
       "      <td>5.441572</td>\n",
       "      <td>1.808428</td>\n",
       "      <td>24.667917</td>\n",
       "      <td>18.514794</td>\n",
       "    </tr>\n",
       "    <tr>\n",
       "      <th>72</th>\n",
       "      <td>Communita</td>\n",
       "      <td>7.75</td>\n",
       "      <td>3.477570</td>\n",
       "      <td>26.713227</td>\n",
       "      <td>0.267132</td>\n",
       "      <td>5.679725</td>\n",
       "      <td>2.070275</td>\n",
       "      <td>26.951164</td>\n",
       "      <td>19.751639</td>\n",
       "    </tr>\n",
       "    <tr>\n",
       "      <th>73</th>\n",
       "      <td>Communita</td>\n",
       "      <td>8.88</td>\n",
       "      <td>3.254277</td>\n",
       "      <td>31.495838</td>\n",
       "      <td>0.314958</td>\n",
       "      <td>6.083170</td>\n",
       "      <td>2.796830</td>\n",
       "      <td>28.897983</td>\n",
       "      <td>19.796321</td>\n",
       "    </tr>\n",
       "    <tr>\n",
       "      <th>74</th>\n",
       "      <td>Communita</td>\n",
       "      <td>9.35</td>\n",
       "      <td>3.355994</td>\n",
       "      <td>31.560711</td>\n",
       "      <td>0.315607</td>\n",
       "      <td>6.399073</td>\n",
       "      <td>2.950927</td>\n",
       "      <td>31.378539</td>\n",
       "      <td>21.475249</td>\n",
       "    </tr>\n",
       "    <tr>\n",
       "      <th>75</th>\n",
       "      <td>Communita</td>\n",
       "      <td>9.67</td>\n",
       "      <td>3.359889</td>\n",
       "      <td>32.743797</td>\n",
       "      <td>0.327438</td>\n",
       "      <td>6.503675</td>\n",
       "      <td>3.166325</td>\n",
       "      <td>32.490124</td>\n",
       "      <td>21.851624</td>\n",
       "    </tr>\n",
       "    <tr>\n",
       "      <th>...</th>\n",
       "      <td>...</td>\n",
       "      <td>...</td>\n",
       "      <td>...</td>\n",
       "      <td>...</td>\n",
       "      <td>...</td>\n",
       "      <td>...</td>\n",
       "      <td>...</td>\n",
       "      <td>...</td>\n",
       "      <td>...</td>\n",
       "    </tr>\n",
       "    <tr>\n",
       "      <th>151</th>\n",
       "      <td>Communita</td>\n",
       "      <td>16.32</td>\n",
       "      <td>3.254308</td>\n",
       "      <td>49.061000</td>\n",
       "      <td>0.490610</td>\n",
       "      <td>8.313245</td>\n",
       "      <td>8.006755</td>\n",
       "      <td>53.110300</td>\n",
       "      <td>27.053856</td>\n",
       "    </tr>\n",
       "    <tr>\n",
       "      <th>152</th>\n",
       "      <td>Communita</td>\n",
       "      <td>16.49</td>\n",
       "      <td>3.139681</td>\n",
       "      <td>49.011439</td>\n",
       "      <td>0.490114</td>\n",
       "      <td>8.408014</td>\n",
       "      <td>8.081986</td>\n",
       "      <td>51.773335</td>\n",
       "      <td>26.398479</td>\n",
       "    </tr>\n",
       "    <tr>\n",
       "      <th>153</th>\n",
       "      <td>Communita</td>\n",
       "      <td>16.50</td>\n",
       "      <td>3.149412</td>\n",
       "      <td>48.987274</td>\n",
       "      <td>0.489873</td>\n",
       "      <td>8.417100</td>\n",
       "      <td>8.082900</td>\n",
       "      <td>51.965300</td>\n",
       "      <td>26.508916</td>\n",
       "    </tr>\n",
       "    <tr>\n",
       "      <th>154</th>\n",
       "      <td>Communita</td>\n",
       "      <td>16.99</td>\n",
       "      <td>3.140224</td>\n",
       "      <td>49.472921</td>\n",
       "      <td>0.494729</td>\n",
       "      <td>8.584551</td>\n",
       "      <td>8.405449</td>\n",
       "      <td>53.352414</td>\n",
       "      <td>26.957416</td>\n",
       "    </tr>\n",
       "    <tr>\n",
       "      <th>155</th>\n",
       "      <td>Communita</td>\n",
       "      <td>25.64</td>\n",
       "      <td>2.987975</td>\n",
       "      <td>50.765838</td>\n",
       "      <td>0.507658</td>\n",
       "      <td>12.623639</td>\n",
       "      <td>13.016361</td>\n",
       "      <td>76.611686</td>\n",
       "      <td>37.719122</td>\n",
       "    </tr>\n",
       "  </tbody>\n",
       "</table>\n",
       "<p>85 rows × 9 columns</p>\n",
       "</div>"
      ]
     },
     "execution_count": 221,
     "metadata": {},
     "output_type": "execute_result"
    }
   ],
   "execution_count": 221
  },
  {
   "metadata": {
    "ExecuteTime": {
     "end_time": "2024-08-07T00:33:17.171397Z",
     "start_time": "2024-08-07T00:33:17.168079Z"
    }
   },
   "cell_type": "code",
   "source": "communita_df.isnull().sum()",
   "id": "f5b673f025dfe795",
   "outputs": [
    {
     "data": {
      "text/plain": [
       "Product              0\n",
       "unit_price           0\n",
       "quantity             0\n",
       "profit_percentage    0\n",
       "gross_margin         0\n",
       "gross_profit         0\n",
       "cost                 0\n",
       "invoiced_sales       0\n",
       "invoiced_gp          0\n",
       "dtype: int64"
      ]
     },
     "execution_count": 222,
     "metadata": {},
     "output_type": "execute_result"
    }
   ],
   "execution_count": 222
  },
  {
   "metadata": {
    "ExecuteTime": {
     "end_time": "2024-08-07T00:33:17.197609Z",
     "start_time": "2024-08-07T00:33:17.194794Z"
    }
   },
   "cell_type": "code",
   "source": "communita_df['unit_price'].max()",
   "id": "c766cf74524e8b11",
   "outputs": [
    {
     "data": {
      "text/plain": [
       "np.float64(25.64)"
      ]
     },
     "execution_count": 223,
     "metadata": {},
     "output_type": "execute_result"
    }
   ],
   "execution_count": 223
  },
  {
   "metadata": {
    "ExecuteTime": {
     "end_time": "2024-08-07T00:33:17.208798Z",
     "start_time": "2024-08-07T00:33:17.205347Z"
    }
   },
   "cell_type": "code",
   "source": "communita_df['quantity'].sum()",
   "id": "42091367b3e51025",
   "outputs": [
    {
     "data": {
      "text/plain": [
       "np.float64(281.799705092)"
      ]
     },
     "execution_count": 224,
     "metadata": {},
     "output_type": "execute_result"
    }
   ],
   "execution_count": 224
  },
  {
   "metadata": {
    "ExecuteTime": {
     "end_time": "2024-08-07T00:33:17.219205Z",
     "start_time": "2024-08-07T00:33:17.214866Z"
    }
   },
   "cell_type": "code",
   "source": "communita_df['invoiced_sales'].sum()",
   "id": "2917cc0706882774",
   "outputs": [
    {
     "data": {
      "text/plain": [
       "np.float64(3614.7951788701257)"
      ]
     },
     "execution_count": 225,
     "metadata": {},
     "output_type": "execute_result"
    }
   ],
   "execution_count": 225
  },
  {
   "metadata": {
    "ExecuteTime": {
     "end_time": "2024-08-07T00:33:17.242162Z",
     "start_time": "2024-08-07T00:33:17.238797Z"
    }
   },
   "cell_type": "code",
   "source": "communita_df['invoiced_gp'].sum()",
   "id": "20eaadd22d297b1d",
   "outputs": [
    {
     "data": {
      "text/plain": [
       "np.float64(2033.4767613498261)"
      ]
     },
     "execution_count": 226,
     "metadata": {},
     "output_type": "execute_result"
    }
   ],
   "execution_count": 226
  },
  {
   "metadata": {
    "ExecuteTime": {
     "end_time": "2024-08-07T00:33:17.260066Z",
     "start_time": "2024-08-07T00:33:17.256757Z"
    }
   },
   "cell_type": "code",
   "source": "communita_df['quantity'].mean()",
   "id": "82f0fd42b4ff75d2",
   "outputs": [
    {
     "data": {
      "text/plain": [
       "np.float64(3.315290648141177)"
      ]
     },
     "execution_count": 227,
     "metadata": {},
     "output_type": "execute_result"
    }
   ],
   "execution_count": 227
  },
  {
   "metadata": {
    "ExecuteTime": {
     "end_time": "2024-08-07T00:33:17.325660Z",
     "start_time": "2024-08-07T00:33:17.322271Z"
    }
   },
   "cell_type": "code",
   "source": "communita_df['unit_price'].mean()",
   "id": "5778acf4ac4c27d",
   "outputs": [
    {
     "data": {
      "text/plain": [
       "np.float64(12.886705882352942)"
      ]
     },
     "execution_count": 228,
     "metadata": {},
     "output_type": "execute_result"
    }
   ],
   "execution_count": 228
  },
  {
   "metadata": {
    "ExecuteTime": {
     "end_time": "2024-08-07T00:33:17.368152Z",
     "start_time": "2024-08-07T00:33:17.364629Z"
    }
   },
   "cell_type": "code",
   "source": [
    "def identify_outliers(df, column):\n",
    "    \"\"\"\n",
    "     Identify outliers in a specified column of a DataFrame using the \n",
    "     Interquartile Range (IQR) method.\n",
    "     \n",
    "     The function calculates the first quartile (Q1) and the third quartile \n",
    "     (Q3) of the specified column. The interquartile range (IQR) is then \n",
    "     computed as the difference between Q3 and Q1.\n",
    "    \n",
    "     Outliers are defined as data points that fall below Q1 - 1.5 * IQR or \n",
    "     above Q3 + 1.5 * IQR. The function returns the rows containing these  \n",
    "     outliers along with the calculated lower and upper bounds.\n",
    "\n",
    "    :param df: \n",
    "    :param column: \n",
    "    :return: tuple: A tuple containing:\n",
    "        - pandas.DataFrame: A DataFrame containing the rows identified as outliers.\n",
    "        - float: The lower bound for identifying outliers.\n",
    "        - float: The upper bound for identifying outliers.\n",
    "    \"\"\"\n",
    "    Q1 = df[column].quantile(0.25)\n",
    "    Q3 = df[column].quantile(0.75)\n",
    "    IQR = Q3 - Q1\n",
    "    lower_bound = Q1 - 1.5 * IQR\n",
    "    upper_bound = Q3 + 1.5 * IQR\n",
    "    return df[(df[column] < lower_bound) | (df[column] > upper_bound)], lower_bound, upper_bound"
   ],
   "id": "16ad3fef2fd40f0e",
   "outputs": [],
   "execution_count": 229
  },
  {
   "metadata": {
    "ExecuteTime": {
     "end_time": "2024-08-07T00:33:17.385758Z",
     "start_time": "2024-08-07T00:33:17.382640Z"
    }
   },
   "cell_type": "code",
   "source": "communita_outliers, comm_lower, comm_upper = identify_outliers(df[df['Product'] == 'Communita'], 'unit_price')",
   "id": "c432becbae8b37f2",
   "outputs": [],
   "execution_count": 230
  },
  {
   "metadata": {},
   "cell_type": "markdown",
   "source": "remove high side outliers",
   "id": "42772a3e8bf1540c"
  },
  {
   "metadata": {
    "ExecuteTime": {
     "end_time": "2024-08-07T00:33:17.404369Z",
     "start_time": "2024-08-07T00:33:17.402328Z"
    }
   },
   "cell_type": "code",
   "source": "data_no_outliers = communita_df.drop(communita_outliers[communita_outliers['unit_price'] > comm_upper].index)",
   "id": "32778e66ac730deb",
   "outputs": [],
   "execution_count": 231
  },
  {
   "metadata": {},
   "cell_type": "markdown",
   "source": "remove low side outliers",
   "id": "fd7e0d6db58d48d1"
  },
  {
   "metadata": {
    "ExecuteTime": {
     "end_time": "2024-08-07T00:33:17.414620Z",
     "start_time": "2024-08-07T00:33:17.412612Z"
    }
   },
   "cell_type": "code",
   "source": "communita_df = data_no_outliers.drop(communita_outliers[communita_outliers['unit_price'] < comm_lower].index)",
   "id": "8cd8278abb034e63",
   "outputs": [],
   "execution_count": 232
  },
  {
   "metadata": {},
   "cell_type": "markdown",
   "source": "### Display the statistics",
   "id": "8edc41d08f25df64"
  },
  {
   "metadata": {
    "ExecuteTime": {
     "end_time": "2024-08-07T00:33:17.428271Z",
     "start_time": "2024-08-07T00:33:17.422366Z"
    }
   },
   "cell_type": "code",
   "source": [
    "print(f\"Individuale Price Statistics without High Side Outliers:\\n{communita_df}\")\n",
    "print(f\"\\nCommunita Price Statistics without High Side Outliers:\\n{communita_df}\")"
   ],
   "id": "6b1354d4a86f543",
   "outputs": [
    {
     "name": "stdout",
     "output_type": "stream",
     "text": [
      "Individuale Price Statistics without High Side Outliers:\n",
      "       Product  unit_price  quantity  profit_percentage  gross_margin  \\\n",
      "72   Communita        7.75  3.477570          26.713227      0.267132   \n",
      "73   Communita        8.88  3.254277          31.495838      0.314958   \n",
      "74   Communita        9.35  3.355994          31.560711      0.315607   \n",
      "75   Communita        9.67  3.359889          32.743797      0.327438   \n",
      "76   Communita        9.93  3.326368          33.301388      0.333014   \n",
      "..         ...         ...       ...                ...           ...   \n",
      "150  Communita       16.00  3.164765          49.260706      0.492607   \n",
      "151  Communita       16.32  3.254308          49.061000      0.490610   \n",
      "152  Communita       16.49  3.139681          49.011439      0.490114   \n",
      "153  Communita       16.50  3.149412          48.987274      0.489873   \n",
      "154  Communita       16.99  3.140224          49.472921      0.494729   \n",
      "\n",
      "     gross_profit      cost  invoiced_sales  invoiced_gp  \n",
      "72       5.679725  2.070275       26.951164    19.751639  \n",
      "73       6.083170  2.796830       28.897983    19.796321  \n",
      "74       6.399073  2.950927       31.378539    21.475249  \n",
      "75       6.503675  3.166325       32.490124    21.851624  \n",
      "76       6.623172  3.306828       33.030829    22.031105  \n",
      "..            ...       ...             ...          ...  \n",
      "150      8.118287  7.881713       50.636241    25.692471  \n",
      "151      8.313245  8.006755       53.110300    27.053856  \n",
      "152      8.408014  8.081986       51.773335    26.398479  \n",
      "153      8.417100  8.082900       51.965300    26.508916  \n",
      "154      8.584551  8.405449       53.352414    26.957416  \n",
      "\n",
      "[83 rows x 9 columns]\n",
      "\n",
      "Communita Price Statistics without High Side Outliers:\n",
      "       Product  unit_price  quantity  profit_percentage  gross_margin  \\\n",
      "72   Communita        7.75  3.477570          26.713227      0.267132   \n",
      "73   Communita        8.88  3.254277          31.495838      0.314958   \n",
      "74   Communita        9.35  3.355994          31.560711      0.315607   \n",
      "75   Communita        9.67  3.359889          32.743797      0.327438   \n",
      "76   Communita        9.93  3.326368          33.301388      0.333014   \n",
      "..         ...         ...       ...                ...           ...   \n",
      "150  Communita       16.00  3.164765          49.260706      0.492607   \n",
      "151  Communita       16.32  3.254308          49.061000      0.490610   \n",
      "152  Communita       16.49  3.139681          49.011439      0.490114   \n",
      "153  Communita       16.50  3.149412          48.987274      0.489873   \n",
      "154  Communita       16.99  3.140224          49.472921      0.494729   \n",
      "\n",
      "     gross_profit      cost  invoiced_sales  invoiced_gp  \n",
      "72       5.679725  2.070275       26.951164    19.751639  \n",
      "73       6.083170  2.796830       28.897983    19.796321  \n",
      "74       6.399073  2.950927       31.378539    21.475249  \n",
      "75       6.503675  3.166325       32.490124    21.851624  \n",
      "76       6.623172  3.306828       33.030829    22.031105  \n",
      "..            ...       ...             ...          ...  \n",
      "150      8.118287  7.881713       50.636241    25.692471  \n",
      "151      8.313245  8.006755       53.110300    27.053856  \n",
      "152      8.408014  8.081986       51.773335    26.398479  \n",
      "153      8.417100  8.082900       51.965300    26.508916  \n",
      "154      8.584551  8.405449       53.352414    26.957416  \n",
      "\n",
      "[83 rows x 9 columns]\n"
     ]
    }
   ],
   "execution_count": 233
  },
  {
   "metadata": {},
   "cell_type": "markdown",
   "source": "# Fit linear regression model",
   "id": "e3514f02a71c10d3"
  },
  {
   "metadata": {
    "ExecuteTime": {
     "end_time": "2024-08-07T00:33:17.457363Z",
     "start_time": "2024-08-07T00:33:17.449913Z"
    }
   },
   "cell_type": "code",
   "source": [
    "# extract x and y values\n",
    "x_value = communita_df['unit_price']\n",
    "y_value = communita_df['quantity']\n",
    "\n",
    "# ensure x and y are of the same length\n",
    "assert len(x_value) == len(y_value), \"x and y must have the same length\"\n",
    "\n",
    "# add a constant to the independent variable (unit_price)\n",
    "X = add_constant(x_value)\n",
    "\n",
    "# fit the regression model\n",
    "model = sm.OLS(y_value, X)\n",
    "communita_result = model.fit()\n",
    "\n",
    "# print the summary of the regression model\n",
    "print(communita_result.summary())"
   ],
   "id": "30f9f13f48385da3",
   "outputs": [
    {
     "name": "stdout",
     "output_type": "stream",
     "text": [
      "                            OLS Regression Results                            \n",
      "==============================================================================\n",
      "Dep. Variable:               quantity   R-squared:                       0.694\n",
      "Model:                            OLS   Adj. R-squared:                  0.690\n",
      "Method:                 Least Squares   F-statistic:                     183.9\n",
      "Date:                Wed, 07 Aug 2024   Prob (F-statistic):           1.53e-22\n",
      "Time:                        10:33:17   Log-Likelihood:                 130.66\n",
      "No. Observations:                  83   AIC:                            -257.3\n",
      "Df Residuals:                      81   BIC:                            -252.5\n",
      "Df Model:                           1                                         \n",
      "Covariance Type:            nonrobust                                         \n",
      "==============================================================================\n",
      "                 coef    std err          t      P>|t|      [0.025      0.975]\n",
      "------------------------------------------------------------------------------\n",
      "const          3.8237      0.038    101.431      0.000       3.749       3.899\n",
      "unit_price    -0.0395      0.003    -13.559      0.000      -0.045      -0.034\n",
      "==============================================================================\n",
      "Omnibus:                       32.444   Durbin-Watson:                   0.591\n",
      "Prob(Omnibus):                  0.000   Jarque-Bera (JB):               73.096\n",
      "Skew:                          -1.376   Prob(JB):                     1.34e-16\n",
      "Kurtosis:                       6.683   Cond. No.                         88.1\n",
      "==============================================================================\n",
      "\n",
      "Notes:\n",
      "[1] Standard Errors assume that the covariance matrix of the errors is correctly specified.\n"
     ]
    }
   ],
   "execution_count": 234
  },
  {
   "metadata": {},
   "cell_type": "markdown",
   "source": [
    "# Analysis\n",
    "Here’s a detailed analysis of the OLS regression results, having removed outliers:"
   ],
   "id": "f8fe119e62216a1d"
  },
  {
   "metadata": {},
   "cell_type": "markdown",
   "source": "# Get the predicted values",
   "id": "efeffd41330cd3f1"
  },
  {
   "metadata": {
    "ExecuteTime": {
     "end_time": "2024-08-07T00:33:17.462565Z",
     "start_time": "2024-08-07T00:33:17.460621Z"
    }
   },
   "cell_type": "code",
   "source": "predictions = communita_result.predict(X)",
   "id": "1129e6234e4dd48",
   "outputs": [],
   "execution_count": 235
  },
  {
   "metadata": {},
   "cell_type": "markdown",
   "source": "Add predictions to the dataframe",
   "id": "3b4ad48d6a5a2e8c"
  },
  {
   "metadata": {
    "ExecuteTime": {
     "end_time": "2024-08-07T00:33:17.475127Z",
     "start_time": "2024-08-07T00:33:17.472948Z"
    }
   },
   "cell_type": "code",
   "source": "communita_df['predictions'] = predictions",
   "id": "6000c264848d77d9",
   "outputs": [],
   "execution_count": 236
  },
  {
   "metadata": {},
   "cell_type": "markdown",
   "source": "Create a scatter plot with the regression line",
   "id": "838954b6665acc8a"
  },
  {
   "metadata": {
    "ExecuteTime": {
     "end_time": "2024-08-07T00:33:17.704558Z",
     "start_time": "2024-08-07T00:33:17.512217Z"
    }
   },
   "cell_type": "code",
   "source": [
    "plt.figure(figsize=(10, 6))\n",
    "plt.scatter(\n",
    "    communita_df['unit_price'], \n",
    "    communita_df['quantity'], \n",
    "    alpha=0.5, \n",
    "    label='Data points'\n",
    ")\n",
    "plt.plot(\n",
    "    communita_df['unit_price'], \n",
    "    predictions, \n",
    "    color='red', \n",
    "    linewidth=2, \n",
    "    label='Regression line'\n",
    ")\n",
    "plt.title('Communita Scatter Plot of Price vs Quantity w/ Regression Line')\n",
    "plt.xlabel('Unit Price')\n",
    "plt.ylabel('Quantity')\n",
    "plt.legend()\n",
    "plt.grid(True)\n",
    "plt.savefig('./../plots/communita_slr_no_outliers_scatter_plot_with_regression_line')\n",
    "plt.show()"
   ],
   "id": "e46f8e7c03db7a93",
   "outputs": [
    {
     "data": {
      "text/plain": [
       "<Figure size 1000x600 with 1 Axes>"
      ],
      "image/png": "[encoded data removed]"
     },
     "metadata": {},
     "output_type": "display_data"
    }
   ],
   "execution_count": 237
  },
  {
   "metadata": {},
   "cell_type": "markdown",
   "source": [
    "The regression line represents the relationship between unit price and quantity demanded as modelled by simple linear regression. We can use it to derive our Price elasticity of demand (PED)\n",
    "\n",
    "The regression line can be expressed as:\n",
    "$$\\text{Quantity} = \\alpha + \\beta \\times \\text{Price}$$\n",
    "\n",
    "where:\n",
    "- $\\alpha$ is the intercept of the line.\n",
    "- $\\beta$ is the slope of the regression line\n",
    "\n",
    "From our regression summary we know that:\n",
    "- $\\alpha = $\n",
    "- $\\beta = $"
   ],
   "id": "be08d43bdbaf3a19"
  },
  {
   "metadata": {
    "ExecuteTime": {
     "end_time": "2024-08-07T00:33:17.707225Z",
     "start_time": "2024-08-07T00:33:17.705475Z"
    }
   },
   "cell_type": "code",
   "source": "mean_cost = np.mean(communita_df['cost'])",
   "id": "90587dfa86ff85c2",
   "outputs": [],
   "execution_count": 238
  },
  {
   "metadata": {},
   "cell_type": "markdown",
   "source": "# Access alpha and beta directly from the fitted model",
   "id": "63dcb86ddd58fc64"
  },
  {
   "metadata": {
    "ExecuteTime": {
     "end_time": "2024-08-07T00:33:17.786143Z",
     "start_time": "2024-08-07T00:33:17.707701Z"
    }
   },
   "cell_type": "code",
   "source": [
    "alpha = communita_result.params['const']\n",
    "alpha"
   ],
   "id": "6cc93534e2b8ee8e",
   "outputs": [
    {
     "data": {
      "text/plain": [
       "np.float64(3.823729311509548)"
      ]
     },
     "execution_count": 239,
     "metadata": {},
     "output_type": "execute_result"
    }
   ],
   "execution_count": 239
  },
  {
   "metadata": {
    "ExecuteTime": {
     "end_time": "2024-08-07T00:33:17.795794Z",
     "start_time": "2024-08-07T00:33:17.786895Z"
    }
   },
   "cell_type": "code",
   "source": [
    "beta = communita_result.params['unit_price']\n",
    "beta"
   ],
   "id": "6a5b4dfc28a8d3d",
   "outputs": [
    {
     "data": {
      "text/plain": [
       "np.float64(-0.039492766265993046)"
      ]
     },
     "execution_count": 240,
     "metadata": {},
     "output_type": "execute_result"
    }
   ],
   "execution_count": 240
  },
  {
   "metadata": {},
   "cell_type": "markdown",
   "source": "# Calculate mean price and mean quantity",
   "id": "2e26e65a78a472b4"
  },
  {
   "metadata": {
    "ExecuteTime": {
     "end_time": "2024-08-07T00:33:17.805423Z",
     "start_time": "2024-08-07T00:33:17.796598Z"
    }
   },
   "cell_type": "code",
   "source": [
    "communita_mean_price = np.mean(communita_df['unit_price'])\n",
    "communita_mean_quantity = np.mean(communita_df['quantity'])"
   ],
   "id": "dc2dfc71100aaf4e",
   "outputs": [],
   "execution_count": 241
  },
  {
   "metadata": {},
   "cell_type": "markdown",
   "source": "# Calculate PED",
   "id": "b2fde0f3de70044d"
  },
  {
   "metadata": {
    "ExecuteTime": {
     "end_time": "2024-08-07T00:33:17.815697Z",
     "start_time": "2024-08-07T00:33:17.806347Z"
    }
   },
   "cell_type": "code",
   "source": [
    "ped = beta * (communita_mean_price / communita_mean_quantity)\n",
    "print(f'Price Elasticity of Demand: {ped}')"
   ],
   "id": "a746ae09ef0faee5",
   "outputs": [
    {
     "name": "stdout",
     "output_type": "stream",
     "text": [
      "Price Elasticity of Demand: -0.1523560773619287\n"
     ]
    }
   ],
   "execution_count": 242
  },
  {
   "metadata": {},
   "cell_type": "markdown",
   "source": "Communita is less elastic and individuale",
   "id": "4492de64e471d1c1"
  },
  {
   "metadata": {},
   "cell_type": "markdown",
   "source": [
    "# plot profit curve\n",
    "we want to know at what price point we maximise gross profit"
   ],
   "id": "4b22c0c59aa1a55a"
  },
  {
   "metadata": {
    "ExecuteTime": {
     "end_time": "2024-08-07T00:33:17.825425Z",
     "start_time": "2024-08-07T00:33:17.816646Z"
    }
   },
   "cell_type": "code",
   "source": [
    "# Calculate the gross profit based on the predictions\n",
    "communita_df['gross_profit_predictions'] = (communita_df['unit_price'] - communita_df['cost']) * communita_df['predictions']"
   ],
   "id": "f658cb1939c8b49d",
   "outputs": [],
   "execution_count": 243
  },
  {
   "metadata": {},
   "cell_type": "markdown",
   "source": "# Find the price that maximizes gross profit",
   "id": "788b0c7fb580f4f"
  },
  {
   "metadata": {
    "ExecuteTime": {
     "end_time": "2024-08-07T00:33:17.838938Z",
     "start_time": "2024-08-07T00:33:17.826377Z"
    }
   },
   "cell_type": "code",
   "source": [
    "optimal_price = communita_df.loc[communita_df['gross_profit_predictions'].idxmax(), 'unit_price']\n",
    "max_gross_profit = communita_df['gross_profit_predictions'].max()\n",
    "optimal_quantity = communita_df.loc[communita_df['gross_profit_predictions'].idxmax(), 'predictions']"
   ],
   "id": "23363976d9ba635",
   "outputs": [],
   "execution_count": 244
  },
  {
   "metadata": {
    "ExecuteTime": {
     "end_time": "2024-08-07T00:33:17.848903Z",
     "start_time": "2024-08-07T00:33:17.839972Z"
    }
   },
   "cell_type": "code",
   "source": [
    "def gross_profit_function(price):\n",
    "    \"\"\"\n",
    "    Define the gross profit function based on the regression model\n",
    "    :param price: \n",
    "    :return: \n",
    "    \"\"\"\n",
    "    return (price - mean_cost) * (alpha + beta * price)"
   ],
   "id": "8691c19cd0a98701",
   "outputs": [],
   "execution_count": 245
  },
  {
   "metadata": {},
   "cell_type": "markdown",
   "source": "Calculate the first derivative (slope) at the optimal price",
   "id": "1170ee18394e1cd3"
  },
  {
   "metadata": {
    "ExecuteTime": {
     "end_time": "2024-08-07T00:33:17.853683Z",
     "start_time": "2024-08-07T00:33:17.851121Z"
    }
   },
   "cell_type": "code",
   "source": [
    "derivative_function = nd.Derivative(gross_profit_function)\n",
    "slope_at_optimal_price = derivative_function(optimal_price)"
   ],
   "id": "fdbf85c6ae4b78cb",
   "outputs": [],
   "execution_count": 246
  },
  {
   "metadata": {},
   "cell_type": "markdown",
   "source": "first derivative line, given point and slope",
   "id": "d356c7648f5458f4"
  },
  {
   "metadata": {
    "ExecuteTime": {
     "end_time": "2024-08-07T00:33:17.857817Z",
     "start_time": "2024-08-07T00:33:17.854298Z"
    }
   },
   "cell_type": "code",
   "source": [
    "# fix_me\n",
    "# Given point and slope\n",
    "x1, y1 = 16.99, 27.06\n",
    "slope = 2.7032873208187955\n",
    "intercept = y1 - slope * x1  # Calculate y-intercept\n",
    "x_vals = np.linspace(communita_df['unit_price'].min(), communita_df['unit_price'].max(), 100)  # Generate x values for the line\n",
    "y_vals = slope * x_vals + intercept  # calculate y values using the line equation"
   ],
   "id": "4a19e8a39fb5bf46",
   "outputs": [],
   "execution_count": 247
  },
  {
   "metadata": {},
   "cell_type": "markdown",
   "source": "# Plot the original gross profit curve",
   "id": "a88e440b317327d8"
  },
  {
   "metadata": {
    "ExecuteTime": {
     "end_time": "2024-08-07T00:33:18.038542Z",
     "start_time": "2024-08-07T00:33:17.858419Z"
    }
   },
   "cell_type": "code",
   "source": [
    "plt.figure(figsize=(10, 6))\n",
    "plt.plot(\n",
    "    communita_df['unit_price'], \n",
    "    communita_df['gross_profit_predictions'], \n",
    "    label='Gross Profit Curve'\n",
    ")\n",
    "plt.scatter(\n",
    "    optimal_price, \n",
    "    max_gross_profit, \n",
    "    color='red', \n",
    "    label=f'Optimal Price: {optimal_price:.2f}'\n",
    ")\n",
    "plt.plot(\n",
    "    x_vals, \n",
    "    y_vals, \n",
    "    color='red', \n",
    "    linestyle='--', \n",
    "    label=f'Tangent Line at Optimal Price'\n",
    ")  # fix_me\n",
    "plt.title('Communita Gross Profit Curve (Original Data)')\n",
    "plt.xlabel('Unit Price')\n",
    "plt.ylabel('Gross Profit')\n",
    "plt.legend()\n",
    "plt.grid(True)\n",
    "plt.savefig('./../plots/communita_gp_curve')\n",
    "plt.show()"
   ],
   "id": "39b37a08fccd1a54",
   "outputs": [
    {
     "data": {
      "text/plain": [
       "<Figure size 1000x600 with 1 Axes>"
      ],
      "image/png": "[encoded data removed]"
     },
     "metadata": {},
     "output_type": "display_data"
    }
   ],
   "execution_count": 248
  },
  {
   "metadata": {},
   "cell_type": "markdown",
   "source": "",
   "id": "2a0ceb2c3f83ca76"
  },
  {
   "metadata": {},
   "cell_type": "markdown",
   "source": "Print the optimal price and slope at that point",
   "id": "7aee72157b3e6eda"
  },
  {
   "metadata": {
    "ExecuteTime": {
     "end_time": "2024-08-07T00:33:18.041108Z",
     "start_time": "2024-08-07T00:33:18.039056Z"
    }
   },
   "cell_type": "code",
   "source": [
    "print(f'Optimal Price (Original): {round(optimal_price, 2)}')\n",
    "print(f'Optimal Quantity (Original): {round(optimal_quantity, 0)}')\n",
    "print(f'Maximum Gross Profit: {round(max_gross_profit, 2)}')\n",
    "print(f'Slope of the Gross Profit Function at Optimal Price: {slope_at_optimal_price}')"
   ],
   "id": "32832e991f080983",
   "outputs": [
    {
     "name": "stdout",
     "output_type": "stream",
     "text": [
      "Optimal Price (Original): 16.99\n",
      "Optimal Quantity (Original): 3.0\n",
      "Maximum Gross Profit: 27.06\n",
      "Slope of the Gross Profit Function at Optimal Price: 2.7032873208187955\n"
     ]
    }
   ],
   "execution_count": 249
  },
  {
   "metadata": {},
   "cell_type": "markdown",
   "source": "# Analysis\n",
   "id": "6dea7e1a2a5fb688"
  },
  {
   "metadata": {},
   "cell_type": "markdown",
   "source": [
    "# Extend the predictions\n",
    "Create a new range of unit prices extending beyond the observed data"
   ],
   "id": "86717eeb8510bd30"
  },
  {
   "metadata": {
    "ExecuteTime": {
     "end_time": "2024-08-07T00:33:18.115047Z",
     "start_time": "2024-08-07T00:33:18.041659Z"
    }
   },
   "cell_type": "code",
   "source": [
    "new_unit_prices = np.linspace(communita_df['unit_price'].min(), 100, 100)\n",
    "new_X = sm.add_constant(new_unit_prices)"
   ],
   "id": "6e9ecb10ce2063d0",
   "outputs": [],
   "execution_count": 250
  },
  {
   "metadata": {},
   "cell_type": "markdown",
   "source": "Predict the quantities for the new range of unit prices",
   "id": "9e3221edea6bbbd5"
  },
  {
   "metadata": {
    "ExecuteTime": {
     "end_time": "2024-08-07T00:33:18.118191Z",
     "start_time": "2024-08-07T00:33:18.115557Z"
    }
   },
   "cell_type": "code",
   "source": "new_predictions = communita_result.predict(new_X)",
   "id": "23ad57f4fda2ff83",
   "outputs": [],
   "execution_count": 251
  },
  {
   "metadata": {},
   "cell_type": "markdown",
   "source": "Calculate the gross profit for the new unit prices. Assuming cost remains constant, using the mean cost from the original data",
   "id": "38f88be4fca2fd6c"
  },
  {
   "metadata": {
    "ExecuteTime": {
     "end_time": "2024-08-07T00:33:18.124763Z",
     "start_time": "2024-08-07T00:33:18.118855Z"
    }
   },
   "cell_type": "code",
   "source": "new_gross_profits = (new_unit_prices - mean_cost) * new_predictions",
   "id": "36fd3be9e59bef76",
   "outputs": [],
   "execution_count": 252
  },
  {
   "metadata": {},
   "cell_type": "markdown",
   "source": "Find the price that maximizes gross profit",
   "id": "1e69226f54c317fa"
  },
  {
   "metadata": {
    "ExecuteTime": {
     "end_time": "2024-08-07T00:33:18.134220Z",
     "start_time": "2024-08-07T00:33:18.125438Z"
    }
   },
   "cell_type": "code",
   "source": [
    "max_index = np.argmax(new_gross_profits)\n",
    "optimal_price_extended = new_unit_prices[np.argmax(new_gross_profits)]\n",
    "max_gross_profit_extended = new_gross_profits.max()\n",
    "optimal_quantity_extended = new_predictions[max_index]"
   ],
   "id": "8bd5a4fefe1ebb3b",
   "outputs": [],
   "execution_count": 253
  },
  {
   "metadata": {
    "ExecuteTime": {
     "end_time": "2024-08-07T00:33:18.143732Z",
     "start_time": "2024-08-07T00:33:18.134848Z"
    }
   },
   "cell_type": "code",
   "source": [
    "def extended_gross_profit_function(price):\n",
    "    \"\"\"\n",
    "    Define the gross profit function based on the regression model\n",
    "    :param price: \n",
    "    :return: \n",
    "    \"\"\"\n",
    "    return (price - mean_cost) * (alpha + beta * price)"
   ],
   "id": "377438859ce252d",
   "outputs": [],
   "execution_count": 254
  },
  {
   "metadata": {},
   "cell_type": "markdown",
   "source": "Calculate the first derivative (slope) at the optimal price",
   "id": "fe3434ea6db9d834"
  },
  {
   "metadata": {
    "ExecuteTime": {
     "end_time": "2024-08-07T00:33:18.154160Z",
     "start_time": "2024-08-07T00:33:18.144294Z"
    }
   },
   "cell_type": "code",
   "source": [
    "derivative_function = nd.Derivative(extended_gross_profit_function)\n",
    "slope_at_optimal_price_extended = derivative_function(optimal_price_extended)"
   ],
   "id": "a720fa85f238a904",
   "outputs": [],
   "execution_count": 255
  },
  {
   "metadata": {},
   "cell_type": "markdown",
   "source": "# Plot the extended gross profit curve",
   "id": "6f6634513bb31a58"
  },
  {
   "metadata": {
    "ExecuteTime": {
     "end_time": "2024-08-07T00:33:18.337930Z",
     "start_time": "2024-08-07T00:33:18.154805Z"
    }
   },
   "cell_type": "code",
   "source": [
    "plt.figure(figsize=(10, 6))\n",
    "plt.plot(\n",
    "    new_unit_prices, \n",
    "    new_gross_profits, \n",
    "    label='Gross Profit Curve'\n",
    ")\n",
    "plt.scatter(\n",
    "    optimal_price_extended, \n",
    "    max_gross_profit_extended, \n",
    "    color='red', \n",
    "    label=f'Optimal Price: {optimal_price_extended:.2f}'\n",
    ")\n",
    "plt.axhline(\n",
    "    y=max_gross_profit_extended, \n",
    "    color='red', \n",
    "    linestyle='--', \n",
    "    label=f'Second derivative slope: {slope_at_optimal_price_extended:.4f}'\n",
    ")\n",
    "plt.title('Communita GP Curve (Extended)')\n",
    "plt.xlabel('Unit Price')\n",
    "plt.ylabel('Gross Profit')\n",
    "plt.legend()\n",
    "plt.grid(True)\n",
    "plt.savefig('./../plots/communita_ext_gp_curve')\n",
    "plt.show()"
   ],
   "id": "bb0a2f50e4c31109",
   "outputs": [
    {
     "data": {
      "text/plain": [
       "<Figure size 1000x600 with 1 Axes>"
      ],
      "image/png": "[encoded data removed]"
     },
     "metadata": {},
     "output_type": "display_data"
    }
   ],
   "execution_count": 256
  },
  {
   "metadata": {},
   "cell_type": "markdown",
   "source": [
    "# Analysis\n",
    "the optimal price is significantly reduced by excluding outliers. This seems more realistic\n"
   ],
   "id": "838cc88c25f7a841"
  },
  {
   "metadata": {},
   "cell_type": "markdown",
   "source": "# Print the optimal price and maximum gross profit",
   "id": "cb893d1918a1729a"
  },
  {
   "metadata": {
    "ExecuteTime": {
     "end_time": "2024-08-07T00:33:18.340467Z",
     "start_time": "2024-08-07T00:33:18.338534Z"
    }
   },
   "cell_type": "code",
   "source": [
    "print(f'Optimal Price (Extended): {round(optimal_price_extended, 2)}')\n",
    "print(f'Optimal Quantity (Extended): {round(optimal_quantity_extended, 2)}')\n",
    "print(f'Maximum Gross Profit (Extended): {max_gross_profit_extended}')\n",
    "print(f'Slope of the Gross Profit Function at Optimal Price (Extended): {slope_at_optimal_price_extended}')"
   ],
   "id": "1c6f78eefa3dce8b",
   "outputs": [
    {
     "name": "stdout",
     "output_type": "stream",
     "text": [
      "Optimal Price (Extended): 51.55\n",
      "Optimal Quantity (Extended): 1.79\n",
      "Maximum Gross Profit (Extended): 82.13665673089957\n",
      "Slope of the Gross Profit Function at Optimal Price (Extended): -0.02609365833877807\n"
     ]
    }
   ],
   "execution_count": 257
  },
  {
   "metadata": {},
   "cell_type": "markdown",
   "source": [
    "# Analysis\n",
    "So, on the face of it, the optimal price point is 58.78 which is confirmed by the slope of the first derivative, which is very close to 0. \n",
    "\n",
    "However, because we're making predictions outside the dataset, it can only be considered a hypothesis at this point. We have no data to substantiate it. We should set up an experiment to gather more data about sales quantities at higher price points.\n",
    "\n",
    "- Hypothesis ($H_1$): The optimal unit price that maximises gross profit is 58.78\n",
    "- Null Hypothesis ($H_0$): The optimal unit price that maximises gross profit is different from 58.78"
   ],
   "id": "1c702410ac03d46f"
  },
  {
   "metadata": {
    "ExecuteTime": {
     "end_time": "2024-08-07T00:33:18.352813Z",
     "start_time": "2024-08-07T00:33:18.340998Z"
    }
   },
   "cell_type": "code",
   "source": [
    "# todo: use plotly for the graphs we we can see price and quantity at different points using hover text, \n",
    "# todo: update analysis"
   ],
   "id": "e2de27222db1e1d5",
   "outputs": [],
   "execution_count": 258
  }
 ],
 "metadata": {
  "kernelspec": {
   "display_name": "Python 3",
   "language": "python",
   "name": "python3"
  },
  "language_info": {
   "codemirror_mode": {
    "name": "ipython",
    "version": 2
   },
   "file_extension": ".py",
   "mimetype": "text/x-python",
   "name": "python",
   "nbconvert_exporter": "python",
   "pygments_lexer": "ipython2",
   "version": "2.7.6"
  }
 },
 "nbformat": 4,
 "nbformat_minor": 5
}
