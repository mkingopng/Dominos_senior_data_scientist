{
 "cells": [
  {
   "cell_type": "code",
   "id": "initial_id",
   "metadata": {
    "collapsed": true,
    "ExecuteTime": {
     "end_time": "2024-08-06T21:41:22.148772Z",
     "start_time": "2024-08-06T21:41:21.658627Z"
    }
   },
   "source": [
    "import statsmodels.api as sm\n",
    "from statsmodels.tools.tools import add_constant\n",
    "import pandas as pd\n",
    "import matplotlib.pyplot as plt\n",
    "import numpy as np\n",
    "import numdifftools as nd"
   ],
   "outputs": [],
   "execution_count": 3
  },
  {
   "metadata": {
    "ExecuteTime": {
     "end_time": "2024-08-06T21:41:22.152539Z",
     "start_time": "2024-08-06T21:41:22.149619Z"
    }
   },
   "cell_type": "code",
   "source": "df = pd.read_csv('./../data/price_elasticity_data.csv')",
   "id": "52ff7b590d316f23",
   "outputs": [],
   "execution_count": 4
  },
  {
   "metadata": {
    "ExecuteTime": {
     "end_time": "2024-08-06T21:41:22.235263Z",
     "start_time": "2024-08-06T21:41:22.153125Z"
    }
   },
   "cell_type": "code",
   "source": "df.isnull().sum()",
   "id": "3fd5451711ed38bc",
   "outputs": [
    {
     "data": {
      "text/plain": [
       "Product              0\n",
       "Menu_Price           0\n",
       "Pizza_Count          0\n",
       "Profit_Percentage    0\n",
       "dtype: int64"
      ]
     },
     "execution_count": 5,
     "metadata": {},
     "output_type": "execute_result"
    }
   ],
   "execution_count": 5
  },
  {
   "metadata": {},
   "cell_type": "markdown",
   "source": "rename columns",
   "id": "97ddb8be77c08d69"
  },
  {
   "metadata": {
    "ExecuteTime": {
     "end_time": "2024-08-06T21:41:22.239720Z",
     "start_time": "2024-08-06T21:41:22.236641Z"
    }
   },
   "cell_type": "code",
   "source": [
    "names = {'Menu_Price': 'unit_price', 'Pizza_Count': 'quantity', 'Profit_Percentage': 'profit_percentage'}\n",
    "df.rename(columns=names, inplace=True)"
   ],
   "id": "b08af406e478e6a5",
   "outputs": [],
   "execution_count": 6
  },
  {
   "metadata": {},
   "cell_type": "markdown",
   "source": "# calculate additional features",
   "id": "cf7be6bf7cefb0f8"
  },
  {
   "metadata": {
    "ExecuteTime": {
     "end_time": "2024-08-06T21:41:22.245532Z",
     "start_time": "2024-08-06T21:41:22.240809Z"
    }
   },
   "cell_type": "code",
   "source": [
    "df['gross_margin'] = df['profit_percentage'] / 100\n",
    "df['gross_profit'] = df['unit_price'] * (1 - df['gross_margin'])\n",
    "df['cost'] = df['unit_price'] - df['gross_profit']"
   ],
   "id": "d4016c63cb251f9",
   "outputs": [],
   "execution_count": 7
  },
  {
   "metadata": {},
   "cell_type": "markdown",
   "source": "# Subset the dataframe for 'Individuale' product and create a copy",
   "id": "a8b76427d63510ab"
  },
  {
   "metadata": {
    "ExecuteTime": {
     "end_time": "2024-08-06T21:41:22.264184Z",
     "start_time": "2024-08-06T21:41:22.246707Z"
    }
   },
   "cell_type": "code",
   "source": [
    "individuale_df = df[df['Product'] == 'Individuale'].copy()\n",
    "individuale_df"
   ],
   "id": "5b75cf40a4e4fae3",
   "outputs": [
    {
     "data": {
      "text/plain": [
       "        Product  unit_price  quantity  profit_percentage  gross_margin  \\\n",
       "0   Individuale      4.8200  6.583538          25.263382      0.252634   \n",
       "1   Individuale      5.2500  6.763684          26.845586      0.268456   \n",
       "2   Individuale      5.7500  6.690481          30.214454      0.302145   \n",
       "3   Individuale      6.2275  6.138780          33.417930      0.334179   \n",
       "4   Individuale      6.5500  5.977077          35.425975      0.354260   \n",
       "..          ...         ...       ...                ...           ...   \n",
       "66  Individuale     11.4900  4.761656          51.448669      0.514487   \n",
       "67  Individuale     11.5000  4.740432          51.313529      0.513135   \n",
       "68  Individuale     11.9900  4.804746          52.057702      0.520577   \n",
       "69  Individuale     12.9900  4.666198          52.529116      0.525291   \n",
       "70  Individuale     18.6100  4.278650          55.887913      0.558879   \n",
       "\n",
       "    gross_profit       cost  \n",
       "0       3.602305   1.217695  \n",
       "1       3.840607   1.409393  \n",
       "2       4.012669   1.737331  \n",
       "3       4.146398   2.081102  \n",
       "4       4.229599   2.320401  \n",
       "..           ...        ...  \n",
       "66      5.578548   5.911452  \n",
       "67      5.598944   5.901056  \n",
       "68      5.748282   6.241718  \n",
       "69      6.166468   6.823532  \n",
       "70      8.209259  10.400741  \n",
       "\n",
       "[71 rows x 7 columns]"
      ],
      "text/html": [
       "<div>\n",
       "<style scoped>\n",
       "    .dataframe tbody tr th:only-of-type {\n",
       "        vertical-align: middle;\n",
       "    }\n",
       "\n",
       "    .dataframe tbody tr th {\n",
       "        vertical-align: top;\n",
       "    }\n",
       "\n",
       "    .dataframe thead th {\n",
       "        text-align: right;\n",
       "    }\n",
       "</style>\n",
       "<table border=\"1\" class=\"dataframe\">\n",
       "  <thead>\n",
       "    <tr style=\"text-align: right;\">\n",
       "      <th></th>\n",
       "      <th>Product</th>\n",
       "      <th>unit_price</th>\n",
       "      <th>quantity</th>\n",
       "      <th>profit_percentage</th>\n",
       "      <th>gross_margin</th>\n",
       "      <th>gross_profit</th>\n",
       "      <th>cost</th>\n",
       "    </tr>\n",
       "  </thead>\n",
       "  <tbody>\n",
       "    <tr>\n",
       "      <th>0</th>\n",
       "      <td>Individuale</td>\n",
       "      <td>4.8200</td>\n",
       "      <td>6.583538</td>\n",
       "      <td>25.263382</td>\n",
       "      <td>0.252634</td>\n",
       "      <td>3.602305</td>\n",
       "      <td>1.217695</td>\n",
       "    </tr>\n",
       "    <tr>\n",
       "      <th>1</th>\n",
       "      <td>Individuale</td>\n",
       "      <td>5.2500</td>\n",
       "      <td>6.763684</td>\n",
       "      <td>26.845586</td>\n",
       "      <td>0.268456</td>\n",
       "      <td>3.840607</td>\n",
       "      <td>1.409393</td>\n",
       "    </tr>\n",
       "    <tr>\n",
       "      <th>2</th>\n",
       "      <td>Individuale</td>\n",
       "      <td>5.7500</td>\n",
       "      <td>6.690481</td>\n",
       "      <td>30.214454</td>\n",
       "      <td>0.302145</td>\n",
       "      <td>4.012669</td>\n",
       "      <td>1.737331</td>\n",
       "    </tr>\n",
       "    <tr>\n",
       "      <th>3</th>\n",
       "      <td>Individuale</td>\n",
       "      <td>6.2275</td>\n",
       "      <td>6.138780</td>\n",
       "      <td>33.417930</td>\n",
       "      <td>0.334179</td>\n",
       "      <td>4.146398</td>\n",
       "      <td>2.081102</td>\n",
       "    </tr>\n",
       "    <tr>\n",
       "      <th>4</th>\n",
       "      <td>Individuale</td>\n",
       "      <td>6.5500</td>\n",
       "      <td>5.977077</td>\n",
       "      <td>35.425975</td>\n",
       "      <td>0.354260</td>\n",
       "      <td>4.229599</td>\n",
       "      <td>2.320401</td>\n",
       "    </tr>\n",
       "    <tr>\n",
       "      <th>...</th>\n",
       "      <td>...</td>\n",
       "      <td>...</td>\n",
       "      <td>...</td>\n",
       "      <td>...</td>\n",
       "      <td>...</td>\n",
       "      <td>...</td>\n",
       "      <td>...</td>\n",
       "    </tr>\n",
       "    <tr>\n",
       "      <th>66</th>\n",
       "      <td>Individuale</td>\n",
       "      <td>11.4900</td>\n",
       "      <td>4.761656</td>\n",
       "      <td>51.448669</td>\n",
       "      <td>0.514487</td>\n",
       "      <td>5.578548</td>\n",
       "      <td>5.911452</td>\n",
       "    </tr>\n",
       "    <tr>\n",
       "      <th>67</th>\n",
       "      <td>Individuale</td>\n",
       "      <td>11.5000</td>\n",
       "      <td>4.740432</td>\n",
       "      <td>51.313529</td>\n",
       "      <td>0.513135</td>\n",
       "      <td>5.598944</td>\n",
       "      <td>5.901056</td>\n",
       "    </tr>\n",
       "    <tr>\n",
       "      <th>68</th>\n",
       "      <td>Individuale</td>\n",
       "      <td>11.9900</td>\n",
       "      <td>4.804746</td>\n",
       "      <td>52.057702</td>\n",
       "      <td>0.520577</td>\n",
       "      <td>5.748282</td>\n",
       "      <td>6.241718</td>\n",
       "    </tr>\n",
       "    <tr>\n",
       "      <th>69</th>\n",
       "      <td>Individuale</td>\n",
       "      <td>12.9900</td>\n",
       "      <td>4.666198</td>\n",
       "      <td>52.529116</td>\n",
       "      <td>0.525291</td>\n",
       "      <td>6.166468</td>\n",
       "      <td>6.823532</td>\n",
       "    </tr>\n",
       "    <tr>\n",
       "      <th>70</th>\n",
       "      <td>Individuale</td>\n",
       "      <td>18.6100</td>\n",
       "      <td>4.278650</td>\n",
       "      <td>55.887913</td>\n",
       "      <td>0.558879</td>\n",
       "      <td>8.209259</td>\n",
       "      <td>10.400741</td>\n",
       "    </tr>\n",
       "  </tbody>\n",
       "</table>\n",
       "<p>71 rows × 7 columns</p>\n",
       "</div>"
      ]
     },
     "execution_count": 8,
     "metadata": {},
     "output_type": "execute_result"
    }
   ],
   "execution_count": 8
  },
  {
   "metadata": {
    "ExecuteTime": {
     "end_time": "2024-08-06T21:41:22.269802Z",
     "start_time": "2024-08-06T21:41:22.265343Z"
    }
   },
   "cell_type": "code",
   "source": "individuale_df.isnull().sum()",
   "id": "773e4b46595fed6f",
   "outputs": [
    {
     "data": {
      "text/plain": [
       "Product              0\n",
       "unit_price           0\n",
       "quantity             0\n",
       "profit_percentage    0\n",
       "gross_margin         0\n",
       "gross_profit         0\n",
       "cost                 0\n",
       "dtype: int64"
      ]
     },
     "execution_count": 9,
     "metadata": {},
     "output_type": "execute_result"
    }
   ],
   "execution_count": 9
  },
  {
   "metadata": {
    "ExecuteTime": {
     "end_time": "2024-08-06T21:41:22.274782Z",
     "start_time": "2024-08-06T21:41:22.270943Z"
    }
   },
   "cell_type": "code",
   "source": "individuale_df['unit_price'].max()",
   "id": "9b6b423d155b04db",
   "outputs": [
    {
     "data": {
      "text/plain": [
       "np.float64(18.61)"
      ]
     },
     "execution_count": 10,
     "metadata": {},
     "output_type": "execute_result"
    }
   ],
   "execution_count": 10
  },
  {
   "metadata": {},
   "cell_type": "markdown",
   "source": "# Fit linear regression model",
   "id": "ca371066106711eb"
  },
  {
   "metadata": {
    "ExecuteTime": {
     "end_time": "2024-08-06T21:41:22.286827Z",
     "start_time": "2024-08-06T21:41:22.275945Z"
    }
   },
   "cell_type": "code",
   "source": [
    "# extract the x and y values\n",
    "x_value = individuale_df['unit_price']\n",
    "y_value = individuale_df['quantity']\n",
    "\n",
    "# ensure x and y are of the same length\n",
    "assert len(x_value) == len(y_value), \"x and y must have the same length\"\n",
    "\n",
    "# add a constant to the independent variable (price)\n",
    "X = add_constant(x_value)\n",
    "\n",
    "# fit the regression model\n",
    "model = sm.OLS(y_value, X)\n",
    "individuale_result = model.fit()\n",
    "\n",
    "# print the summary of the regression model\n",
    "print(individuale_result.summary())"
   ],
   "id": "876a4e889afee39c",
   "outputs": [
    {
     "name": "stdout",
     "output_type": "stream",
     "text": [
      "                            OLS Regression Results                            \n",
      "==============================================================================\n",
      "Dep. Variable:               quantity   R-squared:                       0.612\n",
      "Model:                            OLS   Adj. R-squared:                  0.606\n",
      "Method:                 Least Squares   F-statistic:                     108.6\n",
      "Date:                Wed, 07 Aug 2024   Prob (F-statistic):           8.21e-16\n",
      "Time:                        07:41:22   Log-Likelihood:                -3.0430\n",
      "No. Observations:                  71   AIC:                             10.09\n",
      "Df Residuals:                      69   BIC:                             14.61\n",
      "Df Model:                           1                                         \n",
      "Covariance Type:            nonrobust                                         \n",
      "==============================================================================\n",
      "                 coef    std err          t      P>|t|      [0.025      0.975]\n",
      "------------------------------------------------------------------------------\n",
      "const          6.6425      0.147     45.114      0.000       6.349       6.936\n",
      "unit_price    -0.1639      0.016    -10.423      0.000      -0.195      -0.133\n",
      "==============================================================================\n",
      "Omnibus:                       50.515   Durbin-Watson:                   0.214\n",
      "Prob(Omnibus):                  0.000   Jarque-Bera (JB):              162.982\n",
      "Skew:                           2.320   Prob(JB):                     4.06e-36\n",
      "Kurtosis:                       8.793   Cond. No.                         45.8\n",
      "==============================================================================\n",
      "\n",
      "Notes:\n",
      "[1] Standard Errors assume that the covariance matrix of the errors is correctly specified.\n"
     ]
    }
   ],
   "execution_count": 11
  },
  {
   "metadata": {},
   "cell_type": "markdown",
   "source": [
    "# Analysis\n",
    "\n",
    "The output provided is from an Ordinary Least Squares (OLS) regression analysis. Here’s a detailed analysis of the key components of the results:\n",
    "\n",
    "### Model Summary\n",
    "- **Dep. Variable**: The dependent variable is `quantity`.\n",
    "- **R-squared**: 0.612\n",
    "  - This indicates that approximately 61.2% of the variability in the dependent variable (`quantity`) can be explained by the independent variable (`unit_price`).\n",
    "- **Adj. R-squared**: 0.606\n",
    "  - This adjusted R-squared value accounts for the number of predictors in the model. It is slightly lower than the R-squared value, which suggests that the model fits the data well but not perfectly.\n",
    "- **F-statistic**: 108.6\n",
    "  - This statistic tests the overall significance of the model.\n",
    "- **Prob (F-statistic)**: 8.21e-16\n",
    "  - This very low p-value (close to zero) indicates that the model is statistically significant. It suggests that there is a very low probability that the observed relationship between the dependent and independent variables is due to random chance.\n",
    "\n",
    "### Coefficients\n",
    "- **const (Intercept)**: 6.6425\n",
    "  - This is the estimated value of the dependent variable (`quantity`) when the independent variable (`unit_price`) is zero.\n",
    "- **unit_price**: -0.1639\n",
    "  - This is the slope of the regression line. It indicates that for each one-unit increase in `unit_price`, the `quantity` decreases by approximately 0.1639 units.\n",
    "- **Standard Errors**:\n",
    "  - The standard error for the intercept (const) is 0.147.\n",
    "  - The standard error for the `unit_price` coefficient is 0.016.\n",
    "- **t-statistic**:\n",
    "  - The t-value for the intercept is 45.114.\n",
    "  - The t-value for the `unit_price` coefficient is -10.423.\n",
    "- **P>|t|** (p-value):\n",
    "  - The p-value for both the intercept and `unit_price` coefficient is 0.000, indicating that they are statistically significant at conventional significance levels (e.g., 0.05).\n",
    "- **[0.025, 0.975]**:\n",
    "  - These values represent the 95% confidence intervals for the coefficients. For the intercept, the confidence interval is [6.349, 6.936], and for the `unit_price` coefficient, it is [-0.195, -0.133].\n",
    "\n",
    "### Diagnostics\n",
    "- **Omnibus**: 50.515\n",
    "  - This is a test for the presence of skewness and kurtosis in the residuals.\n",
    "- **Prob(Omnibus)**: 0.000\n",
    "  - This p-value indicates that the residuals are not normally distributed.\n",
    "- **Jarque-Bera (JB)**: 162.982\n",
    "  - This is another test for normality of residuals.\n",
    "- **Prob(JB)**: 4.06e-36\n",
    "  - This p-value also indicates that the residuals are not normally distributed.\n",
    "- **Skew**: 2.320\n",
    "  - This value indicates the asymmetry of the residual distribution. A positive value indicates right skew.\n",
    "- **Kurtosis**: 8.793\n",
    "  - This value indicates the \"tailedness\" of the residual distribution. A value greater than 3 suggests heavy tails.\n",
    "- **Durbin-Watson**: 0.214\n",
    "  - This statistic tests for the presence of autocorrelation in the residuals. Values close to 2 suggest no autocorrelation; values substantially less than 2 suggest positive autocorrelation.\n",
    "- **Cond. No.**: 45.8\n",
    "  - This is a measure of multicollinearity. Values above 30 suggest potential multicollinearity problems.\n",
    "\n",
    "### Interpretation\n",
    "1. **Significance**:\n",
    "   - Both the overall model and the individual coefficients are highly significant (p-value < 0.05).\n",
    "\n",
    "2. **Model Fit**:\n",
    "   - The R-squared value of 0.612 indicates that the model explains 61.2% of the variance in the quantity, which is a reasonably good fit.\n",
    "\n",
    "3. **Coefficients**:\n",
    "   - The intercept (const) is 6.6425, suggesting that when the `unit_price` is zero, the predicted `quantity` is 6.6425.\n",
    "   - The `unit_price` coefficient is -0.1639, indicating a negative relationship between price and quantity. As the price increases, the quantity demanded decreases.\n",
    "\n",
    "4. **Residual Analysis**:\n",
    "   - The low Durbin-Watson value (0.214) suggests positive autocorrelation in the residuals, which may indicate that the model assumptions are not fully met.\n",
    "   - The significant skewness and kurtosis, as indicated by the Omnibus and Jarque-Bera tests, suggest that the residuals are not normally distributed. This could affect the reliability of the model’s inference.\n",
    "\n",
    "### Conclusion\n",
    "- The model suggests a significant negative relationship between unit price and quantity demanded. \n",
    "- However, the residuals exhibit signs of non-normality and autocorrelation, which suggests that while the model explains a good portion of the variance. \n",
    "- There may be other factors or a different model structure (e.g., including additional predictors or using a different model specification) that could better capture the relationship between the variables."
   ],
   "id": "68df835344cee9b4"
  },
  {
   "metadata": {},
   "cell_type": "markdown",
   "source": "# Get prediction values",
   "id": "ffc565c780e59270"
  },
  {
   "metadata": {
    "ExecuteTime": {
     "end_time": "2024-08-06T21:41:22.290145Z",
     "start_time": "2024-08-06T21:41:22.288384Z"
    }
   },
   "cell_type": "code",
   "source": "predictions = individuale_result.predict(X)",
   "id": "1f3e927611bac6bb",
   "outputs": [],
   "execution_count": 12
  },
  {
   "metadata": {},
   "cell_type": "markdown",
   "source": "Add predictions to the dataframe",
   "id": "37b66dafdeebcf32"
  },
  {
   "metadata": {
    "ExecuteTime": {
     "end_time": "2024-08-06T21:41:22.296842Z",
     "start_time": "2024-08-06T21:41:22.290809Z"
    }
   },
   "cell_type": "code",
   "source": "individuale_df['predictions'] = predictions",
   "id": "26a4c6d7a779cffc",
   "outputs": [],
   "execution_count": 13
  },
  {
   "metadata": {},
   "cell_type": "markdown",
   "source": "Create a scatter plot with the regression line",
   "id": "f80b3db16b2a164"
  },
  {
   "metadata": {
    "ExecuteTime": {
     "end_time": "2024-08-06T21:41:22.491761Z",
     "start_time": "2024-08-06T21:41:22.297773Z"
    }
   },
   "cell_type": "code",
   "source": [
    "plt.figure(figsize=(10, 6))\n",
    "plt.scatter(\n",
    "    individuale_df['unit_price'], \n",
    "    individuale_df['quantity'], \n",
    "    alpha=0.5, \n",
    "    label='Data points'\n",
    ")\n",
    "plt.plot(\n",
    "    individuale_df['unit_price'], \n",
    "    predictions, \n",
    "    color='red', \n",
    "    linewidth=2, \n",
    "    label='Regression line'\n",
    ")\n",
    "plt.title('Scatter plot of Unit Price vs Quantity with Regression Line')\n",
    "plt.xlabel('Unit Price')\n",
    "plt.ylabel('Quantity')\n",
    "plt.legend()\n",
    "plt.grid(True)\n",
    "plt.savefig('./../plots/individuale_scat_reg_line')\n",
    "plt.show()"
   ],
   "id": "523654af9407eb1",
   "outputs": [
    {
     "data": {
      "text/plain": [
       "<Figure size 1000x600 with 1 Axes>"
      ],
      "image/png": "[encoded data removed]"
     },
     "metadata": {},
     "output_type": "display_data"
    }
   ],
   "execution_count": 14
  },
  {
   "metadata": {},
   "cell_type": "markdown",
   "source": [
    "The regression line represents the relationship between unit rice and quantity demanded as modelled by simple linear regression. We can use it to derive our Price elasticity of demand (PED)\n",
    "\n",
    "The regression line can be expressed as:\n",
    "$$\\text{Quantity} = \\alpha + \\beta \\times \\text{Price}$$\n",
    "\n",
    "where:\n",
    "- $\\alpha$ is the intercept of the line.\n",
    "- $\\beta$ is the slope of the regression line\n",
    "\n",
    "From our regression summary we know that:\n",
    "- $\\alpha = 6.6425$\n",
    "- $\\beta = -0.1639$"
   ],
   "id": "7f269e2a26ed115b"
  },
  {
   "metadata": {},
   "cell_type": "markdown",
   "source": "# Access alpha and beta directly from the fitted model",
   "id": "eb1d8e98aeeecfce"
  },
  {
   "metadata": {
    "ExecuteTime": {
     "end_time": "2024-08-06T21:41:22.494696Z",
     "start_time": "2024-08-06T21:41:22.492407Z"
    }
   },
   "cell_type": "code",
   "source": [
    "alpha = individuale_result.params['const']\n",
    "alpha"
   ],
   "id": "c589d7b946838c89",
   "outputs": [
    {
     "data": {
      "text/plain": [
       "np.float64(6.642495134583411)"
      ]
     },
     "execution_count": 15,
     "metadata": {},
     "output_type": "execute_result"
    }
   ],
   "execution_count": 15
  },
  {
   "metadata": {
    "ExecuteTime": {
     "end_time": "2024-08-06T21:41:22.579404Z",
     "start_time": "2024-08-06T21:41:22.495257Z"
    }
   },
   "cell_type": "code",
   "source": [
    "beta = individuale_result.params['unit_price']\n",
    "beta"
   ],
   "id": "f6b1d56c22ed03c6",
   "outputs": [
    {
     "data": {
      "text/plain": [
       "np.float64(-0.16389523727683825)"
      ]
     },
     "execution_count": 16,
     "metadata": {},
     "output_type": "execute_result"
    }
   ],
   "execution_count": 16
  },
  {
   "metadata": {
    "ExecuteTime": {
     "end_time": "2024-08-06T21:41:22.591635Z",
     "start_time": "2024-08-06T21:41:22.580523Z"
    }
   },
   "cell_type": "code",
   "source": [
    "# Calculate mean price and mean quantity\n",
    "individuale_mean_price = np.mean(individuale_df['unit_price'])\n",
    "individuale_mean_quantity = np.mean(individuale_df['quantity'])"
   ],
   "id": "8f209b8c6021763a",
   "outputs": [],
   "execution_count": 17
  },
  {
   "metadata": {},
   "cell_type": "markdown",
   "source": [
    "price elasticity of demand. In general terms we can express this algebraically as:\n",
    "\n",
    "$$\\text{PED} = \\dfrac{\\Delta{Q}/Q}{\\Delta{P}/P}$$\n",
    "\n",
    "Where:\n",
    "- $\\Delta{Q}$ is the change in quantity demanded.\n",
    "- $Q$ is the initial quantity demanded.\n",
    "- $\\Delta{P}$ is the change in price.\n",
    "- $P$ is the initial price."
   ],
   "id": "ea298d9812367534"
  },
  {
   "metadata": {},
   "cell_type": "markdown",
   "source": "# Calculate PED",
   "id": "126949d6beadb729"
  },
  {
   "metadata": {
    "ExecuteTime": {
     "end_time": "2024-08-06T21:41:22.602156Z",
     "start_time": "2024-08-06T21:41:22.592625Z"
    }
   },
   "cell_type": "code",
   "source": [
    "ped = beta * (individuale_mean_price / individuale_mean_quantity)\n",
    "print(f'Price Elasticity of Demand: {ped}')"
   ],
   "id": "1b32c4f8c737dbde",
   "outputs": [
    {
     "name": "stdout",
     "output_type": "stream",
     "text": [
      "Price Elasticity of Demand: -0.2921031559792944\n"
     ]
    }
   ],
   "execution_count": 18
  },
  {
   "metadata": {},
   "cell_type": "markdown",
   "source": "individuale is more elastic than Communita",
   "id": "1047e0bea24e9839"
  },
  {
   "metadata": {},
   "cell_type": "markdown",
   "source": [
    "# plot profit curve\n",
    "we want to know at what price point we maximise gross profit"
   ],
   "id": "23cdf099b6cad263"
  },
  {
   "metadata": {
    "ExecuteTime": {
     "end_time": "2024-08-06T21:41:22.613222Z",
     "start_time": "2024-08-06T21:41:22.603177Z"
    }
   },
   "cell_type": "code",
   "source": [
    "# Calculate the gross profit based on the predictions\n",
    "individuale_df['gross_profit_predictions'] = (individuale_df['unit_price'] - individuale_df['cost']) * individuale_df['predictions']"
   ],
   "id": "520a618ecaac0e44",
   "outputs": [],
   "execution_count": 19
  },
  {
   "metadata": {},
   "cell_type": "markdown",
   "source": "# Find the price that maximizes gross profit",
   "id": "d38cc19bb42e99cd"
  },
  {
   "metadata": {
    "ExecuteTime": {
     "end_time": "2024-08-06T21:41:22.618758Z",
     "start_time": "2024-08-06T21:41:22.614299Z"
    }
   },
   "cell_type": "code",
   "source": [
    "optimal_price = individuale_df.loc[individuale_df['gross_profit_predictions'].idxmax(), 'unit_price']\n",
    "max_gross_profit = individuale_df['gross_profit_predictions'].max()\n",
    "optimal_quantity = individuale_df.loc[individuale_df['gross_profit_predictions'].idxmax(), 'predictions']"
   ],
   "id": "26b632aac616a9cb",
   "outputs": [],
   "execution_count": 20
  },
  {
   "metadata": {
    "ExecuteTime": {
     "end_time": "2024-08-06T21:41:22.622356Z",
     "start_time": "2024-08-06T21:41:22.619332Z"
    }
   },
   "cell_type": "code",
   "source": [
    "def gross_profit_function(price):\n",
    "    \"\"\"\n",
    "    Define the gross profit function based on the regression model\n",
    "    :param price: \n",
    "    :return: \n",
    "    \"\"\"\n",
    "    return (price - mean_cost) * (individuale_result.params['const'] + individuale_result.params['unit_price'] * price)"
   ],
   "id": "c16be5a49e5448a0",
   "outputs": [],
   "execution_count": 21
  },
  {
   "metadata": {},
   "cell_type": "markdown",
   "source": "Calculate the first derivative (slope) at the optimal price",
   "id": "326a72c74aa2d4e2"
  },
  {
   "metadata": {
    "ExecuteTime": {
     "end_time": "2024-08-06T21:41:22.625897Z",
     "start_time": "2024-08-06T21:41:22.622910Z"
    }
   },
   "cell_type": "code",
   "source": "mean_cost = np.mean(individuale_df['cost'])",
   "id": "6445308a5f6a1c43",
   "outputs": [],
   "execution_count": 22
  },
  {
   "metadata": {
    "ExecuteTime": {
     "end_time": "2024-08-06T21:41:22.635189Z",
     "start_time": "2024-08-06T21:41:22.626600Z"
    }
   },
   "cell_type": "code",
   "source": [
    "derivative_function = nd.Derivative(gross_profit_function)\n",
    "slope_at_optimal_price = derivative_function(optimal_price)"
   ],
   "id": "c49956d108d4888f",
   "outputs": [],
   "execution_count": 23
  },
  {
   "metadata": {},
   "cell_type": "markdown",
   "source": "first derivative given point and slope",
   "id": "d7a23357d024e009"
  },
  {
   "metadata": {
    "ExecuteTime": {
     "end_time": "2024-08-06T21:41:22.638850Z",
     "start_time": "2024-08-06T21:41:22.636047Z"
    }
   },
   "cell_type": "code",
   "source": [
    "# Given point and slope\n",
    "x1, y1 = 18.61, 29.49\n",
    "slope = 1.2381578854600968\n",
    "intercept = y1 - slope * x1  # Calculate y-intercept\n",
    "x_vals = np.linspace(individuale_df['unit_price'].min(), individuale_df['unit_price'].max(), 100)  # Generate x values for the line\n",
    "y_vals = slope * x_vals + intercept  # Calculate y values using the line equation"
   ],
   "id": "410dcf8354304514",
   "outputs": [],
   "execution_count": 24
  },
  {
   "metadata": {},
   "cell_type": "markdown",
   "source": "# Plot the original gross profit curve",
   "id": "b1305c2d2c672edc"
  },
  {
   "metadata": {
    "ExecuteTime": {
     "end_time": "2024-08-06T21:41:22.827263Z",
     "start_time": "2024-08-06T21:41:22.639572Z"
    }
   },
   "cell_type": "code",
   "source": [
    "plt.figure(figsize=(10, 6))\n",
    "plt.plot(\n",
    "    individuale_df['unit_price'], \n",
    "    individuale_df['gross_profit_predictions'], \n",
    "    label='Gross Profit Curve'\n",
    ")\n",
    "plt.scatter(\n",
    "    optimal_price, \n",
    "    max_gross_profit, \n",
    "    color='red', \n",
    "    label=f'Optimal Price: {optimal_price:.2f}'\n",
    ")\n",
    "plt.plot(\n",
    "    x_vals, \n",
    "    y_vals, \n",
    "    color='red', \n",
    "    linestyle='--', \n",
    "    label=f'slope: 1.2382'\n",
    ")\n",
    "plt.title('Individuale GP Curve (Original Data)')\n",
    "plt.xlabel('Unit Price')\n",
    "plt.ylabel('Gross Profit')\n",
    "plt.legend()\n",
    "plt.grid(True)\n",
    "plt.savefig('./../plots/individuale_gp_curve_in_sample')\n",
    "plt.show()"
   ],
   "id": "f3ba81ba73ee5feb",
   "outputs": [
    {
     "data": {
      "text/plain": [
       "<Figure size 1000x600 with 1 Axes>"
      ],
      "image/png": "[encoded data removed]"
     },
     "metadata": {},
     "output_type": "display_data"
    }
   ],
   "execution_count": 25
  },
  {
   "metadata": {},
   "cell_type": "markdown",
   "source": "Print the optimal price and slope at that point",
   "id": "a37f24aa04aac3eb"
  },
  {
   "metadata": {
    "ExecuteTime": {
     "end_time": "2024-08-06T21:41:22.829846Z",
     "start_time": "2024-08-06T21:41:22.827894Z"
    }
   },
   "cell_type": "code",
   "source": [
    "print(f'Optimal Price (Original): {optimal_price}')\n",
    "print(f'Optimal Quantity (Original): {round(optimal_quantity, 0)}')\n",
    "print(f'Maximum Gross Profit: {round(max_gross_profit, 2)}')\n",
    "print(f'Slope of the Gross Profit Function at Optimal Price: {slope_at_optimal_price}')"
   ],
   "id": "71710731772face2",
   "outputs": [
    {
     "name": "stdout",
     "output_type": "stream",
     "text": [
      "Optimal Price (Original): 18.61\n",
      "Optimal Quantity (Original): 4.0\n",
      "Maximum Gross Profit: 29.49\n",
      "Slope of the Gross Profit Function at Optimal Price: 1.2381578854600968\n"
     ]
    }
   ],
   "execution_count": 26
  },
  {
   "metadata": {},
   "cell_type": "markdown",
   "source": "# Observations",
   "id": "95e4a3e7de121415"
  },
  {
   "metadata": {},
   "cell_type": "markdown",
   "source": [
    "# Extend the predictions\n",
    "Create a new range of unit prices extending beyond the observed data"
   ],
   "id": "77372bf27216d19d"
  },
  {
   "metadata": {
    "ExecuteTime": {
     "end_time": "2024-08-06T21:41:22.917615Z",
     "start_time": "2024-08-06T21:41:22.830410Z"
    }
   },
   "cell_type": "code",
   "source": [
    "new_unit_prices = np.linspace(individuale_df['unit_price'].min(), 40, 100)\n",
    "new_X = sm.add_constant(new_unit_prices)"
   ],
   "id": "c36fc00b88caad37",
   "outputs": [],
   "execution_count": 27
  },
  {
   "metadata": {},
   "cell_type": "markdown",
   "source": "Predict the quantities for the new range of unit prices",
   "id": "6417c1751339c940"
  },
  {
   "metadata": {
    "ExecuteTime": {
     "end_time": "2024-08-06T21:41:22.927164Z",
     "start_time": "2024-08-06T21:41:22.918176Z"
    }
   },
   "cell_type": "code",
   "source": "new_predictions = individuale_result.predict(new_X)",
   "id": "219269972e71eac",
   "outputs": [],
   "execution_count": 28
  },
  {
   "metadata": {},
   "cell_type": "markdown",
   "source": "Calculate the gross profit for the new unit prices. Assuming cost remains constant, using the mean cost from the original data",
   "id": "2891fe133ce105bc"
  },
  {
   "metadata": {
    "ExecuteTime": {
     "end_time": "2024-08-06T21:41:22.936958Z",
     "start_time": "2024-08-06T21:41:22.927708Z"
    }
   },
   "cell_type": "code",
   "source": [
    "mean_cost = individuale_df['cost'].mean()\n",
    "new_gross_profits = (new_unit_prices - mean_cost) * new_predictions"
   ],
   "id": "d45936d462560b21",
   "outputs": [],
   "execution_count": 29
  },
  {
   "metadata": {},
   "cell_type": "markdown",
   "source": "Find the price that maximizes gross profit",
   "id": "76b20d1ae50fcbaf"
  },
  {
   "metadata": {
    "ExecuteTime": {
     "end_time": "2024-08-06T21:41:22.946559Z",
     "start_time": "2024-08-06T21:41:22.938495Z"
    }
   },
   "cell_type": "code",
   "source": [
    "max_index = np.argmax(new_gross_profits)\n",
    "optimal_price = new_unit_prices[np.argmax(new_gross_profits)]\n",
    "max_gross_profit = new_gross_profits.max()\n",
    "optimal_quantity_extended = new_predictions[max_index]"
   ],
   "id": "ddcf5a1fffa27a31",
   "outputs": [],
   "execution_count": 30
  },
  {
   "metadata": {
    "ExecuteTime": {
     "end_time": "2024-08-06T21:41:22.956047Z",
     "start_time": "2024-08-06T21:41:22.947323Z"
    }
   },
   "cell_type": "code",
   "source": [
    "def extended_gross_profit_function(price):\n",
    "    \"\"\"\n",
    "    Define the gross profit function based on the regression model\n",
    "    :param price: \n",
    "    :return: \n",
    "    \"\"\"\n",
    "    return (price - mean_cost) * (individuale_result.params['const'] + individuale_result.params['unit_price'] * price)"
   ],
   "id": "3eb105715e767cc2",
   "outputs": [],
   "execution_count": 31
  },
  {
   "metadata": {},
   "cell_type": "markdown",
   "source": "Calculate the slope of first derivative at the optimal price",
   "id": "8c7b7fcf9d6e700"
  },
  {
   "metadata": {
    "ExecuteTime": {
     "end_time": "2024-08-06T21:41:22.970617Z",
     "start_time": "2024-08-06T21:41:22.956694Z"
    }
   },
   "cell_type": "code",
   "source": [
    "derivative_function = nd.Derivative(extended_gross_profit_function)\n",
    "slope_at_optimal_price_extended = derivative_function(optimal_price)"
   ],
   "id": "86a52e49722896a5",
   "outputs": [],
   "execution_count": 32
  },
  {
   "metadata": {},
   "cell_type": "markdown",
   "source": "# Plot the extended gross profit curve",
   "id": "c5d92b719a4e7341"
  },
  {
   "metadata": {
    "ExecuteTime": {
     "end_time": "2024-08-06T21:41:23.218149Z",
     "start_time": "2024-08-06T21:41:22.971405Z"
    }
   },
   "cell_type": "code",
   "source": [
    "plt.figure(figsize=(10, 6))\n",
    "plt.plot(new_unit_prices, new_gross_profits, label='Gross Profit Curve')\n",
    "plt.scatter(\n",
    "    optimal_price, \n",
    "    max_gross_profit, \n",
    "    color='red', \n",
    "    label=f'Optimal Price: {optimal_price:.2f}'\n",
    ")\n",
    "plt.axhline(\n",
    "    y=max_gross_profit, \n",
    "    color='red', \n",
    "    linestyle='--', \n",
    "    label=f'First derivative slope: {slope_at_optimal_price_extended:.4f}'\n",
    ")\n",
    "plt.title('Gross Profit Curve (Extended)')\n",
    "plt.xlabel('Unit Price')\n",
    "plt.ylabel('Gross Profit')\n",
    "plt.legend()\n",
    "plt.grid(True)\n",
    "plt.savefig('./../plots/individuale_ext_gp_curve')\n",
    "plt.show()"
   ],
   "id": "b28d1e72a7c3e0d1",
   "outputs": [
    {
     "data": {
      "text/plain": [
       "<Figure size 1000x600 with 1 Axes>"
      ],
      "image/png": "[encoded data removed]"
     },
     "metadata": {},
     "output_type": "display_data"
    }
   ],
   "execution_count": 33
  },
  {
   "metadata": {},
   "cell_type": "markdown",
   "source": "# Print the optimal price and maximum gross profit",
   "id": "c4b2a5ef7ef1970b"
  },
  {
   "metadata": {
    "ExecuteTime": {
     "end_time": "2024-08-06T21:41:23.220821Z",
     "start_time": "2024-08-06T21:41:23.218783Z"
    }
   },
   "cell_type": "code",
   "source": [
    "print(f'Optimal Price: {round(optimal_price, 2)}')\n",
    "print(f'Optimal Quantity (Extended): {round(optimal_quantity_extended, 0)}')\n",
    "print(f'Maximum Gross Profit: {round(max_gross_profit, 2)}')\n",
    "print(f'Slope of the Gross Profit Function at Optimal Price (Extended): {slope_at_optimal_price_extended}')  # Print the optimal price and slope at that point"
   ],
   "id": "6a6d75fc9c599926",
   "outputs": [
    {
     "name": "stdout",
     "output_type": "stream",
     "text": [
      "Optimal Price: 22.23\n",
      "Optimal Quantity (Extended): 3.0\n",
      "Maximum Gross Profit: 53.94\n",
      "Slope of the Gross Profit Function at Optimal Price (Extended): 0.050794834150056825\n"
     ]
    }
   ],
   "execution_count": 34
  },
  {
   "metadata": {},
   "cell_type": "markdown",
   "source": [
    "# Analysis\n",
    "So, on the face of it, the optimal price point is 22.23 which is confirmed by the slope of the first derivative, which is very close to 0. \n",
    "\n",
    "However, because we're making predictions outside the dataset, it can only be considered a hypothesis at this point. We have no data to substantiate it. We should set up an experiment to gather more data about sales quantities at higher price points.\n",
    "\n",
    "- Hypothesis ($H_1$): The optimal unit price that maximises gross profit is 22.23.\n",
    "- Null Hypothesis ($H_0$): The optimal unit price that maximises gross profit is different from 22.23."
   ],
   "id": "d97368ae26b5bcee"
  },
  {
   "metadata": {
    "ExecuteTime": {
     "end_time": "2024-08-06T21:41:23.298786Z",
     "start_time": "2024-08-06T21:41:23.221367Z"
    }
   },
   "cell_type": "code",
   "source": [
    "# todo: use plotly for the graphs we we can see price and quantity at different points using hover text, \n",
    "# todo: update analysis"
   ],
   "id": "b427beef14a317d3",
   "outputs": [],
   "execution_count": 35
  }
 ],
 "metadata": {
  "kernelspec": {
   "display_name": "Python 3",
   "language": "python",
   "name": "python3"
  },
  "language_info": {
   "codemirror_mode": {
    "name": "ipython",
    "version": 2
   },
   "file_extension": ".py",
   "mimetype": "text/x-python",
   "name": "python",
   "nbconvert_exporter": "python",
   "pygments_lexer": "ipython2",
   "version": "2.7.6"
  }
 },
 "nbformat": 4,
 "nbformat_minor": 5
}
