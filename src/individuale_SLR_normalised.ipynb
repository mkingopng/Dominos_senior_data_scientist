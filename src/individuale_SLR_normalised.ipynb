{
 "cells": [
  {
   "cell_type": "code",
   "id": "initial_id",
   "metadata": {
    "collapsed": true,
    "ExecuteTime": {
     "end_time": "2024-08-04T10:32:13.653643Z",
     "start_time": "2024-08-04T10:32:13.651509Z"
    }
   },
   "source": [
    "import statsmodels.api as sm\n",
    "from statsmodels.tools.tools import add_constant\n",
    "import pandas as pd\n",
    "import matplotlib.pyplot as plt\n",
    "import numpy as np\n",
    "import numdifftools as nd\n",
    "from scipy.stats import skew, kurtosis, boxcox\n",
    "from scipy.special import inv_boxcox"
   ],
   "outputs": [],
   "execution_count": 386
  },
  {
   "metadata": {
    "ExecuteTime": {
     "end_time": "2024-08-04T10:32:13.922478Z",
     "start_time": "2024-08-04T10:32:13.914736Z"
    }
   },
   "cell_type": "code",
   "source": "df = pd.read_csv('./../data/price_elasticity_data.csv')",
   "id": "52ff7b590d316f23",
   "outputs": [],
   "execution_count": 387
  },
  {
   "metadata": {
    "ExecuteTime": {
     "end_time": "2024-08-04T10:32:13.960721Z",
     "start_time": "2024-08-04T10:32:13.957206Z"
    }
   },
   "cell_type": "code",
   "source": "df.isnull().sum()",
   "id": "3fd5451711ed38bc",
   "outputs": [
    {
     "data": {
      "text/plain": [
       "Product              0\n",
       "Menu_Price           0\n",
       "Pizza_Count          0\n",
       "Profit_Percentage    0\n",
       "dtype: int64"
      ]
     },
     "execution_count": 388,
     "metadata": {},
     "output_type": "execute_result"
    }
   ],
   "execution_count": 388
  },
  {
   "metadata": {},
   "cell_type": "markdown",
   "source": "rename columns",
   "id": "97ddb8be77c08d69"
  },
  {
   "metadata": {
    "ExecuteTime": {
     "end_time": "2024-08-04T10:32:13.997333Z",
     "start_time": "2024-08-04T10:32:13.995014Z"
    }
   },
   "cell_type": "code",
   "source": [
    "names = {'Menu_Price': 'unit_price', 'Pizza_Count': 'quantity', 'Profit_Percentage': 'profit_percentage'}\n",
    "df.rename(columns=names, inplace=True)"
   ],
   "id": "b08af406e478e6a5",
   "outputs": [],
   "execution_count": 389
  },
  {
   "metadata": {},
   "cell_type": "markdown",
   "source": "# calculate additional features",
   "id": "cf7be6bf7cefb0f8"
  },
  {
   "metadata": {
    "ExecuteTime": {
     "end_time": "2024-08-04T10:32:14.005429Z",
     "start_time": "2024-08-04T10:32:14.002551Z"
    }
   },
   "cell_type": "code",
   "source": [
    "df['gross_margin'] = df['profit_percentage'] / 100\n",
    "df['gross_profit'] = df['unit_price'] * (1 - df['gross_margin'])\n",
    "df['cost'] = df['unit_price'] - df['gross_profit']"
   ],
   "id": "d4016c63cb251f9",
   "outputs": [],
   "execution_count": 390
  },
  {
   "metadata": {},
   "cell_type": "markdown",
   "source": "# Subset the dataframe for 'Individuale' product and create a copy",
   "id": "a8b76427d63510ab"
  },
  {
   "metadata": {
    "ExecuteTime": {
     "end_time": "2024-08-04T10:32:14.011047Z",
     "start_time": "2024-08-04T10:32:14.008642Z"
    }
   },
   "cell_type": "code",
   "source": "individuale_df = df[df['Product'] == 'Individuale'].copy()",
   "id": "5b75cf40a4e4fae3",
   "outputs": [],
   "execution_count": 391
  },
  {
   "metadata": {
    "ExecuteTime": {
     "end_time": "2024-08-04T10:32:14.016160Z",
     "start_time": "2024-08-04T10:32:14.013361Z"
    }
   },
   "cell_type": "code",
   "source": "individuale_df.isnull().sum()",
   "id": "773e4b46595fed6f",
   "outputs": [
    {
     "data": {
      "text/plain": [
       "Product              0\n",
       "unit_price           0\n",
       "quantity             0\n",
       "profit_percentage    0\n",
       "gross_margin         0\n",
       "gross_profit         0\n",
       "cost                 0\n",
       "dtype: int64"
      ]
     },
     "execution_count": 392,
     "metadata": {},
     "output_type": "execute_result"
    }
   ],
   "execution_count": 392
  },
  {
   "metadata": {
    "ExecuteTime": {
     "end_time": "2024-08-04T10:32:14.020838Z",
     "start_time": "2024-08-04T10:32:14.018633Z"
    }
   },
   "cell_type": "code",
   "source": "individuale_df['unit_price'].max()",
   "id": "9b6b423d155b04db",
   "outputs": [
    {
     "data": {
      "text/plain": [
       "np.float64(18.61)"
      ]
     },
     "execution_count": 393,
     "metadata": {},
     "output_type": "execute_result"
    }
   ],
   "execution_count": 393
  },
  {
   "metadata": {
    "ExecuteTime": {
     "end_time": "2024-08-04T10:32:14.052771Z",
     "start_time": "2024-08-04T10:32:14.050441Z"
    }
   },
   "cell_type": "code",
   "source": [
    "def identify_outliers(df, column):\n",
    "    \"\"\"\n",
    "     Identify outliers in a specified column of a DataFrame using the \n",
    "     Interquartile Range (IQR) method.\n",
    "     \n",
    "     The function calculates the first quartile (Q1) and the third quartile \n",
    "     (Q3) of the specified column. The interquartile range (IQR) is then \n",
    "     computed as the difference between Q3 and Q1.\n",
    "    \n",
    "     Outliers are defined as data points that fall below Q1 - 1.5 * IQR or \n",
    "     above Q3 + 1.5 * IQR. The function returns the rows containing these  \n",
    "     outliers along with the calculated lower and upper bounds.\n",
    "\n",
    "    :param df: \n",
    "    :param column: \n",
    "    :return: tuple: A tuple containing:\n",
    "        - pandas.DataFrame: A DataFrame containing the rows identified as outliers.\n",
    "        - float: The lower bound for identifying outliers.\n",
    "        - float: The upper bound for identifying outliers.\n",
    "    \"\"\"\n",
    "    Q1 = df[column].quantile(0.25)\n",
    "    Q3 = df[column].quantile(0.75)\n",
    "    IQR = Q3 - Q1\n",
    "    lower_bound = Q1 - 1.5 * IQR\n",
    "    upper_bound = Q3 + 1.5 * IQR\n",
    "    return df[(df[column] < lower_bound) | (df[column] > upper_bound)], lower_bound, upper_bound"
   ],
   "id": "bed043ad916d30e8",
   "outputs": [],
   "execution_count": 394
  },
  {
   "metadata": {
    "ExecuteTime": {
     "end_time": "2024-08-04T10:32:14.065880Z",
     "start_time": "2024-08-04T10:32:14.062986Z"
    }
   },
   "cell_type": "code",
   "source": "individuale_outliers, indiv_lower, indiv_upper = identify_outliers(individuale_df, 'unit_price')",
   "id": "bdbda5fa1b887ee3",
   "outputs": [],
   "execution_count": 395
  },
  {
   "metadata": {},
   "cell_type": "markdown",
   "source": "remove outliers",
   "id": "848c35366eadf0d8"
  },
  {
   "metadata": {
    "ExecuteTime": {
     "end_time": "2024-08-04T10:32:14.074125Z",
     "start_time": "2024-08-04T10:32:14.071503Z"
    }
   },
   "cell_type": "code",
   "source": [
    "individuale_df = individuale_df.drop(individuale_outliers[individuale_outliers['unit_price'] > indiv_upper].index)\n",
    "individuale_df = individuale_df.drop(individuale_outliers[individuale_outliers['unit_price'] < indiv_lower].index)"
   ],
   "id": "dd7eca7718862d61",
   "outputs": [],
   "execution_count": 396
  },
  {
   "metadata": {},
   "cell_type": "markdown",
   "source": [
    "# Apply Box-Cox transformation\n",
    "based on analysis of 13 alternatives in the `EDA_v2` notebook"
   ],
   "id": "e294b62cccfc963d"
  },
  {
   "metadata": {
    "ExecuteTime": {
     "end_time": "2024-08-04T10:32:14.098692Z",
     "start_time": "2024-08-04T10:32:14.096116Z"
    }
   },
   "cell_type": "code",
   "source": [
    "def apply_boxcox_and_calculate_stats(df, features):\n",
    "    stats = {}\n",
    "    lambdas = {}\n",
    "    for feature in features:\n",
    "        df[f'BoxCox_{feature}'], fitted_lambda = boxcox(df[feature] + 1)\n",
    "        lambdas[feature] = fitted_lambda\n",
    "        skewness = skew(df[f'BoxCox_{feature}'])\n",
    "        kurt = kurtosis(df[f'BoxCox_{feature}'])\n",
    "        stats[feature] = (skewness, kurt)\n",
    "        print(f\"Feature: {feature}\")\n",
    "        print(f\"Box-Cox Transformed: Skewness = {skewness:.4f}, Kurtosis = {kurt:.4f}\\n\")\n",
    "    return df, stats, lambdas"
   ],
   "id": "6d79b55fa7a26f4",
   "outputs": [],
   "execution_count": 397
  },
  {
   "metadata": {
    "ExecuteTime": {
     "end_time": "2024-08-04T10:32:14.106272Z",
     "start_time": "2024-08-04T10:32:14.104569Z"
    }
   },
   "cell_type": "code",
   "source": "features = ['unit_price', 'quantity', 'gross_profit', 'cost']",
   "id": "5d0dbe7a3dc0bca9",
   "outputs": [],
   "execution_count": 398
  },
  {
   "metadata": {
    "ExecuteTime": {
     "end_time": "2024-08-04T10:32:14.126135Z",
     "start_time": "2024-08-04T10:32:14.113342Z"
    }
   },
   "cell_type": "code",
   "source": "individuale_df, individuale_stats, fitted_lambdas = apply_boxcox_and_calculate_stats(individuale_df, features)",
   "id": "5c9b93248fb5966e",
   "outputs": [
    {
     "name": "stdout",
     "output_type": "stream",
     "text": [
      "Feature: unit_price\n",
      "Box-Cox Transformed: Skewness = -0.0073, Kurtosis = -0.0553\n",
      "\n",
      "Feature: quantity\n",
      "Box-Cox Transformed: Skewness = -0.0858, Kurtosis = 1.7082\n",
      "\n",
      "Feature: gross_profit\n",
      "Box-Cox Transformed: Skewness = 0.0032, Kurtosis = 0.4552\n",
      "\n",
      "Feature: cost\n",
      "Box-Cox Transformed: Skewness = -0.0345, Kurtosis = -0.2547\n",
      "\n"
     ]
    }
   ],
   "execution_count": 399
  },
  {
   "metadata": {
    "ExecuteTime": {
     "end_time": "2024-08-04T10:32:14.129564Z",
     "start_time": "2024-08-04T10:32:14.127032Z"
    }
   },
   "cell_type": "code",
   "source": [
    "# Calculate mean cost from the original data\n",
    "mean_cost = np.mean(individuale_df['cost'])"
   ],
   "id": "44ea61ba825cb911",
   "outputs": [],
   "execution_count": 400
  },
  {
   "metadata": {},
   "cell_type": "markdown",
   "source": "# Fit linear regression model",
   "id": "ca371066106711eb"
  },
  {
   "metadata": {
    "ExecuteTime": {
     "end_time": "2024-08-04T10:32:14.149587Z",
     "start_time": "2024-08-04T10:32:14.142324Z"
    }
   },
   "cell_type": "code",
   "source": [
    "# Fit linear regression model\n",
    "x_value = individuale_df['BoxCox_unit_price']\n",
    "y_value = individuale_df['BoxCox_quantity']\n",
    "assert len(x_value) == len(y_value), \"x and y must have the same length\"\n",
    "X = add_constant(x_value)\n",
    "model = sm.OLS(y_value, X)\n",
    "individuale_result = model.fit()\n",
    "print(individuale_result.summary())"
   ],
   "id": "876a4e889afee39c",
   "outputs": [
    {
     "name": "stdout",
     "output_type": "stream",
     "text": [
      "                            OLS Regression Results                            \n",
      "==============================================================================\n",
      "Dep. Variable:        BoxCox_quantity   R-squared:                       0.817\n",
      "Model:                            OLS   Adj. R-squared:                  0.815\n",
      "Method:                 Least Squares   F-statistic:                     300.0\n",
      "Date:                Sun, 04 Aug 2024   Prob (F-statistic):           1.94e-26\n",
      "Time:                        20:32:14   Log-Likelihood:                 1722.9\n",
      "No. Observations:                  69   AIC:                            -3442.\n",
      "Df Residuals:                      67   BIC:                            -3437.\n",
      "Df Model:                           1                                         \n",
      "Covariance Type:            nonrobust                                         \n",
      "=====================================================================================\n",
      "                        coef    std err          t      P>|t|      [0.025      0.975]\n",
      "-------------------------------------------------------------------------------------\n",
      "const                 0.0816   2.18e-12   3.74e+10      0.000       0.082       0.082\n",
      "BoxCox_unit_price  -2.68e-12   1.55e-13    -17.320      0.000   -2.99e-12   -2.37e-12\n",
      "==============================================================================\n",
      "Omnibus:                        1.695   Durbin-Watson:                   0.590\n",
      "Prob(Omnibus):                  0.429   Jarque-Bera (JB):                1.226\n",
      "Skew:                          -0.017   Prob(JB):                        0.542\n",
      "Kurtosis:                       2.348   Cond. No.                         73.2\n",
      "==============================================================================\n",
      "\n",
      "Notes:\n",
      "[1] Standard Errors assume that the covariance matrix of the errors is correctly specified.\n"
     ]
    }
   ],
   "execution_count": 401
  },
  {
   "metadata": {},
   "cell_type": "markdown",
   "source": "# Analysis",
   "id": "68df835344cee9b4"
  },
  {
   "metadata": {},
   "cell_type": "markdown",
   "source": "# Get prediction values",
   "id": "ffc565c780e59270"
  },
  {
   "metadata": {
    "ExecuteTime": {
     "end_time": "2024-08-04T10:32:14.153358Z",
     "start_time": "2024-08-04T10:32:14.150732Z"
    }
   },
   "cell_type": "code",
   "source": [
    "predictions = individuale_result.predict(X)\n",
    "predictions_original = inv_boxcox(predictions, fitted_lambdas['quantity'])\n",
    "individuale_df['predicted_quantities'] = predictions_original"
   ],
   "id": "1f3e927611bac6bb",
   "outputs": [],
   "execution_count": 402
  },
  {
   "metadata": {},
   "cell_type": "markdown",
   "source": "# Create a scatter plot with the regression line based on the original data",
   "id": "f80b3db16b2a164"
  },
  {
   "metadata": {
    "ExecuteTime": {
     "end_time": "2024-08-04T10:32:14.240250Z",
     "start_time": "2024-08-04T10:32:14.155205Z"
    }
   },
   "cell_type": "code",
   "source": [
    "plt.figure(figsize=(10, 6))\n",
    "plt.scatter(individuale_df['unit_price'], individuale_df['quantity'], alpha=0.5, label='Data points')\n",
    "plt.plot(individuale_df['unit_price'], predictions_original, color='red', linewidth=2, label='Regression line')\n",
    "plt.title('Scatter plot of Unit Price vs Quantity with Regression Line')\n",
    "plt.xlabel('Unit Price')\n",
    "plt.ylabel('Quantity')\n",
    "plt.legend()\n",
    "plt.grid(True)\n",
    "plt.show()"
   ],
   "id": "523654af9407eb1",
   "outputs": [
    {
     "data": {
      "text/plain": [
       "<Figure size 1000x600 with 1 Axes>"
      ],
      "image/png": "[encoded data removed]"
     },
     "metadata": {},
     "output_type": "display_data"
    }
   ],
   "execution_count": 403
  },
  {
   "metadata": {},
   "cell_type": "markdown",
   "source": [
    "# Analysis\n",
    "The regression line represents the relationship between unit rice and quantity demanded as modelled by simple linear regression. We can use it to derive our Price elasticity of demand (PED)\n",
    "\n",
    "The regression line can be expressed as:\n",
    "$$\\text{Quantity} = \\alpha + \\beta \\times \\text{Price}$$\n",
    "\n",
    "where:\n",
    "- $\\alpha$ is the intercept of the line.\n",
    "- $\\beta$ is the slope of the regression line\n",
    "\n",
    "From our regression summary we know that:\n",
    "- $\\alpha = 0.0816$\n",
    "- $\\beta = -2.68e-12$"
   ],
   "id": "7f269e2a26ed115b"
  },
  {
   "metadata": {
    "ExecuteTime": {
     "end_time": "2024-08-04T10:32:14.243205Z",
     "start_time": "2024-08-04T10:32:14.241101Z"
    }
   },
   "cell_type": "code",
   "source": [
    "# Calculate the gross profit based on the inverse transformed predictions\n",
    "individuale_df['gross_profit_predictions'] = (individuale_df['unit_price'] - individuale_df['cost']) * individuale_df['predicted_quantities']"
   ],
   "id": "5aeeedca69080124",
   "outputs": [],
   "execution_count": 404
  },
  {
   "metadata": {},
   "cell_type": "markdown",
   "source": "# Access alpha and beta directly from the fitted model",
   "id": "eb1d8e98aeeecfce"
  },
  {
   "metadata": {
    "ExecuteTime": {
     "end_time": "2024-08-04T10:32:14.247643Z",
     "start_time": "2024-08-04T10:32:14.243857Z"
    }
   },
   "cell_type": "code",
   "source": [
    "alpha = individuale_result.params['const']\n",
    "alpha"
   ],
   "id": "c589d7b946838c89",
   "outputs": [
    {
     "data": {
      "text/plain": [
       "np.float64(0.08155912112753438)"
      ]
     },
     "execution_count": 405,
     "metadata": {},
     "output_type": "execute_result"
    }
   ],
   "execution_count": 405
  },
  {
   "metadata": {
    "ExecuteTime": {
     "end_time": "2024-08-04T10:32:14.251773Z",
     "start_time": "2024-08-04T10:32:14.248457Z"
    }
   },
   "cell_type": "code",
   "source": [
    "beta = individuale_result.params['BoxCox_unit_price']\n",
    "beta"
   ],
   "id": "f6b1d56c22ed03c6",
   "outputs": [
    {
     "data": {
      "text/plain": [
       "np.float64(-2.679773255506895e-12)"
      ]
     },
     "execution_count": 406,
     "metadata": {},
     "output_type": "execute_result"
    }
   ],
   "execution_count": 406
  },
  {
   "metadata": {},
   "cell_type": "markdown",
   "source": "# Calculate mean price and mean quantity",
   "id": "ab70844cb1072f32"
  },
  {
   "metadata": {
    "ExecuteTime": {
     "end_time": "2024-08-04T10:32:14.256069Z",
     "start_time": "2024-08-04T10:32:14.252305Z"
    }
   },
   "cell_type": "code",
   "source": [
    "individuale_mean_price = np.mean(individuale_df['unit_price'])\n",
    "individuale_mean_quantity = np.mean(individuale_df['quantity'])"
   ],
   "id": "8f209b8c6021763a",
   "outputs": [],
   "execution_count": 407
  },
  {
   "metadata": {},
   "cell_type": "markdown",
   "source": [
    "# Calculate PED\n",
    "\n",
    "Price elasticity of demand. In general terms we can express this algebraically as:\n",
    "\n",
    "$$\\text{PED} = \\dfrac{\\Delta{Q}/Q}{\\Delta{P}/P}$$\n",
    "\n",
    "Where:\n",
    "- $\\Delta{Q}$ is the change in quantity demanded.\n",
    "- $Q$ is the initial quantity demanded.\n",
    "- $\\Delta{P}$ is the change in price.\n",
    "- $P$ is the initial price."
   ],
   "id": "ea298d9812367534"
  },
  {
   "metadata": {
    "ExecuteTime": {
     "end_time": "2024-08-04T10:32:14.259976Z",
     "start_time": "2024-08-04T10:32:14.256592Z"
    }
   },
   "cell_type": "code",
   "source": [
    "ped = beta * (individuale_mean_price / individuale_mean_quantity)\n",
    "print(f'Price Elasticity of Demand: {ped}')"
   ],
   "id": "1b32c4f8c737dbde",
   "outputs": [
    {
     "name": "stdout",
     "output_type": "stream",
     "text": [
      "Price Elasticity of Demand: -4.745236119704167e-12\n"
     ]
    }
   ],
   "execution_count": 408
  },
  {
   "metadata": {},
   "cell_type": "markdown",
   "source": "individuale is more elastic than Communita",
   "id": "1047e0bea24e9839"
  },
  {
   "metadata": {},
   "cell_type": "markdown",
   "source": "# Find the price that maximizes gross profit",
   "id": "d38cc19bb42e99cd"
  },
  {
   "metadata": {
    "ExecuteTime": {
     "end_time": "2024-08-04T10:32:14.263399Z",
     "start_time": "2024-08-04T10:32:14.260515Z"
    }
   },
   "cell_type": "code",
   "source": [
    "optimal_price = individuale_df.loc[individuale_df['gross_profit_predictions'].idxmax(), 'unit_price']\n",
    "max_gross_profit = individuale_df['gross_profit_predictions'].max()\n",
    "optimal_quantity = individuale_df.loc[individuale_df['gross_profit_predictions'].idxmax(), 'predicted_quantities']"
   ],
   "id": "26b632aac616a9cb",
   "outputs": [],
   "execution_count": 409
  },
  {
   "metadata": {
    "ExecuteTime": {
     "end_time": "2024-08-04T10:32:14.283216Z",
     "start_time": "2024-08-04T10:32:14.281475Z"
    }
   },
   "cell_type": "code",
   "source": [
    "# Define the gross profit function based on the regression model in the original space\n",
    "def gross_profit_function(price):\n",
    "    boxcox_price = (price + 1) ** fitted_lambdas['unit_price'] - 1\n",
    "    return (price - mean_cost) * (individuale_result.params['const'] + individuale_result.params['BoxCox_unit_price'] * boxcox_price)"
   ],
   "id": "c16be5a49e5448a0",
   "outputs": [],
   "execution_count": 410
  },
  {
   "metadata": {},
   "cell_type": "markdown",
   "source": "Calculate the first derivative (slope) at the optimal price",
   "id": "326a72c74aa2d4e2"
  },
  {
   "metadata": {
    "ExecuteTime": {
     "end_time": "2024-08-04T10:32:14.291848Z",
     "start_time": "2024-08-04T10:32:14.283923Z"
    }
   },
   "cell_type": "code",
   "source": [
    "derivative_function = nd.Derivative(gross_profit_function)\n",
    "slope_at_optimal_price = derivative_function(optimal_price)"
   ],
   "id": "c49956d108d4888f",
   "outputs": [],
   "execution_count": 411
  },
  {
   "metadata": {},
   "cell_type": "markdown",
   "source": "first derivative given point and slope",
   "id": "d7a23357d024e009"
  },
  {
   "metadata": {
    "ExecuteTime": {
     "end_time": "2024-08-04T10:32:14.295434Z",
     "start_time": "2024-08-04T10:32:14.292400Z"
    }
   },
   "cell_type": "code",
   "source": [
    "# fix_me\n",
    "x1, y1 = optimal_price, max_gross_profit\n",
    "slope = slope_at_optimal_price\n",
    "intercept = y1 - slope * x1\n",
    "x_vals = np.linspace(individuale_df['unit_price'].min(), individuale_df['unit_price'].max(), 100)\n",
    "y_vals = slope * x_vals + intercept"
   ],
   "id": "410dcf8354304514",
   "outputs": [],
   "execution_count": 412
  },
  {
   "metadata": {},
   "cell_type": "markdown",
   "source": "# Plot the transformed gross profit curve",
   "id": "b1305c2d2c672edc"
  },
  {
   "metadata": {
    "ExecuteTime": {
     "end_time": "2024-08-04T10:32:14.383572Z",
     "start_time": "2024-08-04T10:32:14.295982Z"
    }
   },
   "cell_type": "code",
   "source": [
    "plt.figure(figsize=(10, 6))\n",
    "plt.plot(individuale_df['unit_price'], individuale_df['gross_profit_predictions'], label='Gross Profit Curve')\n",
    "plt.scatter(optimal_price, max_gross_profit, color='red', label=f'Optimal Price: {optimal_price:.2f}')\n",
    "plt.plot(x_vals, y_vals, color='red', linestyle='--', label=f'Tangent Line at Optimal Price')\n",
    "plt.title('Gross Profit Curve (transformed and outliers removed)')\n",
    "plt.xlabel('Unit Price')\n",
    "plt.ylabel('Gross Profit')\n",
    "plt.legend()\n",
    "plt.grid(True)\n",
    "plt.show()"
   ],
   "id": "f3ba81ba73ee5feb",
   "outputs": [
    {
     "data": {
      "text/plain": [
       "<Figure size 1000x600 with 1 Axes>"
      ],
      "image/png": "[encoded data removed]"
     },
     "metadata": {},
     "output_type": "display_data"
    }
   ],
   "execution_count": 413
  },
  {
   "metadata": {},
   "cell_type": "markdown",
   "source": "Print the optimal price and slope at that point",
   "id": "a37f24aa04aac3eb"
  },
  {
   "metadata": {
    "ExecuteTime": {
     "end_time": "2024-08-04T10:32:14.387184Z",
     "start_time": "2024-08-04T10:32:14.384635Z"
    }
   },
   "cell_type": "code",
   "source": [
    "print(f'Optimal Price (Original): {round(optimal_price, 2)}')\n",
    "print(f'Optimal Quantity (Original): {round(optimal_quantity, 0)}')\n",
    "print(f'Maximum Gross Profit: {round(max_gross_profit, 2)}')\n",
    "print(f'Slope of the Gross Profit Function at Optimal Price: {slope_at_optimal_price}')"
   ],
   "id": "71710731772face2",
   "outputs": [
    {
     "name": "stdout",
     "output_type": "stream",
     "text": [
      "Optimal Price (Original): 12.99\n",
      "Optimal Quantity (Original): 6.0\n",
      "Maximum Gross Profit: 35.37\n",
      "Slope of the Gross Profit Function at Optimal Price: 0.08155912099718347\n"
     ]
    }
   ],
   "execution_count": 414
  },
  {
   "metadata": {},
   "cell_type": "markdown",
   "source": "# Analysis",
   "id": "95e4a3e7de121415"
  },
  {
   "metadata": {},
   "cell_type": "markdown",
   "source": [
    "# Extend the predictions\n",
    "Create a new range of unit prices extending beyond the observed data"
   ],
   "id": "77372bf27216d19d"
  },
  {
   "metadata": {
    "ExecuteTime": {
     "end_time": "2024-08-04T10:32:14.391938Z",
     "start_time": "2024-08-04T10:32:14.387832Z"
    }
   },
   "cell_type": "code",
   "source": [
    "new_unit_prices = np.linspace(individuale_df['unit_price'].min(), 40, 100)\n",
    "new_X = sm.add_constant(new_unit_prices)\n",
    "new_predictions = individuale_result.predict(new_X)"
   ],
   "id": "c36fc00b88caad37",
   "outputs": [],
   "execution_count": 415
  },
  {
   "metadata": {},
   "cell_type": "markdown",
   "source": "Calculate the gross profit for the new unit prices. Assuming cost remains constant, using the mean cost from the original data",
   "id": "2891fe133ce105bc"
  },
  {
   "metadata": {
    "ExecuteTime": {
     "end_time": "2024-08-04T10:32:14.395490Z",
     "start_time": "2024-08-04T10:32:14.392494Z"
    }
   },
   "cell_type": "code",
   "source": "new_gross_profits = (new_unit_prices - mean_cost) * new_predictions",
   "id": "d45936d462560b21",
   "outputs": [],
   "execution_count": 416
  },
  {
   "metadata": {},
   "cell_type": "markdown",
   "source": "Find the price that maximizes gross profit",
   "id": "76b20d1ae50fcbaf"
  },
  {
   "metadata": {
    "ExecuteTime": {
     "end_time": "2024-08-04T10:32:14.442836Z",
     "start_time": "2024-08-04T10:32:14.440739Z"
    }
   },
   "cell_type": "code",
   "source": [
    "max_index = np.argmax(new_gross_profits)\n",
    "optimal_price_extended = new_unit_prices[np.argmax(new_gross_profits)]\n",
    "max_gross_profit_extended = new_gross_profits.max()\n",
    "optimal_quantity_extended = new_predictions[max_index]"
   ],
   "id": "ddcf5a1fffa27a31",
   "outputs": [],
   "execution_count": 417
  },
  {
   "metadata": {
    "ExecuteTime": {
     "end_time": "2024-08-04T10:32:14.449919Z",
     "start_time": "2024-08-04T10:32:14.447962Z"
    }
   },
   "cell_type": "code",
   "source": [
    "def extended_gross_profit_function(price):\n",
    "    boxcox_price = (price + 1) ** fitted_lambdas['unit_price'] - 1\n",
    "    return (price - mean_cost) * (individuale_result.params['const'] + individuale_result.params['BoxCox_unit_price'] * boxcox_price)"
   ],
   "id": "3eb105715e767cc2",
   "outputs": [],
   "execution_count": 418
  },
  {
   "metadata": {},
   "cell_type": "markdown",
   "source": "Calculate the slope of the first derivative at the optimal price",
   "id": "baca0b91c5dcfa34"
  },
  {
   "metadata": {
    "ExecuteTime": {
     "end_time": "2024-08-04T10:32:14.467497Z",
     "start_time": "2024-08-04T10:32:14.461357Z"
    }
   },
   "cell_type": "code",
   "source": "slope_at_optimal_price_extended = nd.Derivative(extended_gross_profit_function)(optimal_price_extended)\n",
   "id": "86a52e49722896a5",
   "outputs": [],
   "execution_count": 419
  },
  {
   "metadata": {},
   "cell_type": "markdown",
   "source": "# Plot the extended gross profit curve",
   "id": "c5d92b719a4e7341"
  },
  {
   "metadata": {
    "ExecuteTime": {
     "end_time": "2024-08-04T10:32:14.629584Z",
     "start_time": "2024-08-04T10:32:14.533338Z"
    }
   },
   "cell_type": "code",
   "source": [
    "plt.figure(figsize=(10, 6))\n",
    "plt.plot(new_unit_prices, new_gross_profits, label='Gross Profit Curve')\n",
    "plt.scatter(optimal_price_extended, max_gross_profit_extended, color='red', label=f'Optimal Price: {optimal_price_extended:.2f}')\n",
    "plt.axhline(y=max_gross_profit_extended, color='red', linestyle='--', label=f'First derivative slope: {slope_at_optimal_price_extended:.4f}')\n",
    "plt.title('Gross Profit Curve (Extended)')\n",
    "plt.xlabel('Unit Price')\n",
    "plt.ylabel('Gross Profit')\n",
    "plt.legend()\n",
    "plt.grid(True)\n",
    "plt.show()"
   ],
   "id": "b28d1e72a7c3e0d1",
   "outputs": [
    {
     "data": {
      "text/plain": [
       "<Figure size 1000x600 with 1 Axes>"
      ],
      "image/png": "[encoded data removed]"
     },
     "metadata": {},
     "output_type": "display_data"
    }
   ],
   "execution_count": 420
  },
  {
   "metadata": {},
   "cell_type": "markdown",
   "source": "# Print the optimal price and maximum gross profit",
   "id": "c4b2a5ef7ef1970b"
  },
  {
   "metadata": {
    "ExecuteTime": {
     "end_time": "2024-08-04T10:32:14.633023Z",
     "start_time": "2024-08-04T10:32:14.630500Z"
    }
   },
   "cell_type": "code",
   "source": [
    "print(f'Optimal Price: {round(optimal_price_extended, 2)}')\n",
    "print(f'Optimal Quantity (Extended): {round(optimal_quantity_extended, 0)}')\n",
    "print(f'Maximum Gross Profit: {round(max_gross_profit_extended, 2)}')\n",
    "print(f'Slope of the Gross Profit Function at Optimal Price (Extended): {slope_at_optimal_price_extended}')"
   ],
   "id": "6a6d75fc9c599926",
   "outputs": [
    {
     "name": "stdout",
     "output_type": "stream",
     "text": [
      "Optimal Price: 40.0\n",
      "Optimal Quantity (Extended): 0.0\n",
      "Maximum Gross Profit: 2.92\n",
      "Slope of the Gross Profit Function at Optimal Price (Extended): 0.0815591205263941\n"
     ]
    }
   ],
   "execution_count": 421
  },
  {
   "metadata": {},
   "cell_type": "markdown",
   "source": [
    "# Analysis\n",
    "So, on the face of it, the optimal price point is 22.23 which is confirmed by the slope of the first derivative, which is very close to 0. \n",
    "\n",
    "However, because we're making predictions outside the dataset, it can only be considered a hypothesis at this point. We have no data to substantiate it. We should set up an experiment to gather more data about sales quantities at higher price points.\n",
    "\n",
    "- Hypothesis ($H_1$): The optimal unit price that maximises gross profit is 22.23.\n",
    "- Null Hypothesis ($H_0$): The optimal unit price that maximises gross profit is different from 22.23."
   ],
   "id": "d97368ae26b5bcee"
  }
 ],
 "metadata": {
  "kernelspec": {
   "display_name": "Python 3",
   "language": "python",
   "name": "python3"
  },
  "language_info": {
   "codemirror_mode": {
    "name": "ipython",
    "version": 2
   },
   "file_extension": ".py",
   "mimetype": "text/x-python",
   "name": "python",
   "nbconvert_exporter": "python",
   "pygments_lexer": "ipython2",
   "version": "2.7.6"
  }
 },
 "nbformat": 4,
 "nbformat_minor": 5
}
