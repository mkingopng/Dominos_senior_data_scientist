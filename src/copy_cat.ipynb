{
 "cells": [
  {
   "cell_type": "code",
   "id": "initial_id",
   "metadata": {
    "collapsed": true,
    "ExecuteTime": {
     "end_time": "2024-08-03T14:37:50.582163Z",
     "start_time": "2024-08-03T14:37:50.332206Z"
    }
   },
   "source": [
    "import pandas as pd\n",
    "import numpy as np\n",
    "import statsmodels.api as sm\n",
    "import matplotlib.pyplot as plt\n",
    "import seaborn as sns\n",
    "import sympy as sp\n",
    "\n",
    "# Load the dataset\n",
    "file_path = './../data/price_elasticity_data.csv'\n",
    "df = pd.read_csv(file_path)\n",
    "\n",
    "# Display the first few rows of the dataset\n",
    "print(df.head())\n",
    "\n",
    "# Check for null values\n",
    "print(df.isnull().sum())\n",
    "\n",
    "# Fill missing values if necessary\n",
    "df.ffill()\n",
    "\n",
    "# Convert price columns to float\n",
    "df['Menu_Price'] = df['Menu_Price'].astype(float)\n",
    "df['Pizza_Count'] = df['Pizza_Count'].astype(float)\n",
    "\n",
    "print(df.dtypes)"
   ],
   "outputs": [
    {
     "name": "stdout",
     "output_type": "stream",
     "text": [
      "       Product  Menu_Price  Pizza_Count  Profit_Percentage\n",
      "0  Individuale      4.8200     6.583538          25.263382\n",
      "1  Individuale      5.2500     6.763684          26.845586\n",
      "2  Individuale      5.7500     6.690481          30.214454\n",
      "3  Individuale      6.2275     6.138780          33.417930\n",
      "4  Individuale      6.5500     5.977077          35.425975\n",
      "Product              0\n",
      "Menu_Price           0\n",
      "Pizza_Count          0\n",
      "Profit_Percentage    0\n",
      "dtype: int64\n",
      "Product               object\n",
      "Menu_Price           float64\n",
      "Pizza_Count          float64\n",
      "Profit_Percentage    float64\n",
      "dtype: object\n"
     ]
    },
    {
     "name": "stderr",
     "output_type": "stream",
     "text": [
      "/tmp/ipykernel_415424/1840088531.py:18: FutureWarning: DataFrame.fillna with 'method' is deprecated and will raise in a future version. Use obj.ffill() or obj.bfill() instead.\n",
      "  df.fillna(method='ffill', inplace=True)\n"
     ]
    }
   ],
   "execution_count": 1
  },
  {
   "metadata": {
    "ExecuteTime": {
     "end_time": "2024-08-03T14:37:50.586674Z",
     "start_time": "2024-08-03T14:37:50.583423Z"
    }
   },
   "cell_type": "code",
   "source": [
    "# Separate the data for each product\n",
    "individuale_data = df[df['Product'] == 'Individuale']\n",
    "communita_data = df[df['Product'] == 'Communita']\n",
    "\n",
    "# Function to build and summarize linear regression model\n",
    "def build_regression_model(data, price_column, sales_column):\n",
    "    X = data[price_column]\n",
    "    y = data[sales_column]\n",
    "    X = sm.add_constant(X)\n",
    "    model = sm.OLS(y, X).fit()\n",
    "    print(model.summary())\n",
    "    return model"
   ],
   "id": "9a83122a02ff18ce",
   "outputs": [],
   "execution_count": 2
  },
  {
   "metadata": {
    "ExecuteTime": {
     "end_time": "2024-08-03T14:37:50.616682Z",
     "start_time": "2024-08-03T14:37:50.587275Z"
    }
   },
   "cell_type": "code",
   "source": [
    "# Build and summarize the model for Individuale\n",
    "model_individuale = build_regression_model(individuale_data, 'Menu_Price', 'Pizza_Count')"
   ],
   "id": "eec37835655ba2f3",
   "outputs": [
    {
     "name": "stdout",
     "output_type": "stream",
     "text": [
      "                            OLS Regression Results                            \n",
      "==============================================================================\n",
      "Dep. Variable:            Pizza_Count   R-squared:                       0.612\n",
      "Model:                            OLS   Adj. R-squared:                  0.606\n",
      "Method:                 Least Squares   F-statistic:                     108.6\n",
      "Date:                Sun, 04 Aug 2024   Prob (F-statistic):           8.21e-16\n",
      "Time:                        00:37:50   Log-Likelihood:                -3.0430\n",
      "No. Observations:                  71   AIC:                             10.09\n",
      "Df Residuals:                      69   BIC:                             14.61\n",
      "Df Model:                           1                                         \n",
      "Covariance Type:            nonrobust                                         \n",
      "==============================================================================\n",
      "                 coef    std err          t      P>|t|      [0.025      0.975]\n",
      "------------------------------------------------------------------------------\n",
      "const          6.6425      0.147     45.114      0.000       6.349       6.936\n",
      "Menu_Price    -0.1639      0.016    -10.423      0.000      -0.195      -0.133\n",
      "==============================================================================\n",
      "Omnibus:                       50.515   Durbin-Watson:                   0.214\n",
      "Prob(Omnibus):                  0.000   Jarque-Bera (JB):              162.982\n",
      "Skew:                           2.320   Prob(JB):                     4.06e-36\n",
      "Kurtosis:                       8.793   Cond. No.                         45.8\n",
      "==============================================================================\n",
      "\n",
      "Notes:\n",
      "[1] Standard Errors assume that the covariance matrix of the errors is correctly specified.\n"
     ]
    }
   ],
   "execution_count": 3
  },
  {
   "metadata": {
    "ExecuteTime": {
     "end_time": "2024-08-03T14:37:50.625489Z",
     "start_time": "2024-08-03T14:37:50.617567Z"
    }
   },
   "cell_type": "code",
   "source": [
    "# Build and summarize the model for Communita\n",
    "model_communita = build_regression_model(communita_data, 'Menu_Price', 'Pizza_Count')"
   ],
   "id": "4894af3bc95cb73f",
   "outputs": [
    {
     "name": "stdout",
     "output_type": "stream",
     "text": [
      "                            OLS Regression Results                            \n",
      "==============================================================================\n",
      "Dep. Variable:            Pizza_Count   R-squared:                       0.699\n",
      "Model:                            OLS   Adj. R-squared:                  0.696\n",
      "Method:                 Least Squares   F-statistic:                     193.0\n",
      "Date:                Sun, 04 Aug 2024   Prob (F-statistic):           2.29e-23\n",
      "Time:                        00:37:50   Log-Likelihood:                 128.89\n",
      "No. Observations:                  85   AIC:                            -253.8\n",
      "Df Residuals:                      83   BIC:                            -248.9\n",
      "Df Model:                           1                                         \n",
      "Covariance Type:            nonrobust                                         \n",
      "==============================================================================\n",
      "                 coef    std err          t      P>|t|      [0.025      0.975]\n",
      "------------------------------------------------------------------------------\n",
      "const          3.7463      0.032    118.686      0.000       3.683       3.809\n",
      "Menu_Price    -0.0334      0.002    -13.893      0.000      -0.038      -0.029\n",
      "==============================================================================\n",
      "Omnibus:                        8.832   Durbin-Watson:                   0.633\n",
      "Prob(Omnibus):                  0.012   Jarque-Bera (JB):                8.764\n",
      "Skew:                          -0.637   Prob(JB):                       0.0125\n",
      "Kurtosis:                       3.923   Cond. No.                         71.4\n",
      "==============================================================================\n",
      "\n",
      "Notes:\n",
      "[1] Standard Errors assume that the covariance matrix of the errors is correctly specified.\n"
     ]
    }
   ],
   "execution_count": 4
  },
  {
   "metadata": {
    "ExecuteTime": {
     "end_time": "2024-08-03T14:37:50.635386Z",
     "start_time": "2024-08-03T14:37:50.626262Z"
    }
   },
   "cell_type": "code",
   "source": [
    "# Function to calculate price elasticity\n",
    "def calculate_price_elasticity(model, price_mean, quantity_mean):\n",
    "    slope = model.params['Menu_Price']\n",
    "    price_elasticity = slope * (price_mean / quantity_mean)\n",
    "    return price_elasticity\n",
    "\n",
    "# Calculate price elasticity for Individuale\n",
    "price_mean_individuale = individuale_data['Menu_Price'].mean()\n",
    "quantity_mean_individuale = individuale_data['Pizza_Count'].mean()\n",
    "elasticity_individuale = calculate_price_elasticity(model_individuale, price_mean_individuale, quantity_mean_individuale)\n",
    "\n",
    "# Calculate price elasticity for Communita\n",
    "price_mean_communita = communita_data['Menu_Price'].mean()\n",
    "quantity_mean_communita = communita_data['Pizza_Count'].mean()\n",
    "elasticity_communita = calculate_price_elasticity(model_communita, price_mean_communita, quantity_mean_communita)\n",
    "\n",
    "print(f'Price Elasticity for Individuale: {elasticity_individuale:.2f}')\n",
    "print(f'Price Elasticity for Communita: {elasticity_communita:.2f}')\n"
   ],
   "id": "9732a9a3424357c9",
   "outputs": [
    {
     "name": "stdout",
     "output_type": "stream",
     "text": [
      "Price Elasticity for Individuale: -0.29\n",
      "Price Elasticity for Communita: -0.13\n"
     ]
    }
   ],
   "execution_count": 5
  },
  {
   "metadata": {
    "ExecuteTime": {
     "end_time": "2024-08-03T14:37:50.644530Z",
     "start_time": "2024-08-03T14:37:50.636108Z"
    }
   },
   "cell_type": "code",
   "source": [
    "# Function to plot the relationship between price and sales\n",
    "def plot_price_vs_sales(data, price_column, sales_column, title):\n",
    "    sns.set()\n",
    "    plt.figure(figsize=(8, 6))\n",
    "    plt.scatter(data[price_column], data[sales_column], s=10, c='gray')\n",
    "    plt.xlabel('Price', fontsize=15)\n",
    "    plt.ylabel('Sales', fontsize=15)\n",
    "    plt.title(title, fontsize=20)\n",
    "    plt.show()"
   ],
   "id": "fcc7f28bc22213ea",
   "outputs": [],
   "execution_count": 6
  },
  {
   "metadata": {
    "ExecuteTime": {
     "end_time": "2024-08-03T14:37:50.775517Z",
     "start_time": "2024-08-03T14:37:50.645775Z"
    }
   },
   "cell_type": "code",
   "source": [
    "# Plot the relationship for Individuale\n",
    "plot_price_vs_sales(individuale_data, 'Menu_Price', 'Pizza_Count', 'Individuale: Price vs Sales')"
   ],
   "id": "b3a209aaa5782645",
   "outputs": [
    {
     "data": {
      "text/plain": [
       "<Figure size 800x600 with 1 Axes>"
      ],
      "image/png": "[encoded data removed]"
     },
     "metadata": {},
     "output_type": "display_data"
    }
   ],
   "execution_count": 7
  },
  {
   "metadata": {
    "ExecuteTime": {
     "end_time": "2024-08-03T14:37:50.884866Z",
     "start_time": "2024-08-03T14:37:50.776374Z"
    }
   },
   "cell_type": "code",
   "source": [
    "# Plot the relationship for Communita\n",
    "plot_price_vs_sales(communita_data, 'Menu_Price', 'Pizza_Count', 'Communita: Price vs Sales')"
   ],
   "id": "4a609a9b45bbfe0b",
   "outputs": [
    {
     "data": {
      "text/plain": [
       "<Figure size 800x600 with 1 Axes>"
      ],
      "image/png": "[encoded data removed]"
     },
     "metadata": {},
     "output_type": "display_data"
    }
   ],
   "execution_count": 8
  },
  {
   "metadata": {
    "jupyter": {
     "is_executing": true
    },
    "ExecuteTime": {
     "start_time": "2024-08-03T14:37:50.885578Z"
    }
   },
   "cell_type": "code",
   "source": [
    "# Function to plot the total gross profit curve using sympy\n",
    "# SymPy symbols\n",
    "price = sp.symbols('price')\n",
    "base_sales, elasticity, cost = sp.symbols('base_sales elasticity cost')"
   ],
   "id": "d6f3f25546c21050",
   "outputs": [],
   "execution_count": null
  },
  {
   "metadata": {},
   "cell_type": "code",
   "outputs": [],
   "execution_count": null,
   "source": [
    "# Define the total gross profit equation\n",
    "quantity = base_sales * (price / base_sales) ** elasticity\n",
    "total_gross_profit = quantity * (price - cost)"
   ],
   "id": "97c773a1ae49ae37"
  },
  {
   "metadata": {},
   "cell_type": "code",
   "outputs": [],
   "execution_count": null,
   "source": [
    "# Differentiate the total gross profit equation with respect to price\n",
    "d_total_gross_profit = sp.diff(total_gross_profit, price)"
   ],
   "id": "981fc76b0583d99e"
  },
  {
   "metadata": {},
   "cell_type": "code",
   "outputs": [],
   "execution_count": null,
   "source": [
    "# Function to find the optimal price using sympy\n",
    "def find_optimal_price(base_sales_value, elasticity_value, cost_value):\n",
    "    optimal_price_expr = sp.solve(d_total_gross_profit.subs({base_sales: base_sales_value, elasticity: elasticity_value, cost: cost_value}), price)\n",
    "    return float(optimal_price_expr[0])"
   ],
   "id": "b59e01483886c27f"
  },
  {
   "metadata": {},
   "cell_type": "code",
   "outputs": [],
   "execution_count": null,
   "source": [
    "# Calculate base sales and price for both products\n",
    "base_price_individuale = individuale_data['Menu_Price'].mean()\n",
    "base_sales_individuale = individuale_data['Pizza_Count'].mean()\n",
    "base_price_communita = communita_data['Menu_Price'].mean()\n",
    "base_sales_communita = communita_data['Pizza_Count'].mean()"
   ],
   "id": "c3383703080c2787"
  },
  {
   "metadata": {},
   "cell_type": "code",
   "outputs": [],
   "execution_count": null,
   "source": [
    "# Assuming costs for the products (you can adjust these values)\n",
    "cost_individuale = base_price_individuale * (1 - individuale_data['Profit_Percentage'].mean() / 100)\n",
    "cost_communita = base_price_communita * (1 - communita_data['Profit_Percentage'].mean() / 100)"
   ],
   "id": "697850f3e4268202"
  },
  {
   "metadata": {},
   "cell_type": "code",
   "outputs": [],
   "execution_count": null,
   "source": [
    "# Find the optimal price for both products using sympy\n",
    "optimal_price_individuale = find_optimal_price(base_sales_individuale, elasticity_individuale, cost_individuale)\n",
    "optimal_price_communita = find_optimal_price(base_sales_communita, elasticity_communita, cost_communita)"
   ],
   "id": "c68b798e8528614b"
  },
  {
   "metadata": {},
   "cell_type": "code",
   "outputs": [],
   "execution_count": null,
   "source": "print(f'Optimal Price for Individuale: {optimal_price_individuale:.2f}')",
   "id": "a7cb488fc7729dbd"
  },
  {
   "metadata": {},
   "cell_type": "code",
   "outputs": [],
   "execution_count": null,
   "source": "print(f'Optimal Price for Communita: {optimal_price_communita:.2f}')",
   "id": "eec4264821f1ffc2"
  },
  {
   "metadata": {
    "jupyter": {
     "is_executing": true
    }
   },
   "cell_type": "code",
   "source": [
    "# Function to plot the total gross profit curve\n",
    "def plot_gross_profit_curve(base_sales_value, elasticity_value, cost_value, base_price_value, product_name):\n",
    "    prices = np.linspace(0.5 * base_price_value, 1.5 * base_price_value, 100)\n",
    "    gross_profits = [total_gross_profit.subs({price: p, base_sales: base_sales_value, elasticity: elasticity_value, cost: cost_value}).evalf() for p in prices]\n",
    "    \n",
    "    plt.figure(figsize=(8, 6))\n",
    "    plt.plot(prices, gross_profits, label='Total Gross Profit Curve')\n",
    "    optimal_price = prices[np.argmax(gross_profits)]\n",
    "    plt.axvline(optimal_price, color='red', linestyle='--', label=f'Optimal Price: ${optimal_price:.2f}')\n",
    "    plt.title(f'Total Gross Profit Curve for {product_name}')\n",
    "    plt.xlabel('Price')\n",
    "    plt.ylabel('Total Gross Profit')\n",
    "    plt.legend()\n",
    "    plt.grid(True)\n",
    "    plt.show()"
   ],
   "id": "2d3bbc04a3eb7d0a",
   "outputs": [],
   "execution_count": null
  },
  {
   "metadata": {},
   "cell_type": "code",
   "outputs": [],
   "execution_count": null,
   "source": [
    "# Plot the total gross profit curve for both products\n",
    "plot_gross_profit_curve(base_sales_individuale, elasticity_individuale, cost_individuale, base_price_individuale, 'Individuale')\n",
    "plot_gross_profit_curve(base_sales_communita, elasticity_communita, cost_communita, base_price_communita, 'Communita')"
   ],
   "id": "9f1c1123a3d46c65"
  }
 ],
 "metadata": {
  "kernelspec": {
   "display_name": "Python 3",
   "language": "python",
   "name": "python3"
  },
  "language_info": {
   "codemirror_mode": {
    "name": "ipython",
    "version": 2
   },
   "file_extension": ".py",
   "mimetype": "text/x-python",
   "name": "python",
   "nbconvert_exporter": "python",
   "pygments_lexer": "ipython2",
   "version": "2.7.6"
  }
 },
 "nbformat": 4,
 "nbformat_minor": 5
}
