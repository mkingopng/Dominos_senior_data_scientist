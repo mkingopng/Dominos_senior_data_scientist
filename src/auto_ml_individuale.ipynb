{
 "cells": [
  {
   "metadata": {},
   "cell_type": "markdown",
   "source": [
    "# AutoML approach\n",
    "its interesting to cross check some of our findings from simple linear regression with more complex models. It can be challenging to iterate through the many possible models, but the advent of low code auto ML libraries like pycaret and H2O make it easier."
   ],
   "id": "6b28df129db47431"
  },
  {
   "cell_type": "code",
   "id": "initial_id",
   "metadata": {
    "collapsed": true,
    "ExecuteTime": {
     "end_time": "2024-08-05T11:21:30.448829Z",
     "start_time": "2024-08-05T11:21:29.962204Z"
    }
   },
   "source": [
    "import h2o\n",
    "from h2o.automl import H2OAutoML\n",
    "import pandas as pd\n",
    "import matplotlib.pyplot as plt\n",
    "import numpy as np"
   ],
   "outputs": [],
   "execution_count": 1
  },
  {
   "metadata": {},
   "cell_type": "markdown",
   "source": "# Step 2: Initialize H2O",
   "id": "6f6ba6cc90becca2"
  },
  {
   "metadata": {
    "ExecuteTime": {
     "end_time": "2024-08-05T11:21:34.076491Z",
     "start_time": "2024-08-05T11:21:30.449962Z"
    }
   },
   "cell_type": "code",
   "source": "h2o.init()",
   "id": "c2bf853a4121776",
   "outputs": [
    {
     "name": "stdout",
     "output_type": "stream",
     "text": [
      "Checking whether there is an H2O instance running at http://localhost:54321..... not found.\n",
      "Attempting to start a local H2O server...\n",
      "  Java Version: openjdk version \"1.8.0_422\"; OpenJDK Runtime Environment (build 1.8.0_422-8u422-b05-1~22.04-b05); OpenJDK 64-Bit Server VM (build 25.422-b05, mixed mode)\n",
      "  Starting server from /home/noone/.cache/pypoetry/virtualenvs/dominos-senior-data-scientist-mPMyyBsO-py3.11/lib/python3.11/site-packages/h2o/backend/bin/h2o.jar\n",
      "  Ice root: /tmp/tmpuucblhts\n",
      "  JVM stdout: /tmp/tmpuucblhts/h2o_noone_started_from_python.out\n",
      "  JVM stderr: /tmp/tmpuucblhts/h2o_noone_started_from_python.err\n",
      "  Server is running at http://127.0.0.1:54321\n",
      "Connecting to H2O server at http://127.0.0.1:54321 ... successful.\n"
     ]
    },
    {
     "data": {
      "text/plain": [
       "--------------------------  -----------------------------\n",
       "H2O_cluster_uptime:         01 secs\n",
       "H2O_cluster_timezone:       Australia/Brisbane\n",
       "H2O_data_parsing_timezone:  UTC\n",
       "H2O_cluster_version:        3.46.0.4\n",
       "H2O_cluster_version_age:    27 days\n",
       "H2O_cluster_name:           H2O_from_python_noone_0lu63o\n",
       "H2O_cluster_total_nodes:    1\n",
       "H2O_cluster_free_memory:    26.64 Gb\n",
       "H2O_cluster_total_cores:    32\n",
       "H2O_cluster_allowed_cores:  32\n",
       "H2O_cluster_status:         locked, healthy\n",
       "H2O_connection_url:         http://127.0.0.1:54321\n",
       "H2O_connection_proxy:       {\"http\": null, \"https\": null}\n",
       "H2O_internal_security:      False\n",
       "Python_version:             3.11.9 final\n",
       "--------------------------  -----------------------------"
      ],
      "text/html": [
       "\n",
       "<style>\n",
       "\n",
       "#h2o-table-1.h2o-container {\n",
       "  overflow-x: auto;\n",
       "}\n",
       "#h2o-table-1 .h2o-table {\n",
       "  /* width: 100%; */\n",
       "  margin-top: 1em;\n",
       "  margin-bottom: 1em;\n",
       "}\n",
       "#h2o-table-1 .h2o-table caption {\n",
       "  white-space: nowrap;\n",
       "  caption-side: top;\n",
       "  text-align: left;\n",
       "  /* margin-left: 1em; */\n",
       "  margin: 0;\n",
       "  font-size: larger;\n",
       "}\n",
       "#h2o-table-1 .h2o-table thead {\n",
       "  white-space: nowrap; \n",
       "  position: sticky;\n",
       "  top: 0;\n",
       "  box-shadow: 0 -1px inset;\n",
       "}\n",
       "#h2o-table-1 .h2o-table tbody {\n",
       "  overflow: auto;\n",
       "}\n",
       "#h2o-table-1 .h2o-table th,\n",
       "#h2o-table-1 .h2o-table td {\n",
       "  text-align: right;\n",
       "  /* border: 1px solid; */\n",
       "}\n",
       "#h2o-table-1 .h2o-table tr:nth-child(even) {\n",
       "  /* background: #F5F5F5 */\n",
       "}\n",
       "\n",
       "</style>      \n",
       "<div id=\"h2o-table-1\" class=\"h2o-container\">\n",
       "  <table class=\"h2o-table\">\n",
       "    <caption></caption>\n",
       "    <thead></thead>\n",
       "    <tbody><tr><td>H2O_cluster_uptime:</td>\n",
       "<td>01 secs</td></tr>\n",
       "<tr><td>H2O_cluster_timezone:</td>\n",
       "<td>Australia/Brisbane</td></tr>\n",
       "<tr><td>H2O_data_parsing_timezone:</td>\n",
       "<td>UTC</td></tr>\n",
       "<tr><td>H2O_cluster_version:</td>\n",
       "<td>3.46.0.4</td></tr>\n",
       "<tr><td>H2O_cluster_version_age:</td>\n",
       "<td>27 days</td></tr>\n",
       "<tr><td>H2O_cluster_name:</td>\n",
       "<td>H2O_from_python_noone_0lu63o</td></tr>\n",
       "<tr><td>H2O_cluster_total_nodes:</td>\n",
       "<td>1</td></tr>\n",
       "<tr><td>H2O_cluster_free_memory:</td>\n",
       "<td>26.64 Gb</td></tr>\n",
       "<tr><td>H2O_cluster_total_cores:</td>\n",
       "<td>32</td></tr>\n",
       "<tr><td>H2O_cluster_allowed_cores:</td>\n",
       "<td>32</td></tr>\n",
       "<tr><td>H2O_cluster_status:</td>\n",
       "<td>locked, healthy</td></tr>\n",
       "<tr><td>H2O_connection_url:</td>\n",
       "<td>http://127.0.0.1:54321</td></tr>\n",
       "<tr><td>H2O_connection_proxy:</td>\n",
       "<td>{\"http\": null, \"https\": null}</td></tr>\n",
       "<tr><td>H2O_internal_security:</td>\n",
       "<td>False</td></tr>\n",
       "<tr><td>Python_version:</td>\n",
       "<td>3.11.9 final</td></tr></tbody>\n",
       "  </table>\n",
       "</div>\n"
      ]
     },
     "metadata": {},
     "output_type": "display_data"
    }
   ],
   "execution_count": 2
  },
  {
   "metadata": {},
   "cell_type": "markdown",
   "source": "# Step 3: Load Data",
   "id": "6bae6628e48c5d75"
  },
  {
   "metadata": {
    "ExecuteTime": {
     "end_time": "2024-08-05T11:21:34.084052Z",
     "start_time": "2024-08-05T11:21:34.077642Z"
    }
   },
   "cell_type": "code",
   "source": [
    "data_path = './../data/price_elasticity_data.csv'\n",
    "df = pd.read_csv(data_path)"
   ],
   "id": "388880fd238f5b84",
   "outputs": [],
   "execution_count": 3
  },
  {
   "metadata": {},
   "cell_type": "markdown",
   "source": "# Step 4: Preprocess Data",
   "id": "5c483f9fa40b1ded"
  },
  {
   "metadata": {
    "ExecuteTime": {
     "end_time": "2024-08-05T11:21:34.093709Z",
     "start_time": "2024-08-05T11:21:34.085095Z"
    }
   },
   "cell_type": "code",
   "source": [
    "# rename columns for convenience\n",
    "df.rename(columns={'Menu_Price': 'unit_price', 'Pizza_Count': 'quantity', 'Profit_Percentage': 'profit_percentage'}, inplace=True)\n",
    "df['gross_margin'] = df['profit_percentage'] / 100\n",
    "df['gross_profit'] = df['unit_price'] * (1 - df['gross_margin'])\n",
    "df['cost'] = df['unit_price'] - df['gross_profit']\n",
    "\n",
    "# subset the dataframe for 'Individuale' product and create a copy\n",
    "individuale_df = df[df['Product'] == 'Individuale'].copy()"
   ],
   "id": "76b9a2a321327ca6",
   "outputs": [],
   "execution_count": 4
  },
  {
   "metadata": {},
   "cell_type": "markdown",
   "source": "# Remove outliers",
   "id": "8ca5bee8da470798"
  },
  {
   "metadata": {
    "ExecuteTime": {
     "end_time": "2024-08-05T11:21:34.098667Z",
     "start_time": "2024-08-05T11:21:34.095700Z"
    }
   },
   "cell_type": "code",
   "source": [
    "# todo: remove outliers using IQR\n",
    "\n",
    "def identify_outliers(df, column):\n",
    "\t\"\"\"\n",
    "     Identify outliers in a specified column of a DataFrame using the \n",
    "     Interquartile Range (IQR) method.\n",
    "     \n",
    "     The function calculates the first quartile (Q1) and the third quartile \n",
    "     (Q3) of the specified column. The interquartile range (IQR) is then \n",
    "     computed as the difference between Q3 and Q1.\n",
    "    \n",
    "     Outliers are defined as data points that fall below Q1 - 1.5 * IQR or \n",
    "     above Q3 + 1.5 * IQR. The function returns the rows containing these  \n",
    "     outliers along with the calculated lower and upper bounds.\n",
    "\n",
    "    :param df: \n",
    "    :param column: \n",
    "    :return: tuple: A tuple containing:\n",
    "        - pandas.DataFrame: A DataFrame containing the rows identified as outliers.\n",
    "        - float: The lower bound for identifying outliers.\n",
    "        - float: The upper bound for identifying outliers.\n",
    "    \"\"\"\n",
    "\tQ1 = df[column].quantile(0.25)\n",
    "\tQ3 = df[column].quantile(0.75)\n",
    "\tIQR = Q3 - Q1\n",
    "\tlower_bound = Q1 - 1.5 * IQR\n",
    "\tupper_bound = Q3 + 1.5 * IQR\n",
    "\treturn df[(df[column] < lower_bound) | (df[column] > upper_bound)], lower_bound, upper_bound\n"
   ],
   "id": "d5db61c5ed94f36b",
   "outputs": [],
   "execution_count": 5
  },
  {
   "metadata": {},
   "cell_type": "code",
   "outputs": [],
   "execution_count": null,
   "source": [
    "individuale_outliers, indiv_lower, indiv_upper = identify_outliers(df[df['Product'] == 'Individuale'], 'unit_price')\n",
    "\n",
    "individuale_df = individuale_df.drop(individuale_outliers[individuale_outliers['unit_price'] > indiv_upper].index)\n",
    "\n",
    "individuale_df = individuale_df.drop(individuale_outliers[individuale_outliers['unit_price'] < indiv_lower].index)"
   ],
   "id": "1df7b15677d6f43b"
  },
  {
   "metadata": {},
   "cell_type": "markdown",
   "source": [
    "# Feature Engineering\n",
    "\n",
    "### create interaction features"
   ],
   "id": "c6477d1cbe7750de"
  },
  {
   "metadata": {
    "ExecuteTime": {
     "end_time": "2024-08-05T11:21:34.103616Z",
     "start_time": "2024-08-05T11:21:34.099677Z"
    }
   },
   "cell_type": "code",
   "source": [
    "individuale_df['unit_price_squared'] = individuale_df['unit_price'] ** 2\n",
    "individuale_df['unit_price_cost_interaction'] = individuale_df['unit_price'] * individuale_df['cost']"
   ],
   "id": "8c6f30aacb5c6838",
   "outputs": [],
   "execution_count": 6
  },
  {
   "metadata": {},
   "cell_type": "markdown",
   "source": "### normalize features",
   "id": "3c5a31b8c11e58b1"
  },
  {
   "metadata": {
    "ExecuteTime": {
     "end_time": "2024-08-05T11:21:34.109510Z",
     "start_time": "2024-08-05T11:21:34.104754Z"
    }
   },
   "cell_type": "code",
   "source": [
    "individuale_df['unit_price_scaled'] = (individuale_df['unit_price'] - individuale_df['unit_price'].mean()) / individuale_df['unit_price'].std()\n",
    "individuale_df['cost_scaled'] = (individuale_df['cost'] - individuale_df['cost'].mean()) / individuale_df['cost'].std()"
   ],
   "id": "d8e57dd7dd659f8",
   "outputs": [],
   "execution_count": 7
  },
  {
   "metadata": {
    "ExecuteTime": {
     "end_time": "2024-08-05T11:21:34.649077Z",
     "start_time": "2024-08-05T11:21:34.110614Z"
    }
   },
   "cell_type": "code",
   "source": [
    "# convert to H2O frame\n",
    "h2o_df = h2o.H2OFrame(individuale_df)"
   ],
   "id": "6450c37811a843dd",
   "outputs": [
    {
     "name": "stdout",
     "output_type": "stream",
     "text": [
      "Parse progress: |████████████████████████████████████████████████████████████████| (done) 100%\n"
     ]
    }
   ],
   "execution_count": 8
  },
  {
   "metadata": {
    "ExecuteTime": {
     "end_time": "2024-08-05T11:21:34.653118Z",
     "start_time": "2024-08-05T11:21:34.650155Z"
    }
   },
   "cell_type": "code",
   "source": [
    "# add scaled features to H2O frame\n",
    "h2o_df['unit_price_scaled'] = h2o_df['unit_price_scaled']\n",
    "h2o_df['cost_scaled'] = h2o_df['cost_scaled']"
   ],
   "id": "c2dea1c4d774a902",
   "outputs": [],
   "execution_count": 9
  },
  {
   "metadata": {},
   "cell_type": "markdown",
   "source": "# step 5: Run H2O AutoML",
   "id": "72f25e73013ff8b5"
  },
  {
   "metadata": {
    "ExecuteTime": {
     "end_time": "2024-08-05T11:41:38.686026Z",
     "start_time": "2024-08-05T11:21:34.654419Z"
    }
   },
   "cell_type": "code",
   "source": [
    "%%time\n",
    "x = ['unit_price', 'cost', 'gross_margin', 'unit_price_squared', 'unit_price_cost_interaction', 'unit_price_scaled', 'cost_scaled']\n",
    "y = 'quantity'\n",
    "\n",
    "aml = H2OAutoML(\n",
    "    max_runtime_secs=1200, \n",
    "    seed=42, \n",
    "    project_name=\"price_elasticity\", \n",
    "    nfolds=0  # our dataset is too small for cross validation\n",
    ")\n",
    "\n",
    "aml.train(\n",
    "    x=x, \n",
    "    y=y, \n",
    "    training_frame=h2o_df\n",
    ")\n",
    "\n",
    "# view the leaderboard\n",
    "lb = aml.leaderboard\n",
    "print(lb)"
   ],
   "id": "a584588d4deab2c",
   "outputs": [
    {
     "name": "stdout",
     "output_type": "stream",
     "text": [
      "AutoML progress: |\n",
      "21:21:35.475: _min_rows param, The dataset size is too small to split for min_rows=100.0: must have at least 200.0 (weighted) rows, but have only 60.0.\n",
      "\n",
      "███████████████████████████████████████████████████████████████| (done) 100%\n",
      "model_id                                                 rmse         mse        mae       rmsle    mean_residual_deviance\n",
      "GBM_grid_1_AutoML_1_20240805_212134_model_446       0.034698   0.00120395  0.0267336  0.00595661                0.00120395\n",
      "XGBoost_grid_1_AutoML_1_20240805_212134_model_1779  0.0351298  0.0012341   0.0258064  0.00599728                0.0012341\n",
      "XGBoost_grid_1_AutoML_1_20240805_212134_model_3275  0.0351566  0.00123598  0.0234536  0.00601135                0.00123598\n",
      "GBM_grid_1_AutoML_1_20240805_212134_model_327       0.0363668  0.00132254  0.0304005  0.00620006                0.00132254\n",
      "GBM_grid_1_AutoML_1_20240805_212134_model_5         0.0364624  0.0013295   0.0300174  0.0062186                 0.0013295\n",
      "GBM_grid_1_AutoML_1_20240805_212134_model_53        0.0365361  0.00133489  0.0297749  0.00620919                0.00133489\n",
      "GBM_grid_1_AutoML_1_20240805_212134_model_286       0.0366187  0.00134093  0.0294704  0.00624723                0.00134093\n",
      "GBM_grid_1_AutoML_1_20240805_212134_model_810       0.0366218  0.00134116  0.0302925  0.00621756                0.00134116\n",
      "GBM_grid_1_AutoML_1_20240805_212134_model_364       0.0367518  0.0013507   0.0281201  0.00631327                0.0013507\n",
      "GBM_grid_1_AutoML_1_20240805_212134_model_183       0.036887   0.00136065  0.0285648  0.00627919                0.00136065\n",
      "[5130 rows x 6 columns]\n",
      "\n",
      "CPU times: user 20.3 s, sys: 980 ms, total: 21.3 s\n",
      "Wall time: 20min 4s\n"
     ]
    }
   ],
   "execution_count": 10
  },
  {
   "metadata": {},
   "cell_type": "markdown",
   "source": "# Step 6: Calculate Predictions",
   "id": "a4bcabdbc09209f8"
  },
  {
   "metadata": {
    "ExecuteTime": {
     "end_time": "2024-08-05T11:41:38.714254Z",
     "start_time": "2024-08-05T11:41:38.687002Z"
    }
   },
   "cell_type": "code",
   "source": [
    "best_model = aml.leader\n",
    "preds = best_model.predict(h2o_df)\n",
    "individuale_df['predicted_quantity'] = h2o.as_list(preds)['predict']  # add preds to df"
   ],
   "id": "626b2100fa631073",
   "outputs": [
    {
     "name": "stdout",
     "output_type": "stream",
     "text": [
      "gbm prediction progress: |███████████████████████████████████████████████████████| (done) 100%\n"
     ]
    },
    {
     "name": "stderr",
     "output_type": "stream",
     "text": [
      "/home/noone/.cache/pypoetry/virtualenvs/dominos-senior-data-scientist-mPMyyBsO-py3.11/lib/python3.11/site-packages/h2o/frame.py:1981: H2ODependencyWarning: Converting H2O frame to pandas dataframe using single-thread.  For faster conversion using multi-thread, install polars and pyarrow and use it as pandas_df = h2o_df.as_data_frame(use_multi_thread=True)\n",
      "\n",
      "  warnings.warn(\"Converting H2O frame to pandas dataframe using single-thread.  For faster conversion using\"\n"
     ]
    }
   ],
   "execution_count": 11
  },
  {
   "metadata": {},
   "cell_type": "markdown",
   "source": "# Step 7: Find Optimal Price to Maximize Gross Profit",
   "id": "d7fedea3aa0bb22f"
  },
  {
   "metadata": {
    "ExecuteTime": {
     "end_time": "2024-08-05T11:41:38.717528Z",
     "start_time": "2024-08-05T11:41:38.714859Z"
    }
   },
   "cell_type": "code",
   "source": [
    "individuale_df['gross_profit_predictions'] = (individuale_df['unit_price'] - individuale_df['cost']) * individuale_df['predicted_quantity']\n",
    "\n",
    "# find price that maximises GP\n",
    "optimal_price = individuale_df.loc[individuale_df['gross_profit_predictions'].idxmax(), 'unit_price']\n",
    "max_gross_profit = individuale_df['gross_profit_predictions'].max()\n",
    "optimal_quantity = individuale_df.loc[individuale_df['gross_profit_predictions'].idxmax(), 'predicted_quantity']"
   ],
   "id": "58c7202a126b1663",
   "outputs": [],
   "execution_count": 12
  },
  {
   "metadata": {
    "ExecuteTime": {
     "end_time": "2024-08-05T11:41:38.734147Z",
     "start_time": "2024-08-05T11:41:38.718056Z"
    }
   },
   "cell_type": "code",
   "source": [
    "print(f'Optimal Price: {optimal_price}')\n",
    "print(f'Maximum Gross Profit: {max_gross_profit}')\n",
    "print(f'Optimal Quantity: {optimal_quantity}')"
   ],
   "id": "7a1f13f1eef52431",
   "outputs": [
    {
     "name": "stdout",
     "output_type": "stream",
     "text": [
      "Optimal Price: 18.61\n",
      "Maximum Gross Profit: 38.823097055900256\n",
      "Optimal Quantity: 4.729183860931184\n"
     ]
    }
   ],
   "execution_count": 13
  },
  {
   "metadata": {},
   "cell_type": "markdown",
   "source": "# Plot the relationship between unit price and quantity",
   "id": "47475643af3ed856"
  },
  {
   "metadata": {
    "ExecuteTime": {
     "end_time": "2024-08-05T11:41:38.844625Z",
     "start_time": "2024-08-05T11:41:38.735599Z"
    }
   },
   "cell_type": "code",
   "source": [
    "plt.figure(figsize=(10, 6))\n",
    "plt.scatter(\n",
    "    individuale_df['unit_price'], \n",
    "    individuale_df['quantity'], \n",
    "    alpha=0.5, \n",
    "    label='Actual Quantity'\n",
    ")\n",
    "plt.scatter(\n",
    "    individuale_df['unit_price'], \n",
    "    individuale_df['predicted_quantity'], \n",
    "    color='red', \n",
    "    alpha=0.5, \n",
    "    label='Predicted Quantity'\n",
    ")\n",
    "plt.plot(\n",
    "    individuale_df['unit_price'], \n",
    "    individuale_df['predicted_quantity'], \n",
    "    color='blue', \n",
    "    linewidth=2, \n",
    "    label='Regression Line'\n",
    ")\n",
    "plt.title('Unit Price vs Quantity')\n",
    "plt.xlabel('Unit Price')\n",
    "plt.ylabel('Quantity')\n",
    "plt.legend()\n",
    "plt.grid(True)\n",
    "plt.show()"
   ],
   "id": "79455297867cc89a",
   "outputs": [
    {
     "data": {
      "text/plain": [
       "<Figure size 1000x600 with 1 Axes>"
      ],
      "image/png": "[encoded data removed]"
     },
     "metadata": {},
     "output_type": "display_data"
    }
   ],
   "execution_count": 14
  },
  {
   "metadata": {},
   "cell_type": "markdown",
   "source": "# Plot the gross profit curve",
   "id": "546fd61bf61cae57"
  },
  {
   "metadata": {
    "ExecuteTime": {
     "end_time": "2024-08-05T11:41:38.932423Z",
     "start_time": "2024-08-05T11:41:38.845183Z"
    }
   },
   "cell_type": "code",
   "source": [
    "plt.figure(figsize=(10, 6))\n",
    "plt.plot(\n",
    "    individuale_df['unit_price'], \n",
    "    individuale_df['gross_profit_predictions'], \n",
    "    label='Gross Profit Curve'\n",
    ")\n",
    "plt.scatter(\n",
    "    optimal_price, \n",
    "    max_gross_profit, \n",
    "    color='red', \n",
    "    label=f'Optimal Price: {optimal_price:.2f}'\n",
    ")\n",
    "plt.title('Gross Profit Curve')\n",
    "plt.xlabel('Unit Price')\n",
    "plt.ylabel('Gross Profit')\n",
    "plt.legend()\n",
    "plt.grid(True)\n",
    "plt.show()"
   ],
   "id": "8eb1eb6c90b6982",
   "outputs": [
    {
     "data": {
      "text/plain": [
       "<Figure size 1000x600 with 1 Axes>"
      ],
      "image/png": "[encoded data removed]"
     },
     "metadata": {},
     "output_type": "display_data"
    }
   ],
   "execution_count": 15
  },
  {
   "metadata": {},
   "cell_type": "markdown",
   "source": "# Step 8: Extend Sample Space",
   "id": "c821f91d974cec11"
  },
  {
   "metadata": {
    "ExecuteTime": {
     "end_time": "2024-08-05T11:41:39.430018Z",
     "start_time": "2024-08-05T11:41:38.932992Z"
    }
   },
   "cell_type": "code",
   "source": [
    "# Extend the range of unit prices\n",
    "new_unit_prices = np.linspace(individuale_df['unit_price'].min(), 2 * individuale_df['unit_price'].max(), 100)\n",
    "\n",
    "# Create a new DataFrame for the extended prices\n",
    "extended_df = pd.DataFrame({\n",
    "    'unit_price': new_unit_prices,\n",
    "    'cost': individuale_df['cost'].mean(),\n",
    "    'gross_margin': individuale_df['gross_margin'].mean()\n",
    "})\n",
    "\n",
    "# Add interaction features\n",
    "extended_df['unit_price_squared'] = extended_df['unit_price'] ** 2\n",
    "extended_df['unit_price_cost_interaction'] = extended_df['unit_price'] * extended_df['cost']\n",
    "\n",
    "# Add scaled features\n",
    "extended_df['unit_price_scaled'] = (extended_df['unit_price'] - individuale_df['unit_price'].mean()) / individuale_df['unit_price'].std()\n",
    "extended_df['cost_scaled'] = (extended_df['cost'] - individuale_df['cost'].mean()) / individuale_df['cost'].std()\n",
    "\n",
    "# Convert the extended DataFrame to an H2O frame\n",
    "extended_h2o_df = h2o.H2OFrame(extended_df)\n",
    "\n",
    "# Predict with the best model\n",
    "new_preds = best_model.predict(extended_h2o_df)\n",
    "\n",
    "# Convert predictions to pandas dataframe\n",
    "new_predicted_quantities = h2o.as_list(new_preds)['predict']\n",
    "\n",
    "# Calculate new gross profit predictions\n",
    "new_gross_profits = (new_unit_prices - individuale_df['cost'].mean()) * new_predicted_quantities\n",
    "\n",
    "# Find the optimal price in the extended range\n",
    "optimal_price_extended = new_unit_prices[np.argmax(new_gross_profits)]\n",
    "max_gross_profit_extended = max(new_gross_profits)\n",
    "optimal_quantity_extended = new_predicted_quantities[np.argmax(new_gross_profits)]\n",
    "\n",
    "print(f'Extended Optimal Price: {optimal_price_extended}')\n",
    "print(f'Extended Maximum Gross Profit: {max_gross_profit_extended}')\n",
    "print(f'Extended Optimal Quantity: {optimal_quantity_extended}')"
   ],
   "id": "35c3d81c2f633985",
   "outputs": [
    {
     "name": "stdout",
     "output_type": "stream",
     "text": [
      "Parse progress: |████████████████████████████████████████████████████████████████| (done) 100%\n"
     ]
    },
    {
     "ename": "H2OServerError",
     "evalue": "HTTP 500 Server Error:\nServer error java.lang.RuntimeException:\n  Error: java.lang.AssertionError: Wrong number of parameters\n  Request: None\n  Stacktrace: java.lang.RuntimeException: java.lang.AssertionError: Wrong number of parameters\n      water.util.Log.throwErr(Log.java:113)\n      water.api.RapidsHandler.exec(RapidsHandler.java:38)\n      sun.reflect.NativeMethodAccessorImpl.invoke0(Native Method)\n      sun.reflect.NativeMethodAccessorImpl.invoke(NativeMethodAccessorImpl.java:62)\n      sun.reflect.DelegatingMethodAccessorImpl.invoke(DelegatingMethodAccessorImpl.java:43)\n      java.lang.reflect.Method.invoke(Method.java:498)\n      water.api.Handler.handle(Handler.java:60)\n      water.api.RequestServer.serve(RequestServer.java:472)\n      water.api.RequestServer.doGeneric(RequestServer.java:303)\n",
     "output_type": "error",
     "traceback": [
      "\u001B[0;31m---------------------------------------------------------------------------\u001B[0m",
      "\u001B[0;31mH2OServerError\u001B[0m                            Traceback (most recent call last)",
      "Cell \u001B[0;32mIn[16], line 16\u001B[0m\n\u001B[1;32m     13\u001B[0m new_h2o_df[\u001B[38;5;124m'\u001B[39m\u001B[38;5;124mcost_scaled\u001B[39m\u001B[38;5;124m'\u001B[39m] \u001B[38;5;241m=\u001B[39m (individuale_df[\u001B[38;5;124m'\u001B[39m\u001B[38;5;124mcost\u001B[39m\u001B[38;5;124m'\u001B[39m]\u001B[38;5;241m.\u001B[39mmean() \u001B[38;5;241m-\u001B[39m individuale_df[\u001B[38;5;124m'\u001B[39m\u001B[38;5;124mcost\u001B[39m\u001B[38;5;124m'\u001B[39m]\u001B[38;5;241m.\u001B[39mmean()) \u001B[38;5;241m/\u001B[39m individuale_df[\u001B[38;5;124m'\u001B[39m\u001B[38;5;124mcost\u001B[39m\u001B[38;5;124m'\u001B[39m]\u001B[38;5;241m.\u001B[39mstd()\n\u001B[1;32m     15\u001B[0m \u001B[38;5;66;03m# Predict with the best model\u001B[39;00m\n\u001B[0;32m---> 16\u001B[0m new_preds \u001B[38;5;241m=\u001B[39m \u001B[43mbest_model\u001B[49m\u001B[38;5;241;43m.\u001B[39;49m\u001B[43mpredict\u001B[49m\u001B[43m(\u001B[49m\u001B[43mnew_h2o_df\u001B[49m\u001B[43m)\u001B[49m\n\u001B[1;32m     18\u001B[0m \u001B[38;5;66;03m# Convert predictions to pandas dataframe\u001B[39;00m\n\u001B[1;32m     19\u001B[0m new_predicted_quantities \u001B[38;5;241m=\u001B[39m h2o\u001B[38;5;241m.\u001B[39mas_list(new_preds)[\u001B[38;5;124m'\u001B[39m\u001B[38;5;124mpredict\u001B[39m\u001B[38;5;124m'\u001B[39m]\n",
      "File \u001B[0;32m~/.cache/pypoetry/virtualenvs/dominos-senior-data-scientist-mPMyyBsO-py3.11/lib/python3.11/site-packages/h2o/model/model_base.py:332\u001B[0m, in \u001B[0;36mModelBase.predict\u001B[0;34m(self, test_data, custom_metric, custom_metric_func)\u001B[0m\n\u001B[1;32m    330\u001B[0m     eval_func_ref \u001B[38;5;241m=\u001B[39m h2o\u001B[38;5;241m.\u001B[39mupload_custom_metric(custom_metric)\n\u001B[1;32m    331\u001B[0m \u001B[38;5;28;01mif\u001B[39;00m \u001B[38;5;129;01mnot\u001B[39;00m \u001B[38;5;28misinstance\u001B[39m(test_data, h2o\u001B[38;5;241m.\u001B[39mH2OFrame): \u001B[38;5;28;01mraise\u001B[39;00m \u001B[38;5;167;01mValueError\u001B[39;00m(\u001B[38;5;124m\"\u001B[39m\u001B[38;5;124mtest_data must be an instance of H2OFrame\u001B[39m\u001B[38;5;124m\"\u001B[39m)\n\u001B[0;32m--> 332\u001B[0m j \u001B[38;5;241m=\u001B[39m H2OJob(h2o\u001B[38;5;241m.\u001B[39mapi(\u001B[38;5;124m\"\u001B[39m\u001B[38;5;124mPOST /4/Predictions/models/\u001B[39m\u001B[38;5;132;01m%s\u001B[39;00m\u001B[38;5;124m/frames/\u001B[39m\u001B[38;5;132;01m%s\u001B[39;00m\u001B[38;5;124m\"\u001B[39m \u001B[38;5;241m%\u001B[39m (\u001B[38;5;28mself\u001B[39m\u001B[38;5;241m.\u001B[39mmodel_id, \u001B[43mtest_data\u001B[49m\u001B[38;5;241;43m.\u001B[39;49m\u001B[43mframe_id\u001B[49m), data \u001B[38;5;241m=\u001B[39m {\u001B[38;5;124m'\u001B[39m\u001B[38;5;124mcustom_metric_func\u001B[39m\u001B[38;5;124m'\u001B[39m: custom_metric_func}),\n\u001B[1;32m    333\u001B[0m            \u001B[38;5;28mself\u001B[39m\u001B[38;5;241m.\u001B[39m_model_json[\u001B[38;5;124m\"\u001B[39m\u001B[38;5;124malgo\u001B[39m\u001B[38;5;124m\"\u001B[39m] \u001B[38;5;241m+\u001B[39m \u001B[38;5;124m\"\u001B[39m\u001B[38;5;124m prediction\u001B[39m\u001B[38;5;124m\"\u001B[39m)\n\u001B[1;32m    334\u001B[0m j\u001B[38;5;241m.\u001B[39mpoll()\n\u001B[1;32m    335\u001B[0m \u001B[38;5;28;01mreturn\u001B[39;00m h2o\u001B[38;5;241m.\u001B[39mget_frame(j\u001B[38;5;241m.\u001B[39mdest_key)\n",
      "File \u001B[0;32m~/.cache/pypoetry/virtualenvs/dominos-senior-data-scientist-mPMyyBsO-py3.11/lib/python3.11/site-packages/h2o/frame.py:414\u001B[0m, in \u001B[0;36mH2OFrame.frame_id\u001B[0;34m(self)\u001B[0m\n\u001B[1;32m    402\u001B[0m \u001B[38;5;129m@property\u001B[39m\n\u001B[1;32m    403\u001B[0m \u001B[38;5;28;01mdef\u001B[39;00m \u001B[38;5;21mframe_id\u001B[39m(\u001B[38;5;28mself\u001B[39m):\n\u001B[1;32m    404\u001B[0m \u001B[38;5;250m    \u001B[39m\u001B[38;5;124;03m\"\"\"\u001B[39;00m\n\u001B[1;32m    405\u001B[0m \u001B[38;5;124;03m    Internal id of the frame (str).\u001B[39;00m\n\u001B[1;32m    406\u001B[0m \n\u001B[0;32m   (...)\u001B[0m\n\u001B[1;32m    412\u001B[0m \u001B[38;5;124;03m    >>> print(iris.frame_id)\u001B[39;00m\n\u001B[1;32m    413\u001B[0m \u001B[38;5;124;03m    \"\"\"\u001B[39;00m\n\u001B[0;32m--> 414\u001B[0m     \u001B[38;5;28;01mreturn\u001B[39;00m \u001B[38;5;28;43mself\u001B[39;49m\u001B[38;5;241;43m.\u001B[39;49m\u001B[43m_frame\u001B[49m\u001B[43m(\u001B[49m\u001B[43m)\u001B[49m\u001B[38;5;241m.\u001B[39m_ex\u001B[38;5;241m.\u001B[39m_cache\u001B[38;5;241m.\u001B[39m_id\n",
      "File \u001B[0;32m~/.cache/pypoetry/virtualenvs/dominos-senior-data-scientist-mPMyyBsO-py3.11/lib/python3.11/site-packages/h2o/frame.py:582\u001B[0m, in \u001B[0;36mH2OFrame._frame\u001B[0;34m(self, rows, rows_offset, cols, cols_offset, fill_cache)\u001B[0m\n\u001B[1;32m    581\u001B[0m \u001B[38;5;28;01mdef\u001B[39;00m \u001B[38;5;21m_frame\u001B[39m(\u001B[38;5;28mself\u001B[39m, rows\u001B[38;5;241m=\u001B[39m\u001B[38;5;241m10\u001B[39m, rows_offset\u001B[38;5;241m=\u001B[39m\u001B[38;5;241m0\u001B[39m, cols\u001B[38;5;241m=\u001B[39m\u001B[38;5;241m-\u001B[39m\u001B[38;5;241m1\u001B[39m, cols_offset\u001B[38;5;241m=\u001B[39m\u001B[38;5;241m0\u001B[39m, fill_cache\u001B[38;5;241m=\u001B[39m\u001B[38;5;28;01mFalse\u001B[39;00m):\n\u001B[0;32m--> 582\u001B[0m     \u001B[38;5;28;43mself\u001B[39;49m\u001B[38;5;241;43m.\u001B[39;49m\u001B[43m_ex\u001B[49m\u001B[38;5;241;43m.\u001B[39;49m\u001B[43m_eager_frame\u001B[49m\u001B[43m(\u001B[49m\u001B[43m)\u001B[49m\n\u001B[1;32m    583\u001B[0m     \u001B[38;5;28;01mif\u001B[39;00m fill_cache:\n\u001B[1;32m    584\u001B[0m         \u001B[38;5;28mself\u001B[39m\u001B[38;5;241m.\u001B[39m_ex\u001B[38;5;241m.\u001B[39m_cache\u001B[38;5;241m.\u001B[39mfill(rows\u001B[38;5;241m=\u001B[39mrows, rows_offset\u001B[38;5;241m=\u001B[39mrows_offset, cols\u001B[38;5;241m=\u001B[39mcols, cols_offset\u001B[38;5;241m=\u001B[39mcols_offset)\n",
      "File \u001B[0;32m~/.cache/pypoetry/virtualenvs/dominos-senior-data-scientist-mPMyyBsO-py3.11/lib/python3.11/site-packages/h2o/expr.py:90\u001B[0m, in \u001B[0;36mExprNode._eager_frame\u001B[0;34m(self)\u001B[0m\n\u001B[1;32m     88\u001B[0m \u001B[38;5;28;01mif\u001B[39;00m \u001B[38;5;129;01mnot\u001B[39;00m \u001B[38;5;28mself\u001B[39m\u001B[38;5;241m.\u001B[39m_cache\u001B[38;5;241m.\u001B[39mis_empty(): \u001B[38;5;28;01mreturn\u001B[39;00m\n\u001B[1;32m     89\u001B[0m \u001B[38;5;28;01mif\u001B[39;00m \u001B[38;5;28mself\u001B[39m\u001B[38;5;241m.\u001B[39m_cache\u001B[38;5;241m.\u001B[39m_id \u001B[38;5;129;01mis\u001B[39;00m \u001B[38;5;129;01mnot\u001B[39;00m \u001B[38;5;28;01mNone\u001B[39;00m: \u001B[38;5;28;01mreturn\u001B[39;00m  \u001B[38;5;66;03m# Data already computed under ID, but not cached locally\u001B[39;00m\n\u001B[0;32m---> 90\u001B[0m \u001B[38;5;28;43mself\u001B[39;49m\u001B[38;5;241;43m.\u001B[39;49m\u001B[43m_eval_driver\u001B[49m\u001B[43m(\u001B[49m\u001B[38;5;124;43m'\u001B[39;49m\u001B[38;5;124;43mframe\u001B[39;49m\u001B[38;5;124;43m'\u001B[39;49m\u001B[43m)\u001B[49m\n",
      "File \u001B[0;32m~/.cache/pypoetry/virtualenvs/dominos-senior-data-scientist-mPMyyBsO-py3.11/lib/python3.11/site-packages/h2o/expr.py:114\u001B[0m, in \u001B[0;36mExprNode._eval_driver\u001B[0;34m(self, top)\u001B[0m\n\u001B[1;32m    107\u001B[0m \u001B[38;5;250m\u001B[39m\u001B[38;5;124;03m\"\"\"\u001B[39;00m\n\u001B[1;32m    108\u001B[0m \u001B[38;5;124;03m:param top: if this is a top expression (providing a final result),\u001B[39;00m\n\u001B[1;32m    109\u001B[0m \u001B[38;5;124;03m    then specifies the expected result type (accepted values = ['frame', 'scalar']),\u001B[39;00m\n\u001B[1;32m    110\u001B[0m \u001B[38;5;124;03m    or None if no object creation is expected.\u001B[39;00m\n\u001B[1;32m    111\u001B[0m \u001B[38;5;124;03m:return: self expr\u001B[39;00m\n\u001B[1;32m    112\u001B[0m \u001B[38;5;124;03m\"\"\"\u001B[39;00m\n\u001B[1;32m    113\u001B[0m exec_str \u001B[38;5;241m=\u001B[39m \u001B[38;5;28mself\u001B[39m\u001B[38;5;241m.\u001B[39m_get_ast_str(top)\n\u001B[0;32m--> 114\u001B[0m res \u001B[38;5;241m=\u001B[39m \u001B[43mExprNode\u001B[49m\u001B[38;5;241;43m.\u001B[39;49m\u001B[43mrapids\u001B[49m\u001B[43m(\u001B[49m\u001B[43mexec_str\u001B[49m\u001B[43m)\u001B[49m\n\u001B[1;32m    115\u001B[0m \u001B[38;5;28;01mif\u001B[39;00m \u001B[38;5;124m'\u001B[39m\u001B[38;5;124mscalar\u001B[39m\u001B[38;5;124m'\u001B[39m \u001B[38;5;129;01min\u001B[39;00m res:\n\u001B[1;32m    116\u001B[0m     \u001B[38;5;28;01mif\u001B[39;00m \u001B[38;5;28misinstance\u001B[39m(res[\u001B[38;5;124m'\u001B[39m\u001B[38;5;124mscalar\u001B[39m\u001B[38;5;124m'\u001B[39m], \u001B[38;5;28mlist\u001B[39m):\n",
      "File \u001B[0;32m~/.cache/pypoetry/virtualenvs/dominos-senior-data-scientist-mPMyyBsO-py3.11/lib/python3.11/site-packages/h2o/expr.py:258\u001B[0m, in \u001B[0;36mExprNode.rapids\u001B[0;34m(expr)\u001B[0m\n\u001B[1;32m    249\u001B[0m \u001B[38;5;129m@staticmethod\u001B[39m\n\u001B[1;32m    250\u001B[0m \u001B[38;5;28;01mdef\u001B[39;00m \u001B[38;5;21mrapids\u001B[39m(expr):\n\u001B[1;32m    251\u001B[0m \u001B[38;5;250m    \u001B[39m\u001B[38;5;124;03m\"\"\"\u001B[39;00m\n\u001B[1;32m    252\u001B[0m \u001B[38;5;124;03m    Execute a Rapids expression.\u001B[39;00m\n\u001B[1;32m    253\u001B[0m \n\u001B[0;32m   (...)\u001B[0m\n\u001B[1;32m    256\u001B[0m \u001B[38;5;124;03m    :returns: The JSON response (as a python dictionary) of the Rapids execution\u001B[39;00m\n\u001B[1;32m    257\u001B[0m \u001B[38;5;124;03m    \"\"\"\u001B[39;00m\n\u001B[0;32m--> 258\u001B[0m     \u001B[38;5;28;01mreturn\u001B[39;00m \u001B[43mh2o\u001B[49m\u001B[38;5;241;43m.\u001B[39;49m\u001B[43mapi\u001B[49m\u001B[43m(\u001B[49m\u001B[38;5;124;43m\"\u001B[39;49m\u001B[38;5;124;43mPOST /99/Rapids\u001B[39;49m\u001B[38;5;124;43m\"\u001B[39;49m\u001B[43m,\u001B[49m\u001B[43m \u001B[49m\u001B[43mdata\u001B[49m\u001B[38;5;241;43m=\u001B[39;49m\u001B[43m{\u001B[49m\u001B[38;5;124;43m\"\u001B[39;49m\u001B[38;5;124;43mast\u001B[39;49m\u001B[38;5;124;43m\"\u001B[39;49m\u001B[43m:\u001B[49m\u001B[43m \u001B[49m\u001B[43mexpr\u001B[49m\u001B[43m,\u001B[49m\u001B[43m \u001B[49m\u001B[38;5;124;43m\"\u001B[39;49m\u001B[38;5;124;43msession_id\u001B[39;49m\u001B[38;5;124;43m\"\u001B[39;49m\u001B[43m:\u001B[49m\u001B[43m \u001B[49m\u001B[43mh2o\u001B[49m\u001B[38;5;241;43m.\u001B[39;49m\u001B[43mconnection\u001B[49m\u001B[43m(\u001B[49m\u001B[43m)\u001B[49m\u001B[38;5;241;43m.\u001B[39;49m\u001B[43msession_id\u001B[49m\u001B[43m}\u001B[49m\u001B[43m)\u001B[49m\n",
      "File \u001B[0;32m~/.cache/pypoetry/virtualenvs/dominos-senior-data-scientist-mPMyyBsO-py3.11/lib/python3.11/site-packages/h2o/h2o.py:123\u001B[0m, in \u001B[0;36mapi\u001B[0;34m(endpoint, data, json, filename, save_to)\u001B[0m\n\u001B[1;32m    121\u001B[0m \u001B[38;5;66;03m# type checks are performed in H2OConnection class\u001B[39;00m\n\u001B[1;32m    122\u001B[0m _check_connection()\n\u001B[0;32m--> 123\u001B[0m \u001B[38;5;28;01mreturn\u001B[39;00m \u001B[43mh2oconn\u001B[49m\u001B[38;5;241;43m.\u001B[39;49m\u001B[43mrequest\u001B[49m\u001B[43m(\u001B[49m\u001B[43mendpoint\u001B[49m\u001B[43m,\u001B[49m\u001B[43m \u001B[49m\u001B[43mdata\u001B[49m\u001B[38;5;241;43m=\u001B[39;49m\u001B[43mdata\u001B[49m\u001B[43m,\u001B[49m\u001B[43m \u001B[49m\u001B[43mjson\u001B[49m\u001B[38;5;241;43m=\u001B[39;49m\u001B[43mjson\u001B[49m\u001B[43m,\u001B[49m\u001B[43m \u001B[49m\u001B[43mfilename\u001B[49m\u001B[38;5;241;43m=\u001B[39;49m\u001B[43mfilename\u001B[49m\u001B[43m,\u001B[49m\u001B[43m \u001B[49m\u001B[43msave_to\u001B[49m\u001B[38;5;241;43m=\u001B[39;49m\u001B[43msave_to\u001B[49m\u001B[43m)\u001B[49m\n",
      "File \u001B[0;32m~/.cache/pypoetry/virtualenvs/dominos-senior-data-scientist-mPMyyBsO-py3.11/lib/python3.11/site-packages/h2o/backend/connection.py:499\u001B[0m, in \u001B[0;36mH2OConnection.request\u001B[0;34m(self, endpoint, data, json, filename, save_to)\u001B[0m\n\u001B[1;32m    497\u001B[0m         save_to \u001B[38;5;241m=\u001B[39m save_to(resp)\n\u001B[1;32m    498\u001B[0m     \u001B[38;5;28mself\u001B[39m\u001B[38;5;241m.\u001B[39m_log_end_transaction(start_time, resp)\n\u001B[0;32m--> 499\u001B[0m     \u001B[38;5;28;01mreturn\u001B[39;00m \u001B[38;5;28;43mself\u001B[39;49m\u001B[38;5;241;43m.\u001B[39;49m\u001B[43m_process_response\u001B[49m\u001B[43m(\u001B[49m\u001B[43mresp\u001B[49m\u001B[43m,\u001B[49m\u001B[43m \u001B[49m\u001B[43msave_to\u001B[49m\u001B[43m)\u001B[49m\n\u001B[1;32m    501\u001B[0m \u001B[38;5;28;01mexcept\u001B[39;00m (requests\u001B[38;5;241m.\u001B[39mexceptions\u001B[38;5;241m.\u001B[39mConnectionError, requests\u001B[38;5;241m.\u001B[39mexceptions\u001B[38;5;241m.\u001B[39mHTTPError) \u001B[38;5;28;01mas\u001B[39;00m e:\n\u001B[1;32m    502\u001B[0m     \u001B[38;5;28;01mif\u001B[39;00m \u001B[38;5;28mself\u001B[39m\u001B[38;5;241m.\u001B[39m_local_server \u001B[38;5;129;01mand\u001B[39;00m \u001B[38;5;129;01mnot\u001B[39;00m \u001B[38;5;28mself\u001B[39m\u001B[38;5;241m.\u001B[39m_local_server\u001B[38;5;241m.\u001B[39mis_running():\n",
      "File \u001B[0;32m~/.cache/pypoetry/virtualenvs/dominos-senior-data-scientist-mPMyyBsO-py3.11/lib/python3.11/site-packages/h2o/backend/connection.py:858\u001B[0m, in \u001B[0;36mH2OConnection._process_response\u001B[0;34m(response, save_to)\u001B[0m\n\u001B[1;32m    853\u001B[0m     \u001B[38;5;28;01mraise\u001B[39;00m H2OResponseError(data)\n\u001B[1;32m    855\u001B[0m \u001B[38;5;66;03m# Server errors (notably 500 = \"Server Error\")\u001B[39;00m\n\u001B[1;32m    856\u001B[0m \u001B[38;5;66;03m# Note that it is possible to receive valid H2OErrorV3 object in this case, however it merely means the server\u001B[39;00m\n\u001B[1;32m    857\u001B[0m \u001B[38;5;66;03m# did not provide the correct status code.\u001B[39;00m\n\u001B[0;32m--> 858\u001B[0m \u001B[38;5;28;01mraise\u001B[39;00m H2OServerError(\u001B[38;5;124m\"\u001B[39m\u001B[38;5;124mHTTP \u001B[39m\u001B[38;5;132;01m%d\u001B[39;00m\u001B[38;5;124m \u001B[39m\u001B[38;5;132;01m%s\u001B[39;00m\u001B[38;5;124m:\u001B[39m\u001B[38;5;130;01m\\n\u001B[39;00m\u001B[38;5;132;01m%s\u001B[39;00m\u001B[38;5;124m\"\u001B[39m \u001B[38;5;241m%\u001B[39m (status_code, response\u001B[38;5;241m.\u001B[39mreason, data))\n",
      "\u001B[0;31mH2OServerError\u001B[0m: HTTP 500 Server Error:\nServer error java.lang.RuntimeException:\n  Error: java.lang.AssertionError: Wrong number of parameters\n  Request: None\n  Stacktrace: java.lang.RuntimeException: java.lang.AssertionError: Wrong number of parameters\n      water.util.Log.throwErr(Log.java:113)\n      water.api.RapidsHandler.exec(RapidsHandler.java:38)\n      sun.reflect.NativeMethodAccessorImpl.invoke0(Native Method)\n      sun.reflect.NativeMethodAccessorImpl.invoke(NativeMethodAccessorImpl.java:62)\n      sun.reflect.DelegatingMethodAccessorImpl.invoke(DelegatingMethodAccessorImpl.java:43)\n      java.lang.reflect.Method.invoke(Method.java:498)\n      water.api.Handler.handle(Handler.java:60)\n      water.api.RequestServer.serve(RequestServer.java:472)\n      water.api.RequestServer.doGeneric(RequestServer.java:303)\n"
     ]
    }
   ],
   "execution_count": 16
  },
  {
   "metadata": {},
   "cell_type": "markdown",
   "source": "# Plot the relationship between unit price and quantity with regression line",
   "id": "29d270dda682c97f"
  },
  {
   "metadata": {},
   "cell_type": "code",
   "source": [
    "plt.figure(figsize=(10, 6))\n",
    "plt.scatter(\n",
    "    individuale_df['unit_price'], \n",
    "    individuale_df['quantity'], \n",
    "    alpha=0.5, \n",
    "    label='Actual Quantity'\n",
    ")\n",
    "plt.scatter(\n",
    "    individuale_df['unit_price'], \n",
    "    individuale_df['predicted_quantity'], \n",
    "    color='red', \n",
    "    alpha=0.5, \n",
    "    label='Predicted Quantity'\n",
    ")\n",
    "plt.plot(\n",
    "    new_unit_prices, \n",
    "    new_predicted_quantities, \n",
    "    color='blue', \n",
    "    linewidth=2, \n",
    "    label='Regression Line'\n",
    ")\n",
    "plt.title('Unit Price vs Quantity with Regression Line')\n",
    "plt.xlabel('Unit Price')\n",
    "plt.ylabel('Quantity')\n",
    "plt.legend()\n",
    "plt.grid(True)\n",
    "plt.show()"
   ],
   "id": "aa0e9633252a4003",
   "outputs": [],
   "execution_count": null
  },
  {
   "metadata": {},
   "cell_type": "markdown",
   "source": "# Plot the gross profit curve",
   "id": "566257e2b0e3edc7"
  },
  {
   "metadata": {},
   "cell_type": "code",
   "source": [
    "plt.figure(figsize=(10, 6))\n",
    "plt.plot(\n",
    "    individuale_df['unit_price'], \n",
    "    individuale_df['gross_profit_predictions'], \n",
    "    label='Gross Profit Curve'\n",
    ")\n",
    "plt.plot(\n",
    "    new_unit_prices, \n",
    "    new_gross_profits, \n",
    "    label='Extended Gross Profit Curve'\n",
    ")\n",
    "plt.scatter(\n",
    "    optimal_price, \n",
    "    max_gross_profit, \n",
    "    color='red', \n",
    "    label=f'Optimal Price: {optimal_price:.2f}'\n",
    ")\n",
    "plt.scatter(\n",
    "    optimal_price_extended, \n",
    "    max_gross_profit_extended, \n",
    "    color='green', \n",
    "    label=f'Extended Optimal Price: {optimal_price_extended:.2f}'\n",
    ")\n",
    "plt.axhline(\n",
    "    y=max_gross_profit_extended, \n",
    "    color='red', linestyle='--', \n",
    "    label=f'Max Gross Profit: {max_gross_profit_extended:.2f}'\n",
    ")\n",
    "plt.title('Gross Profit Curve')\n",
    "plt.xlabel('Unit Price')\n",
    "plt.ylabel('Gross Profit')\n",
    "plt.legend()\n",
    "plt.grid(True)\n",
    "plt.show()"
   ],
   "id": "4ec812ec1e4494b9",
   "outputs": [],
   "execution_count": null
  },
  {
   "metadata": {},
   "cell_type": "markdown",
   "source": "# Shutdown H2O",
   "id": "8c2bd06138a4181"
  },
  {
   "metadata": {},
   "cell_type": "code",
   "source": "h2o.cluster().shutdown()",
   "id": "afd5c9056042d1bc",
   "outputs": [],
   "execution_count": null
  }
 ],
 "metadata": {
  "kernelspec": {
   "display_name": "Python 3",
   "language": "python",
   "name": "python3"
  },
  "language_info": {
   "codemirror_mode": {
    "name": "ipython",
    "version": 2
   },
   "file_extension": ".py",
   "mimetype": "text/x-python",
   "name": "python",
   "nbconvert_exporter": "python",
   "pygments_lexer": "ipython2",
   "version": "2.7.6"
  }
 },
 "nbformat": 4,
 "nbformat_minor": 5
}
