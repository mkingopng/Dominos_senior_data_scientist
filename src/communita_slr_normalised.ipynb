{
 "cells": [
  {
   "cell_type": "code",
   "id": "initial_id",
   "metadata": {
    "collapsed": true,
    "ExecuteTime": {
     "end_time": "2024-08-04T10:34:37.544297Z",
     "start_time": "2024-08-04T10:34:37.542073Z"
    }
   },
   "source": [
    "import statsmodels.api as sm\n",
    "from statsmodels.tools.tools import add_constant\n",
    "import pandas as pd\n",
    "import matplotlib.pyplot as plt\n",
    "import numpy as np\n",
    "import numdifftools as nd\n",
    "from scipy.stats import skew, kurtosis, boxcox\n",
    "from scipy.special import inv_boxcox"
   ],
   "outputs": [],
   "execution_count": 798
  },
  {
   "metadata": {
    "ExecuteTime": {
     "end_time": "2024-08-04T10:34:37.807121Z",
     "start_time": "2024-08-04T10:34:37.803049Z"
    }
   },
   "cell_type": "code",
   "source": "df = pd.read_csv('./../data/price_elasticity_data.csv')",
   "id": "900e7200d97fdc50",
   "outputs": [],
   "execution_count": 799
  },
  {
   "metadata": {
    "ExecuteTime": {
     "end_time": "2024-08-04T10:34:37.891132Z",
     "start_time": "2024-08-04T10:34:37.815668Z"
    }
   },
   "cell_type": "code",
   "source": "df.isnull().sum()",
   "id": "75145f9184aa02c0",
   "outputs": [
    {
     "data": {
      "text/plain": [
       "Product              0\n",
       "Menu_Price           0\n",
       "Pizza_Count          0\n",
       "Profit_Percentage    0\n",
       "dtype: int64"
      ]
     },
     "execution_count": 800,
     "metadata": {},
     "output_type": "execute_result"
    }
   ],
   "execution_count": 800
  },
  {
   "metadata": {},
   "cell_type": "markdown",
   "source": "rename columns",
   "id": "7e4ce0266571c1f1"
  },
  {
   "metadata": {
    "ExecuteTime": {
     "end_time": "2024-08-04T10:34:37.901486Z",
     "start_time": "2024-08-04T10:34:37.892356Z"
    }
   },
   "cell_type": "code",
   "source": [
    "names = {'Menu_Price': 'unit_price', 'Pizza_Count': 'quantity', 'Profit_Percentage': 'profit_percentage'}\n",
    "df.rename(columns=names, inplace=True)"
   ],
   "id": "49bdb50ab445fcde",
   "outputs": [],
   "execution_count": 801
  },
  {
   "metadata": {},
   "cell_type": "markdown",
   "source": "# calculate additional features",
   "id": "efd97edaeb92d41f"
  },
  {
   "metadata": {
    "ExecuteTime": {
     "end_time": "2024-08-04T10:34:37.910382Z",
     "start_time": "2024-08-04T10:34:37.902459Z"
    }
   },
   "cell_type": "code",
   "source": [
    "df['gross_margin'] = df['profit_percentage'] / 100\n",
    "df['gross_profit'] = df['unit_price'] * (1 - df['gross_margin'])\n",
    "df['cost'] = df['unit_price'] - df['gross_profit']"
   ],
   "id": "3f17d9404acd4323",
   "outputs": [],
   "execution_count": 802
  },
  {
   "metadata": {},
   "cell_type": "markdown",
   "source": "# Subset the dataframe for 'Communita' product and create a copy",
   "id": "f131e5ffa842285e"
  },
  {
   "metadata": {
    "ExecuteTime": {
     "end_time": "2024-08-04T10:34:37.915020Z",
     "start_time": "2024-08-04T10:34:37.911728Z"
    }
   },
   "cell_type": "code",
   "source": "communita_df = df[df['Product'] == 'Communita'].copy()",
   "id": "c4d100e81478b220",
   "outputs": [],
   "execution_count": 803
  },
  {
   "metadata": {
    "ExecuteTime": {
     "end_time": "2024-08-04T10:34:37.919560Z",
     "start_time": "2024-08-04T10:34:37.915569Z"
    }
   },
   "cell_type": "code",
   "source": "communita_df.isnull().sum()",
   "id": "f5b673f025dfe795",
   "outputs": [
    {
     "data": {
      "text/plain": [
       "Product              0\n",
       "unit_price           0\n",
       "quantity             0\n",
       "profit_percentage    0\n",
       "gross_margin         0\n",
       "gross_profit         0\n",
       "cost                 0\n",
       "dtype: int64"
      ]
     },
     "execution_count": 804,
     "metadata": {},
     "output_type": "execute_result"
    }
   ],
   "execution_count": 804
  },
  {
   "metadata": {
    "ExecuteTime": {
     "end_time": "2024-08-04T10:34:37.923364Z",
     "start_time": "2024-08-04T10:34:37.921024Z"
    }
   },
   "cell_type": "code",
   "source": "communita_df['unit_price'].max()",
   "id": "c766cf74524e8b11",
   "outputs": [
    {
     "data": {
      "text/plain": [
       "np.float64(25.64)"
      ]
     },
     "execution_count": 805,
     "metadata": {},
     "output_type": "execute_result"
    }
   ],
   "execution_count": 805
  },
  {
   "metadata": {
    "ExecuteTime": {
     "end_time": "2024-08-04T10:34:37.955639Z",
     "start_time": "2024-08-04T10:34:37.952830Z"
    }
   },
   "cell_type": "code",
   "source": [
    "def identify_outliers(df, column):\n",
    "    \"\"\"\n",
    "     Identify outliers in a specified column of a DataFrame using the \n",
    "     Interquartile Range (IQR) method.\n",
    "     \n",
    "     The function calculates the first quartile (Q1) and the third quartile \n",
    "     (Q3) of the specified column. The interquartile range (IQR) is then \n",
    "     computed as the difference between Q3 and Q1.\n",
    "    \n",
    "     Outliers are defined as data points that fall below Q1 - 1.5 * IQR or \n",
    "     above Q3 + 1.5 * IQR. The function returns the rows containing these  \n",
    "     outliers along with the calculated lower and upper bounds.\n",
    "\n",
    "    :param df: \n",
    "    :param column: \n",
    "    :return: tuple: A tuple containing:\n",
    "        - pandas.DataFrame: A DataFrame containing the rows identified as outliers.\n",
    "        - float: The lower bound for identifying outliers.\n",
    "        - float: The upper bound for identifying outliers.\n",
    "    \"\"\"\n",
    "    Q1 = df[column].quantile(0.25)\n",
    "    Q3 = df[column].quantile(0.75)\n",
    "    IQR = Q3 - Q1\n",
    "    lower_bound = Q1 - 1.5 * IQR\n",
    "    upper_bound = Q3 + 1.5 * IQR\n",
    "    return df[(df[column] < lower_bound) | (df[column] > upper_bound)], lower_bound, upper_bound"
   ],
   "id": "16ad3fef2fd40f0e",
   "outputs": [],
   "execution_count": 806
  },
  {
   "metadata": {
    "ExecuteTime": {
     "end_time": "2024-08-04T10:34:37.978431Z",
     "start_time": "2024-08-04T10:34:37.974789Z"
    }
   },
   "cell_type": "code",
   "source": "communita_outliers, comm_lower, comm_upper = identify_outliers(communita_df, 'unit_price')",
   "id": "c432becbae8b37f2",
   "outputs": [],
   "execution_count": 807
  },
  {
   "metadata": {},
   "cell_type": "markdown",
   "source": "remove high side outliers",
   "id": "42772a3e8bf1540c"
  },
  {
   "metadata": {
    "ExecuteTime": {
     "end_time": "2024-08-04T10:34:38.017728Z",
     "start_time": "2024-08-04T10:34:38.014685Z"
    }
   },
   "cell_type": "code",
   "source": "data_no_outliers = communita_df.drop(communita_outliers[communita_outliers['unit_price'] > comm_upper].index)",
   "id": "32778e66ac730deb",
   "outputs": [],
   "execution_count": 808
  },
  {
   "metadata": {},
   "cell_type": "markdown",
   "source": "remove low side outliers",
   "id": "fd7e0d6db58d48d1"
  },
  {
   "metadata": {
    "ExecuteTime": {
     "end_time": "2024-08-04T10:34:38.031974Z",
     "start_time": "2024-08-04T10:34:38.029267Z"
    }
   },
   "cell_type": "code",
   "source": "communita_df = data_no_outliers.drop(communita_outliers[communita_outliers['unit_price'] < comm_lower].index)",
   "id": "8cd8278abb034e63",
   "outputs": [],
   "execution_count": 809
  },
  {
   "metadata": {},
   "cell_type": "markdown",
   "source": [
    "# Apply Box-Cox transformation\n",
    "based on analysis of 13 alternatives in the `EDA_v2` notebook"
   ],
   "id": "2850d7398e510e12"
  },
  {
   "metadata": {
    "ExecuteTime": {
     "end_time": "2024-08-04T10:34:38.046136Z",
     "start_time": "2024-08-04T10:34:38.042690Z"
    }
   },
   "cell_type": "code",
   "source": [
    "def apply_boxcox_and_calculate_stats(df, features):\n",
    "    stats = {}\n",
    "    lambdas = {}\n",
    "    for feature in features:\n",
    "        df[f'BoxCox_{feature}'], fitted_lambda = boxcox(df[feature] + 1)\n",
    "        lambdas[feature] = fitted_lambda\n",
    "        skewness = skew(df[f'BoxCox_{feature}'])\n",
    "        kurt = kurtosis(df[f'BoxCox_{feature}'])\n",
    "        stats[feature] = (skewness, kurt)\n",
    "        print(f\"Feature: {feature}\")\n",
    "        print(f\"Box-Cox Transformed: Skewness = {skewness:.4f}, Kurtosis = {kurt:.4f}\\n\")\n",
    "    return df, stats, lambdas"
   ],
   "id": "c1892c0d2a839a89",
   "outputs": [],
   "execution_count": 810
  },
  {
   "metadata": {
    "ExecuteTime": {
     "end_time": "2024-08-04T10:34:38.077320Z",
     "start_time": "2024-08-04T10:34:38.074924Z"
    }
   },
   "cell_type": "code",
   "source": "features = ['unit_price', 'quantity', 'gross_profit', 'cost']",
   "id": "a6b7e89b5c66de40",
   "outputs": [],
   "execution_count": 811
  },
  {
   "metadata": {
    "ExecuteTime": {
     "end_time": "2024-08-04T10:34:38.108087Z",
     "start_time": "2024-08-04T10:34:38.090058Z"
    }
   },
   "cell_type": "code",
   "source": "communita_df, communita_stats, fitted_lambdas = apply_boxcox_and_calculate_stats(communita_df, features)",
   "id": "b600b030b4971840",
   "outputs": [
    {
     "name": "stdout",
     "output_type": "stream",
     "text": [
      "Feature: unit_price\n",
      "Box-Cox Transformed: Skewness = -0.0152, Kurtosis = -0.3543\n",
      "\n",
      "Feature: quantity\n",
      "Box-Cox Transformed: Skewness = -0.0317, Kurtosis = -0.9968\n",
      "\n",
      "Feature: gross_profit\n",
      "Box-Cox Transformed: Skewness = -0.0040, Kurtosis = 0.4497\n",
      "\n",
      "Feature: cost\n",
      "Box-Cox Transformed: Skewness = -0.0489, Kurtosis = -0.5440\n",
      "\n"
     ]
    }
   ],
   "execution_count": 812
  },
  {
   "metadata": {
    "ExecuteTime": {
     "end_time": "2024-08-04T10:34:38.118830Z",
     "start_time": "2024-08-04T10:34:38.109276Z"
    }
   },
   "cell_type": "code",
   "source": [
    "# Calculate mean cost from the original data\n",
    "mean_cost = np.mean(communita_df['cost'])"
   ],
   "id": "6b1354d4a86f543",
   "outputs": [],
   "execution_count": 813
  },
  {
   "metadata": {},
   "cell_type": "markdown",
   "source": "# Fit linear regression model",
   "id": "e3514f02a71c10d3"
  },
  {
   "metadata": {
    "ExecuteTime": {
     "end_time": "2024-08-04T10:34:38.138346Z",
     "start_time": "2024-08-04T10:34:38.119739Z"
    }
   },
   "cell_type": "code",
   "source": [
    "# extract x and y values\n",
    "x_value = communita_df['BoxCox_unit_price']\n",
    "y_value = communita_df['BoxCox_quantity']\n",
    "\n",
    "# ensure x and y are of the same length\n",
    "assert len(x_value) == len(y_value), \"x and y must have the same length\"\n",
    "\n",
    "# add a constant to the independent variable (unit_price)\n",
    "X = add_constant(x_value)\n",
    "\n",
    "# fit the regression model\n",
    "model = sm.OLS(y_value, X)\n",
    "communita_result = model.fit()\n",
    "\n",
    "# print the summary of the regression model\n",
    "print(communita_result.summary())"
   ],
   "id": "30f9f13f48385da3",
   "outputs": [
    {
     "name": "stdout",
     "output_type": "stream",
     "text": [
      "                            OLS Regression Results                            \n",
      "==============================================================================\n",
      "Dep. Variable:        BoxCox_quantity   R-squared:                       0.686\n",
      "Model:                            OLS   Adj. R-squared:                  0.682\n",
      "Method:                 Least Squares   F-statistic:                     177.1\n",
      "Date:                Sun, 04 Aug 2024   Prob (F-statistic):           4.36e-22\n",
      "Time:                        20:34:38   Log-Likelihood:                -296.64\n",
      "No. Observations:                  83   AIC:                             597.3\n",
      "Df Residuals:                      81   BIC:                             602.1\n",
      "Df Model:                           1                                         \n",
      "Covariance Type:            nonrobust                                         \n",
      "=====================================================================================\n",
      "                        coef    std err          t      P>|t|      [0.025      0.975]\n",
      "-------------------------------------------------------------------------------------\n",
      "const               249.0144      6.499     38.318      0.000     236.084     261.945\n",
      "BoxCox_unit_price    -6.7080      0.504    -13.309      0.000      -7.711      -5.705\n",
      "==============================================================================\n",
      "Omnibus:                       31.218   Durbin-Watson:                   0.593\n",
      "Prob(Omnibus):                  0.000   Jarque-Bera (JB):               70.192\n",
      "Skew:                          -1.318   Prob(JB):                     5.73e-16\n",
      "Kurtosis:                       6.654   Cond. No.                         87.9\n",
      "==============================================================================\n",
      "\n",
      "Notes:\n",
      "[1] Standard Errors assume that the covariance matrix of the errors is correctly specified.\n"
     ]
    }
   ],
   "execution_count": 814
  },
  {
   "metadata": {},
   "cell_type": "markdown",
   "source": [
    "# Analysis\n",
    "Here’s a detailed analysis of the OLS regression results, having removed outliers:"
   ],
   "id": "f8fe119e62216a1d"
  },
  {
   "metadata": {},
   "cell_type": "markdown",
   "source": "# Get the predicted values",
   "id": "efeffd41330cd3f1"
  },
  {
   "metadata": {
    "ExecuteTime": {
     "end_time": "2024-08-04T10:34:38.148365Z",
     "start_time": "2024-08-04T10:34:38.139535Z"
    }
   },
   "cell_type": "code",
   "source": [
    "# Get the predicted values in Box-Cox transformed space\n",
    "predictions = communita_result.predict(X)"
   ],
   "id": "1129e6234e4dd48",
   "outputs": [],
   "execution_count": 815
  },
  {
   "metadata": {
    "ExecuteTime": {
     "end_time": "2024-08-04T10:34:38.164221Z",
     "start_time": "2024-08-04T10:34:38.149513Z"
    }
   },
   "cell_type": "code",
   "source": [
    "# Inverse transform the predictions to the original scale\n",
    "predictions_original = inv_boxcox(predictions, fitted_lambdas['quantity'])"
   ],
   "id": "ce71d328d3888bfe",
   "outputs": [],
   "execution_count": 816
  },
  {
   "metadata": {},
   "cell_type": "markdown",
   "source": "Add predictions to the dataframe",
   "id": "3b4ad48d6a5a2e8c"
  },
  {
   "metadata": {
    "ExecuteTime": {
     "end_time": "2024-08-04T10:34:38.171487Z",
     "start_time": "2024-08-04T10:34:38.165362Z"
    }
   },
   "cell_type": "code",
   "source": "communita_df['predicted_quantities'] = predictions_original",
   "id": "6000c264848d77d9",
   "outputs": [],
   "execution_count": 817
  },
  {
   "metadata": {},
   "cell_type": "markdown",
   "source": "# Create a scatter plot with the regression line based on the original data",
   "id": "dd9c556dc6c98778"
  },
  {
   "metadata": {
    "ExecuteTime": {
     "end_time": "2024-08-04T10:34:38.282060Z",
     "start_time": "2024-08-04T10:34:38.173176Z"
    }
   },
   "cell_type": "code",
   "source": [
    "plt.figure(figsize=(10, 6))\n",
    "plt.scatter(\n",
    "    communita_df['BoxCox_unit_price'], \n",
    "    communita_df['BoxCox_quantity'], \n",
    "    alpha=0.5, \n",
    "    label='Data points'\n",
    ")\n",
    "plt.plot(\n",
    "    communita_df['BoxCox_unit_price'], \n",
    "    predictions, \n",
    "    color='red', \n",
    "    linewidth=2, \n",
    "    label='Regression line'\n",
    ")\n",
    "plt.title('Scatter plot of Unit Price vs Quantity with Regression Line')\n",
    "plt.xlabel('Unit Price')\n",
    "plt.ylabel('Quantity')\n",
    "plt.legend()\n",
    "plt.grid(True)\n",
    "plt.show()"
   ],
   "id": "e46f8e7c03db7a93",
   "outputs": [
    {
     "data": {
      "text/plain": [
       "<Figure size 1000x600 with 1 Axes>"
      ],
      "image/png": "[encoded data removed]"
     },
     "metadata": {},
     "output_type": "display_data"
    }
   ],
   "execution_count": 818
  },
  {
   "metadata": {},
   "cell_type": "markdown",
   "source": "# Analysis\n",
   "id": "61502108ef3c63bf"
  },
  {
   "metadata": {},
   "cell_type": "markdown",
   "source": [
    "The regression line represents the relationship between unit price and quantity demanded as modelled by simple linear regression. We can use it to derive our Price elasticity of demand (PED)\n",
    "\n",
    "The regression line can be expressed as:\n",
    "$$\\text{Quantity} = \\alpha + \\beta \\times \\text{Price}$$\n",
    "\n",
    "where:\n",
    "- $\\alpha$ is the intercept of the line.\n",
    "- $\\beta$ is the slope of the regression line\n",
    "\n",
    "From our regression summary we know that:\n",
    "- $\\alpha = $\n",
    "- $\\beta = $"
   ],
   "id": "be08d43bdbaf3a19"
  },
  {
   "metadata": {
    "ExecuteTime": {
     "end_time": "2024-08-04T10:34:38.284643Z",
     "start_time": "2024-08-04T10:34:38.282736Z"
    }
   },
   "cell_type": "code",
   "source": [
    "# Calculate the gross profit based on the inverse transformed predictions\n",
    "communita_df['gross_profit_predictions'] = (communita_df['unit_price'] - communita_df['cost']) * communita_df['predicted_quantities']"
   ],
   "id": "c3cd05f5413a6e8b",
   "outputs": [],
   "execution_count": 819
  },
  {
   "metadata": {},
   "cell_type": "markdown",
   "source": "# Access alpha and beta directly from the fitted model",
   "id": "63dcb86ddd58fc64"
  },
  {
   "metadata": {
    "ExecuteTime": {
     "end_time": "2024-08-04T10:34:38.288903Z",
     "start_time": "2024-08-04T10:34:38.285112Z"
    }
   },
   "cell_type": "code",
   "source": [
    "alpha = communita_result.params['const']\n",
    "alpha"
   ],
   "id": "6cc93534e2b8ee8e",
   "outputs": [
    {
     "data": {
      "text/plain": [
       "np.float64(249.01443284607052)"
      ]
     },
     "execution_count": 820,
     "metadata": {},
     "output_type": "execute_result"
    }
   ],
   "execution_count": 820
  },
  {
   "metadata": {
    "ExecuteTime": {
     "end_time": "2024-08-04T10:34:38.292712Z",
     "start_time": "2024-08-04T10:34:38.289570Z"
    }
   },
   "cell_type": "code",
   "source": [
    "beta = communita_result.params['BoxCox_unit_price']\n",
    "beta"
   ],
   "id": "6a5b4dfc28a8d3d",
   "outputs": [
    {
     "data": {
      "text/plain": [
       "np.float64(-6.708049726061618)"
      ]
     },
     "execution_count": 821,
     "metadata": {},
     "output_type": "execute_result"
    }
   ],
   "execution_count": 821
  },
  {
   "metadata": {},
   "cell_type": "markdown",
   "source": "# Calculate mean price and mean quantity",
   "id": "2e26e65a78a472b4"
  },
  {
   "metadata": {
    "ExecuteTime": {
     "end_time": "2024-08-04T10:34:38.296170Z",
     "start_time": "2024-08-04T10:34:38.293294Z"
    }
   },
   "cell_type": "code",
   "source": [
    "communita_mean_price = np.mean(communita_df['BoxCox_unit_price'])\n",
    "communita_mean_quantity = np.mean(communita_df['BoxCox_quantity'])"
   ],
   "id": "dc2dfc71100aaf4e",
   "outputs": [],
   "execution_count": 822
  },
  {
   "metadata": {},
   "cell_type": "markdown",
   "source": [
    "# Calculate PED\n",
    "\n",
    "Price elasticity of demand. In general terms we can express this algebraically as:\n",
    "\n",
    "$$\\text{PED} = \\dfrac{\\Delta{Q}/Q}{\\Delta{P}/P}$$\n",
    "\n",
    "Where:\n",
    "- $\\Delta{Q}$ is the change in quantity demanded.\n",
    "- $Q$ is the initial quantity demanded.\n",
    "- $\\Delta{P}$ is the change in price.\n",
    "- $P$ is the initial price."
   ],
   "id": "b2fde0f3de70044d"
  },
  {
   "metadata": {
    "ExecuteTime": {
     "end_time": "2024-08-04T10:34:38.299826Z",
     "start_time": "2024-08-04T10:34:38.296782Z"
    }
   },
   "cell_type": "code",
   "source": [
    "ped = beta * (communita_mean_price / communita_mean_quantity)\n",
    "print(f'Price Elasticity of Demand: {ped}')"
   ],
   "id": "a746ae09ef0faee5",
   "outputs": [
    {
     "name": "stdout",
     "output_type": "stream",
     "text": [
      "Price Elasticity of Demand: -0.5232935100871268\n"
     ]
    }
   ],
   "execution_count": 823
  },
  {
   "metadata": {},
   "cell_type": "markdown",
   "source": "Communita is less elastic and individuale",
   "id": "4492de64e471d1c1"
  },
  {
   "metadata": {},
   "cell_type": "markdown",
   "source": "# Find the price that maximizes gross profit",
   "id": "788b0c7fb580f4f"
  },
  {
   "metadata": {
    "ExecuteTime": {
     "end_time": "2024-08-04T10:34:38.307989Z",
     "start_time": "2024-08-04T10:34:38.306043Z"
    }
   },
   "cell_type": "code",
   "source": [
    "optimal_price = communita_df.loc[communita_df['gross_profit_predictions'].idxmax(), 'unit_price']\n",
    "max_gross_profit = communita_df['gross_profit_predictions'].max()\n",
    "optimal_quantity = communita_df.loc[communita_df['gross_profit_predictions'].idxmax(), 'predicted_quantities']"
   ],
   "id": "23363976d9ba635",
   "outputs": [],
   "execution_count": 824
  },
  {
   "metadata": {
    "ExecuteTime": {
     "end_time": "2024-08-04T10:34:38.320561Z",
     "start_time": "2024-08-04T10:34:38.318874Z"
    }
   },
   "cell_type": "code",
   "source": [
    "# Define the gross profit function based on the regression model in the original space\n",
    "def gross_profit_function(price):\n",
    "    # Box-Cox transform price\n",
    "    boxcox_price = (price + 1) ** fitted_lambdas['unit_price'] - 1\n",
    "    return (price - mean_cost) * (communita_result.params['const'] + communita_result.params['BoxCox_unit_price'] * boxcox_price)\n"
   ],
   "id": "8691c19cd0a98701",
   "outputs": [],
   "execution_count": 825
  },
  {
   "metadata": {},
   "cell_type": "markdown",
   "source": "Calculate the first derivative (slope) at the optimal price",
   "id": "1170ee18394e1cd3"
  },
  {
   "metadata": {
    "ExecuteTime": {
     "end_time": "2024-08-04T10:34:38.421085Z",
     "start_time": "2024-08-04T10:34:38.415885Z"
    }
   },
   "cell_type": "code",
   "source": [
    "derivative_function = nd.Derivative(gross_profit_function)\n",
    "slope_at_optimal_price = derivative_function(optimal_price)"
   ],
   "id": "fdbf85c6ae4b78cb",
   "outputs": [],
   "execution_count": 826
  },
  {
   "metadata": {},
   "cell_type": "markdown",
   "source": "first derivative line, given point and slope",
   "id": "d356c7648f5458f4"
  },
  {
   "metadata": {
    "ExecuteTime": {
     "end_time": "2024-08-04T10:34:38.442543Z",
     "start_time": "2024-08-04T10:34:38.440205Z"
    }
   },
   "cell_type": "code",
   "source": [
    "# Given point and slope\n",
    "x1, y1 = 16.99, 35.59  # Optimal price and maximum gross profit\n",
    "slope = 60.03270030188872  # Slope of the gross profit function at optimal price\n",
    "intercept = y1 - slope * x1  # Calculate y-intercept\n",
    "\n",
    "# Generate x values for the line\n",
    "x_vals = np.linspace(communita_df['unit_price'].min(), communita_df['unit_price'].max(), 100)  \n",
    "\n",
    "# Calculate y values using the line equation\n",
    "y_vals = slope * x_vals + intercept  "
   ],
   "id": "4a19e8a39fb5bf46",
   "outputs": [],
   "execution_count": 827
  },
  {
   "metadata": {},
   "cell_type": "markdown",
   "source": "# Plot the transformed gross profit curve",
   "id": "a88e440b317327d8"
  },
  {
   "metadata": {
    "ExecuteTime": {
     "end_time": "2024-08-04T10:34:38.690719Z",
     "start_time": "2024-08-04T10:34:38.472630Z"
    }
   },
   "cell_type": "code",
   "source": [
    "plt.figure(figsize=(10, 6))\n",
    "plt.plot(\n",
    "    communita_df['unit_price'], \n",
    "    predictions_original, \n",
    "    label='Gross Profit Curve'\n",
    ")\n",
    "plt.scatter(\n",
    "    optimal_price, \n",
    "    max_gross_profit, \n",
    "    color='red', \n",
    "    label=f'Optimal Price: {optimal_price:.2f}'\n",
    ")\n",
    "plt.plot(\n",
    "    x_vals, \n",
    "    y_vals, \n",
    "    color='red', \n",
    "    linestyle='--', \n",
    "    label=f'Tangent Line at Optimal Price'\n",
    ")  # fix_me\n",
    "plt.title('Gross Profit Curve (transformed and outliers removed)')\n",
    "plt.xlabel('Unit Price')\n",
    "plt.ylabel('Gross Profit')\n",
    "plt.legend()\n",
    "plt.grid(True)\n",
    "plt.show()"
   ],
   "id": "39b37a08fccd1a54",
   "outputs": [
    {
     "data": {
      "text/plain": [
       "<Figure size 1000x600 with 1 Axes>"
      ],
      "image/png": "[encoded data removed]"
     },
     "metadata": {},
     "output_type": "display_data"
    }
   ],
   "execution_count": 828
  },
  {
   "metadata": {},
   "cell_type": "markdown",
   "source": "",
   "id": "2a0ceb2c3f83ca76"
  },
  {
   "metadata": {},
   "cell_type": "markdown",
   "source": "Print the optimal price and slope at that point",
   "id": "7aee72157b3e6eda"
  },
  {
   "metadata": {
    "ExecuteTime": {
     "end_time": "2024-08-04T10:34:38.693485Z",
     "start_time": "2024-08-04T10:34:38.691455Z"
    }
   },
   "cell_type": "code",
   "source": [
    "print(f'Optimal Price (Original): {round(optimal_price, 2)}')\n",
    "print(f'Optimal Quantity (Original): {round(optimal_quantity, 0)}')\n",
    "print(f'Maximum Gross Profit: {round(max_gross_profit, 2)}')  # fix_me\n",
    "print(f'Slope of the Gross Profit Function at Optimal Price: {slope_at_optimal_price}')  # fix_me"
   ],
   "id": "32832e991f080983",
   "outputs": [
    {
     "name": "stdout",
     "output_type": "stream",
     "text": [
      "Optimal Price (Original): 16.99\n",
      "Optimal Quantity (Original): 4.0\n",
      "Maximum Gross Profit: 35.59\n",
      "Slope of the Gross Profit Function at Optimal Price: 60.03270030188872\n"
     ]
    }
   ],
   "execution_count": 829
  },
  {
   "metadata": {},
   "cell_type": "markdown",
   "source": "# Analysis\n",
   "id": "6dea7e1a2a5fb688"
  },
  {
   "metadata": {},
   "cell_type": "markdown",
   "source": [
    "# Extend the predictions\n",
    "Create a new range of unit prices extending beyond the observed data"
   ],
   "id": "86717eeb8510bd30"
  },
  {
   "metadata": {
    "ExecuteTime": {
     "end_time": "2024-08-04T10:34:38.703586Z",
     "start_time": "2024-08-04T10:34:38.693983Z"
    }
   },
   "cell_type": "code",
   "source": [
    "new_unit_prices = np.linspace(communita_df['unit_price'].min(), 40, 100)\n",
    "new_X = sm.add_constant(new_unit_prices)"
   ],
   "id": "6e9ecb10ce2063d0",
   "outputs": [],
   "execution_count": 830
  },
  {
   "metadata": {},
   "cell_type": "markdown",
   "source": "Predict the quantities for the new range of unit prices",
   "id": "9e3221edea6bbbd5"
  },
  {
   "metadata": {
    "ExecuteTime": {
     "end_time": "2024-08-04T10:34:38.714180Z",
     "start_time": "2024-08-04T10:34:38.704318Z"
    }
   },
   "cell_type": "code",
   "source": "new_predictions = communita_result.predict(new_X)",
   "id": "23ad57f4fda2ff83",
   "outputs": [],
   "execution_count": 831
  },
  {
   "metadata": {},
   "cell_type": "markdown",
   "source": "Calculate the gross profit for the new unit prices. Assuming cost remains constant, using the mean cost from the original data",
   "id": "38f88be4fca2fd6c"
  },
  {
   "metadata": {
    "ExecuteTime": {
     "end_time": "2024-08-04T10:34:38.724522Z",
     "start_time": "2024-08-04T10:34:38.714624Z"
    }
   },
   "cell_type": "code",
   "source": "new_gross_profits = (new_unit_prices - mean_cost) * new_predictions",
   "id": "36fd3be9e59bef76",
   "outputs": [],
   "execution_count": 832
  },
  {
   "metadata": {},
   "cell_type": "markdown",
   "source": "Find the price that maximizes gross profit",
   "id": "1e69226f54c317fa"
  },
  {
   "metadata": {
    "ExecuteTime": {
     "end_time": "2024-08-04T10:34:38.728371Z",
     "start_time": "2024-08-04T10:34:38.725081Z"
    }
   },
   "cell_type": "code",
   "source": [
    "max_index = np.argmax(new_gross_profits)\n",
    "optimal_price_extended = new_unit_prices[np.argmax(new_gross_profits)]\n",
    "max_gross_profit_extended = new_gross_profits.max()\n",
    "optimal_quantity_extended = new_predictions[max_index]"
   ],
   "id": "8bd5a4fefe1ebb3b",
   "outputs": [],
   "execution_count": 833
  },
  {
   "metadata": {
    "ExecuteTime": {
     "end_time": "2024-08-04T10:34:38.732064Z",
     "start_time": "2024-08-04T10:34:38.728866Z"
    }
   },
   "cell_type": "code",
   "source": [
    "def extended_gross_profit_function(price):\n",
    "    \"\"\"\n",
    "    Define the gross profit function based on the regression model\n",
    "    :param price: \n",
    "    :return: \n",
    "    \"\"\"\n",
    "    return (price - mean_cost) * (alpha + beta * price)"
   ],
   "id": "377438859ce252d",
   "outputs": [],
   "execution_count": 834
  },
  {
   "metadata": {},
   "cell_type": "markdown",
   "source": "Calculate the first derivative (slope) at the optimal price",
   "id": "fe3434ea6db9d834"
  },
  {
   "metadata": {
    "ExecuteTime": {
     "end_time": "2024-08-04T10:34:38.736249Z",
     "start_time": "2024-08-04T10:34:38.732527Z"
    }
   },
   "cell_type": "code",
   "source": [
    "derivative_function = nd.Derivative(extended_gross_profit_function)\n",
    "slope_at_optimal_price_extended = derivative_function(optimal_price_extended)"
   ],
   "id": "a720fa85f238a904",
   "outputs": [],
   "execution_count": 835
  },
  {
   "metadata": {},
   "cell_type": "markdown",
   "source": "# Plot the extended gross profit curve",
   "id": "6f6634513bb31a58"
  },
  {
   "metadata": {
    "ExecuteTime": {
     "end_time": "2024-08-04T10:34:38.843766Z",
     "start_time": "2024-08-04T10:34:38.736717Z"
    }
   },
   "cell_type": "code",
   "source": [
    "plt.figure(figsize=(10, 6))\n",
    "plt.plot(\n",
    "    new_unit_prices, \n",
    "    new_gross_profits, \n",
    "    label='Gross Profit Curve'\n",
    ")\n",
    "plt.scatter(\n",
    "    optimal_price_extended, \n",
    "    max_gross_profit_extended, \n",
    "    color='red', \n",
    "    label=f'Optimal Price: {optimal_price_extended:.2f}'\n",
    ")\n",
    "plt.axhline(\n",
    "    y=max_gross_profit_extended, \n",
    "    color='red', \n",
    "    linestyle='--', \n",
    "    label=f'First derivative slope: {slope_at_optimal_price_extended:.4f}'  # fix_me\n",
    ")\n",
    "plt.title('Gross Profit Curve (Extended)')\n",
    "plt.xlabel('Unit Price')\n",
    "plt.ylabel('Gross Profit')\n",
    "plt.legend()\n",
    "plt.grid(True)\n",
    "# plt.savefig('./../plots/communita_ext_gp_curve')\n",
    "plt.show()"
   ],
   "id": "bb0a2f50e4c31109",
   "outputs": [
    {
     "data": {
      "text/plain": [
       "<Figure size 1000x600 with 1 Axes>"
      ],
      "image/png": "[encoded data removed]"
     },
     "metadata": {},
     "output_type": "display_data"
    }
   ],
   "execution_count": 836
  },
  {
   "metadata": {},
   "cell_type": "markdown",
   "source": [
    "# Analysis\n",
    "the optimal price is significantly reduced by excluding outliers. This seems more realistic\n"
   ],
   "id": "838cc88c25f7a841"
  },
  {
   "metadata": {},
   "cell_type": "markdown",
   "source": "# Print the optimal price and maximum gross profit",
   "id": "cb893d1918a1729a"
  },
  {
   "metadata": {
    "ExecuteTime": {
     "end_time": "2024-08-04T10:34:38.846652Z",
     "start_time": "2024-08-04T10:34:38.844653Z"
    }
   },
   "cell_type": "code",
   "source": [
    "print(f'Optimal Price (Extended): {round(optimal_price_extended, 2)}')\n",
    "print(f'Optimal Quantity (Extended): {round(optimal_quantity_extended, 2)}')\n",
    "print(f'Maximum Gross Profit (Extended): {max_gross_profit_extended}')\n",
    "print(f'Slope of the Gross Profit Function at Optimal Price (Extended): {slope_at_optimal_price_extended}')  # fix_me"
   ],
   "id": "1c6f78eefa3dce8b",
   "outputs": [
    {
     "name": "stdout",
     "output_type": "stream",
     "text": [
      "Optimal Price (Extended): 21.43\n",
      "Optimal Quantity (Extended): 105.25\n",
      "Maximum Gross Profit (Extended): 1665.3121266525327\n",
      "Slope of the Gross Profit Function at Optimal Price (Extended): -0.8902836851121034\n"
     ]
    }
   ],
   "execution_count": 837
  },
  {
   "metadata": {},
   "cell_type": "markdown",
   "source": [
    "# Analysis\n",
    "So, on the face of it, the optimal price point is 21.73 which is confirmed by the slope of the first derivative, which is very close to 0. \n",
    "\n",
    "However, because we're making predictions outside the dataset, it can only be considered a hypothesis at this point. We have no data to substantiate it. We should set up an experiment to gather more data about sales quantities at higher price points.\n",
    "\n",
    "- Hypothesis ($H_1$): The optimal unit price that maximises gross profit is 21.73\n",
    "- Null Hypothesis ($H_0$): The optimal unit price that maximises gross profit is different from 21.73"
   ],
   "id": "1c702410ac03d46f"
  },
  {
   "metadata": {
    "ExecuteTime": {
     "end_time": "2024-08-04T10:34:38.850511Z",
     "start_time": "2024-08-04T10:34:38.847162Z"
    }
   },
   "cell_type": "code",
   "source": [
    "# todo: use plotly for the graphs we we can see price and quantity at different points using hover text, \n",
    "# todo: update analysis"
   ],
   "id": "e2de27222db1e1d5",
   "outputs": [],
   "execution_count": 838
  }
 ],
 "metadata": {
  "kernelspec": {
   "display_name": "Python 3",
   "language": "python",
   "name": "python3"
  },
  "language_info": {
   "codemirror_mode": {
    "name": "ipython",
    "version": 2
   },
   "file_extension": ".py",
   "mimetype": "text/x-python",
   "name": "python",
   "nbconvert_exporter": "python",
   "pygments_lexer": "ipython2",
   "version": "2.7.6"
  }
 },
 "nbformat": 4,
 "nbformat_minor": 5
}
